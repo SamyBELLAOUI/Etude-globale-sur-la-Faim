{
 "cells": [
  {
   "attachments": {},
   "cell_type": "markdown",
   "id": "b786bfa4",
   "metadata": {},
   "source": [
    "# <a href=\"#C1\">Hunger Study - Global and national impact"
   ]
  },
  {
   "attachments": {},
   "cell_type": "markdown",
   "id": "242e4049",
   "metadata": {},
   "source": [
    "###  **Description** : \n",
    "Conduct a large-scale study on the theme of malnutrition worldwide using data from the Food and Agriculture Organization of the United Nations (FAO). The data is distributed in 4 CSV files:\n",
    "- Undernourishment\n",
    "- Population between 2013-2018\n",
    "- Food aid\n",
    "- Food availability for the year 2013\n",
    "\n",
    "### **Objective, analyze the 4 files to answer the following questions:**\n",
    "#### I) Data Glossary :\n",
    "- a) Establish the link between the 10 variables expressed in thousands of tons on the uses of domestic availability.\n",
    "- b) How are cereals used for human vs. animal consumption ?\n",
    "- c) Cassava (manioc) in Thailand: how is it used and distributed, particularly in terms of exports and production?\n",
    "\n",
    "#### II) Insights related to 2017 :\n",
    "\n",
    "- a) Proportion of undernourished people - 2017\n",
    "- b) Theoretical number of people who could be fed.\n",
    "- c)The same of question II.b) for the availability of plant products.\n",
    "- d) The portion allocated to animal feed,\n",
    " - la part qui est attribuée à l’alimentation animale,\n",
    " - The portion lost,\n",
    " - The portion actually used for human consumption.\n",
    " \n",
    " \n",
    " #### III) Global food situation: worst-hit countries and aid measures since 2013 :\n",
    " - a) Countries with the highest proportion of undernourished people in 2017.\n",
    " - b) Countries that have received the most aid since 2013. \n",
    " - c) Countries with the highest/lowest food availability per capita\n",
    " - d) Other useful insights to highlight countries that appear to be facing the most difficulties in terms of food.\n",
    " \n",
    " ### IV) Geospatial mapping\n",
    " \n",
    " ### The main steps followed to conduct the analysis:\n",
    "- Data collection\n",
    "- Data cleaning\n",
    "- File merging\n",
    "- Data analysis"
   ]
  },
  {
   "attachments": {},
   "cell_type": "markdown",
   "id": "b86ccf51",
   "metadata": {},
   "source": [
    "## Collect data"
   ]
  },
  {
   "cell_type": "code",
   "execution_count": 1,
   "id": "964e69ea",
   "metadata": {},
   "outputs": [],
   "source": [
    "# Import the necessary libraries\n",
    "import pandas as pd\n",
    "import matplotlib.pyplot as plt"
   ]
  },
  {
   "cell_type": "code",
   "execution_count": 2,
   "id": "fb28fd2b",
   "metadata": {},
   "outputs": [],
   "source": [
    "# Import 4 CSV files\n",
    "data_sn = pd.read_csv('sous_nutrition.csv', sep=',')\n",
    "data_pop = pd.read_csv('population.csv', sep=',')\n",
    "data_aa = pd.read_csv('aide_alimentaire.csv')\n",
    "data_dispo = pd.read_csv('dispo_alimentaire.csv')"
   ]
  },
  {
   "attachments": {},
   "cell_type": "markdown",
   "id": "fcf87261",
   "metadata": {},
   "source": [
    "## Data cleaning"
   ]
  },
  {
   "attachments": {},
   "cell_type": "markdown",
   "id": "85db7ac7",
   "metadata": {},
   "source": [
    "We need to harmonize the column names in our files in order to better manage future joins and measurement units.\n",
    "- The column \"Pays bénéficiaire\" in the food aid file will be renamed to \"Zone\".\n",
    "- The column \"Valeur\" in the food aid file will be renamed to \"Value_fa_kg\".\n",
    "- The column \"Valeur\" in the undernutrition file will be renamed to \"Value_un\".\n",
    "- The column \"Valeur\" in the population file will be renamed to \"Value_pop\".\n",
    "#### Units :\n",
    "- The Values in the undernutrition file are expressed in millions of people, let's convert them to number of people.\n",
    "- The Values in the population file are expressed in thousands of people, let's convert them to number of people.\n",
    "- The Values in the food aid file are expressed in tons, let's convert them to kg (kilogramms)."
   ]
  },
  {
   "cell_type": "code",
   "execution_count": 3,
   "id": "0c291bb0",
   "metadata": {},
   "outputs": [],
   "source": [
    "# Rename columns\n",
    "data_sn.rename(columns={\"Valeur\": \"Valeur_sn\"}, inplace=True)\n",
    "data_pop.rename(columns={\"Valeur\": \"Valeur_pop\"}, inplace=True)\n",
    "data_aa.rename(columns={\"Pays bénéficiaire\": \"Zone\"}, inplace=True)\n",
    "data_aa.rename(columns={\"Valeur\": \"Valeur_aa_kg\"}, inplace=True)"
   ]
  },
  {
   "attachments": {},
   "cell_type": "markdown",
   "id": "6d72eee5",
   "metadata": {},
   "source": [
    "### Type de données"
   ]
  },
  {
   "cell_type": "code",
   "execution_count": 4,
   "id": "b38a9399",
   "metadata": {},
   "outputs": [
    {
     "name": "stdout",
     "output_type": "stream",
     "text": [
      "<class 'pandas.core.frame.DataFrame'>\n",
      "RangeIndex: 1218 entries, 0 to 1217\n",
      "Data columns (total 3 columns):\n",
      " #   Column     Non-Null Count  Dtype \n",
      "---  ------     --------------  ----- \n",
      " 0   Zone       1218 non-null   object\n",
      " 1   Année      1218 non-null   object\n",
      " 2   Valeur_sn  624 non-null    object\n",
      "dtypes: object(3)\n",
      "memory usage: 28.7+ KB\n"
     ]
    }
   ],
   "source": [
    "data_sn.info()"
   ]
  },
  {
   "attachments": {},
   "cell_type": "markdown",
   "id": "2c1689f2",
   "metadata": {},
   "source": [
    "- Le type de données pour les colonnes Année et Valeur doit être changé ainsi que le format de Année.\n",
    "- 594 valeurs manquantes"
   ]
  },
  {
   "cell_type": "code",
   "execution_count": 5,
   "id": "79eec290",
   "metadata": {},
   "outputs": [
    {
     "name": "stdout",
     "output_type": "stream",
     "text": [
      "<class 'pandas.core.frame.DataFrame'>\n",
      "RangeIndex: 1218 entries, 0 to 1217\n",
      "Data columns (total 3 columns):\n",
      " #   Column     Non-Null Count  Dtype  \n",
      "---  ------     --------------  -----  \n",
      " 0   Zone       1218 non-null   object \n",
      " 1   Année      1218 non-null   int32  \n",
      " 2   Valeur_sn  624 non-null    float64\n",
      "dtypes: float64(1), int32(1), object(1)\n",
      "memory usage: 23.9+ KB\n"
     ]
    }
   ],
   "source": [
    "# Change year format to yyyy\n",
    "modif_annee_sn = {'2012-2014':2013, '2013-2015':2014, '2014-2016':2015, '2015-2017':2016, '2016-2018':2017, '2017-2019':2018}\n",
    "data_sn[\"Année\"].replace(modif_annee_sn, inplace=True)\n",
    "# Change type of Year column\n",
    "data_sn[\"Année\"] = data_sn[\"Année\"].astype(int)\n",
    "# Delete \"<\" symbol\n",
    "data_sn.loc[data_sn[\"Valeur_sn\"] == \"<0.1\", \"Valeur_sn\"] = 0\n",
    "# Value column type modification.\n",
    "data_sn[\"Valeur_sn\"] = data_sn[\"Valeur_sn\"].astype(float)\n",
    "# Check\n",
    "data_sn.info()"
   ]
  },
  {
   "cell_type": "code",
   "execution_count": 6,
   "id": "2e7bee99",
   "metadata": {},
   "outputs": [
    {
     "name": "stdout",
     "output_type": "stream",
     "text": [
      "<class 'pandas.core.frame.DataFrame'>\n",
      "RangeIndex: 1416 entries, 0 to 1415\n",
      "Data columns (total 3 columns):\n",
      " #   Column      Non-Null Count  Dtype  \n",
      "---  ------      --------------  -----  \n",
      " 0   Zone        1416 non-null   object \n",
      " 1   Année       1416 non-null   int64  \n",
      " 2   Valeur_pop  1416 non-null   float64\n",
      "dtypes: float64(1), int64(1), object(1)\n",
      "memory usage: 33.3+ KB\n"
     ]
    }
   ],
   "source": [
    "data_pop.info()"
   ]
  },
  {
   "cell_type": "code",
   "execution_count": 7,
   "id": "13c948cc",
   "metadata": {},
   "outputs": [
    {
     "name": "stdout",
     "output_type": "stream",
     "text": [
      "<class 'pandas.core.frame.DataFrame'>\n",
      "RangeIndex: 1475 entries, 0 to 1474\n",
      "Data columns (total 4 columns):\n",
      " #   Column        Non-Null Count  Dtype \n",
      "---  ------        --------------  ----- \n",
      " 0   Zone          1475 non-null   object\n",
      " 1   Année         1475 non-null   int64 \n",
      " 2   Produit       1475 non-null   object\n",
      " 3   Valeur_aa_kg  1475 non-null   int64 \n",
      "dtypes: int64(2), object(2)\n",
      "memory usage: 46.2+ KB\n"
     ]
    }
   ],
   "source": [
    "data_aa.info()"
   ]
  },
  {
   "cell_type": "code",
   "execution_count": 8,
   "id": "3fb553b4",
   "metadata": {},
   "outputs": [],
   "source": [
    "# Modify units\n",
    "data_sn[\"Valeur_sn\"] = data_sn[\"Valeur_sn\"]*10**6\n",
    "data_pop[\"Valeur_pop\"] = data_pop[\"Valeur_pop\"]*10**3\n",
    "data_aa[\"Valeur_aa_kg\"] = data_aa[\"Valeur_aa_kg\"]*1000"
   ]
  },
  {
   "attachments": {},
   "cell_type": "markdown",
   "id": "fe55eb2c",
   "metadata": {},
   "source": [
    "# Undernourishment file"
   ]
  },
  {
   "cell_type": "code",
   "execution_count": 9,
   "id": "80fe4bac",
   "metadata": {},
   "outputs": [
    {
     "data": {
      "text/html": [
       "<div>\n",
       "<style scoped>\n",
       "    .dataframe tbody tr th:only-of-type {\n",
       "        vertical-align: middle;\n",
       "    }\n",
       "\n",
       "    .dataframe tbody tr th {\n",
       "        vertical-align: top;\n",
       "    }\n",
       "\n",
       "    .dataframe thead th {\n",
       "        text-align: right;\n",
       "    }\n",
       "</style>\n",
       "<table border=\"1\" class=\"dataframe\">\n",
       "  <thead>\n",
       "    <tr style=\"text-align: right;\">\n",
       "      <th></th>\n",
       "      <th>Année</th>\n",
       "      <th>Valeur_sn</th>\n",
       "    </tr>\n",
       "    <tr>\n",
       "      <th>Zone</th>\n",
       "      <th></th>\n",
       "      <th></th>\n",
       "    </tr>\n",
       "  </thead>\n",
       "  <tbody>\n",
       "    <tr>\n",
       "      <th>Argentine</th>\n",
       "      <td>1</td>\n",
       "      <td>0</td>\n",
       "    </tr>\n",
       "    <tr>\n",
       "      <th>Ukraine</th>\n",
       "      <td>3</td>\n",
       "      <td>0</td>\n",
       "    </tr>\n",
       "    <tr>\n",
       "      <th>Tunisie</th>\n",
       "      <td>4</td>\n",
       "      <td>0</td>\n",
       "    </tr>\n",
       "    <tr>\n",
       "      <th>Samoa</th>\n",
       "      <td>5</td>\n",
       "      <td>0</td>\n",
       "    </tr>\n",
       "    <tr>\n",
       "      <th>Kazakhstan</th>\n",
       "      <td>5</td>\n",
       "      <td>0</td>\n",
       "    </tr>\n",
       "    <tr>\n",
       "      <th>...</th>\n",
       "      <td>...</td>\n",
       "      <td>...</td>\n",
       "    </tr>\n",
       "    <tr>\n",
       "      <th>Fédération de Russie</th>\n",
       "      <td>6</td>\n",
       "      <td>0</td>\n",
       "    </tr>\n",
       "    <tr>\n",
       "      <th>France</th>\n",
       "      <td>6</td>\n",
       "      <td>0</td>\n",
       "    </tr>\n",
       "    <tr>\n",
       "      <th>Finlande</th>\n",
       "      <td>6</td>\n",
       "      <td>0</td>\n",
       "    </tr>\n",
       "    <tr>\n",
       "      <th>Espagne</th>\n",
       "      <td>6</td>\n",
       "      <td>0</td>\n",
       "    </tr>\n",
       "    <tr>\n",
       "      <th>Îles Marshall</th>\n",
       "      <td>6</td>\n",
       "      <td>0</td>\n",
       "    </tr>\n",
       "  </tbody>\n",
       "</table>\n",
       "<p>101 rows × 2 columns</p>\n",
       "</div>"
      ],
      "text/plain": [
       "                      Année  Valeur_sn\n",
       "Zone                                  \n",
       "Argentine                 1          0\n",
       "Ukraine                   3          0\n",
       "Tunisie                   4          0\n",
       "Samoa                     5          0\n",
       "Kazakhstan                5          0\n",
       "...                     ...        ...\n",
       "Fédération de Russie      6          0\n",
       "France                    6          0\n",
       "Finlande                  6          0\n",
       "Espagne                   6          0\n",
       "Îles Marshall             6          0\n",
       "\n",
       "[101 rows x 2 columns]"
      ]
     },
     "execution_count": 9,
     "metadata": {},
     "output_type": "execute_result"
    }
   ],
   "source": [
    "# Count NaNs per country in the Year column.\n",
    "df = data_sn[data_sn[\"Valeur_sn\"].isnull()].groupby(\"Zone\").count().sort_values(\"Année\")\n",
    "df"
   ]
  },
  {
   "attachments": {},
   "cell_type": "markdown",
   "id": "cb385f4b",
   "metadata": {},
   "source": [
    "We can see that we have countries where the Year column is empty for all years between 2013 and 2017 (\"Année\" = 6) and others where values are missing between 1 and 5 times. We will replace by :\n",
    "- by their respective medians for countries with between 1 and 3 missing values (NaN)\n",
    "- by 0 for all other countries"
   ]
  },
  {
   "cell_type": "code",
   "execution_count": 10,
   "id": "879333c9",
   "metadata": {},
   "outputs": [
    {
     "data": {
      "text/html": [
       "<div>\n",
       "<style scoped>\n",
       "    .dataframe tbody tr th:only-of-type {\n",
       "        vertical-align: middle;\n",
       "    }\n",
       "\n",
       "    .dataframe tbody tr th {\n",
       "        vertical-align: top;\n",
       "    }\n",
       "\n",
       "    .dataframe thead th {\n",
       "        text-align: right;\n",
       "    }\n",
       "</style>\n",
       "<table border=\"1\" class=\"dataframe\">\n",
       "  <thead>\n",
       "    <tr style=\"text-align: right;\">\n",
       "      <th></th>\n",
       "      <th>Zone</th>\n",
       "      <th>Année</th>\n",
       "      <th>Valeur_sn</th>\n",
       "    </tr>\n",
       "  </thead>\n",
       "  <tbody>\n",
       "    <tr>\n",
       "      <th>54</th>\n",
       "      <td>Argentine</td>\n",
       "      <td>2013</td>\n",
       "      <td>1200000.0</td>\n",
       "    </tr>\n",
       "    <tr>\n",
       "      <th>55</th>\n",
       "      <td>Argentine</td>\n",
       "      <td>2014</td>\n",
       "      <td>NaN</td>\n",
       "    </tr>\n",
       "    <tr>\n",
       "      <th>56</th>\n",
       "      <td>Argentine</td>\n",
       "      <td>2015</td>\n",
       "      <td>1100000.0</td>\n",
       "    </tr>\n",
       "    <tr>\n",
       "      <th>57</th>\n",
       "      <td>Argentine</td>\n",
       "      <td>2016</td>\n",
       "      <td>1300000.0</td>\n",
       "    </tr>\n",
       "    <tr>\n",
       "      <th>58</th>\n",
       "      <td>Argentine</td>\n",
       "      <td>2017</td>\n",
       "      <td>1500000.0</td>\n",
       "    </tr>\n",
       "    <tr>\n",
       "      <th>59</th>\n",
       "      <td>Argentine</td>\n",
       "      <td>2018</td>\n",
       "      <td>1700000.0</td>\n",
       "    </tr>\n",
       "    <tr>\n",
       "      <th>1170</th>\n",
       "      <td>Ukraine</td>\n",
       "      <td>2013</td>\n",
       "      <td>NaN</td>\n",
       "    </tr>\n",
       "    <tr>\n",
       "      <th>1171</th>\n",
       "      <td>Ukraine</td>\n",
       "      <td>2014</td>\n",
       "      <td>NaN</td>\n",
       "    </tr>\n",
       "    <tr>\n",
       "      <th>1172</th>\n",
       "      <td>Ukraine</td>\n",
       "      <td>2015</td>\n",
       "      <td>1300000.0</td>\n",
       "    </tr>\n",
       "    <tr>\n",
       "      <th>1173</th>\n",
       "      <td>Ukraine</td>\n",
       "      <td>2016</td>\n",
       "      <td>NaN</td>\n",
       "    </tr>\n",
       "    <tr>\n",
       "      <th>1174</th>\n",
       "      <td>Ukraine</td>\n",
       "      <td>2017</td>\n",
       "      <td>1500000.0</td>\n",
       "    </tr>\n",
       "    <tr>\n",
       "      <th>1175</th>\n",
       "      <td>Ukraine</td>\n",
       "      <td>2018</td>\n",
       "      <td>1600000.0</td>\n",
       "    </tr>\n",
       "  </tbody>\n",
       "</table>\n",
       "</div>"
      ],
      "text/plain": [
       "           Zone  Année  Valeur_sn\n",
       "54    Argentine   2013  1200000.0\n",
       "55    Argentine   2014        NaN\n",
       "56    Argentine   2015  1100000.0\n",
       "57    Argentine   2016  1300000.0\n",
       "58    Argentine   2017  1500000.0\n",
       "59    Argentine   2018  1700000.0\n",
       "1170    Ukraine   2013        NaN\n",
       "1171    Ukraine   2014        NaN\n",
       "1172    Ukraine   2015  1300000.0\n",
       "1173    Ukraine   2016        NaN\n",
       "1174    Ukraine   2017  1500000.0\n",
       "1175    Ukraine   2018  1600000.0"
      ]
     },
     "execution_count": 10,
     "metadata": {},
     "output_type": "execute_result"
    }
   ],
   "source": [
    "# List of countries not affected by the 0 replacement \n",
    "liste = {\"Argentine\", \"Ukraine\"}\n",
    "data_sn[data_sn[\"Zone\"].isin(liste)]"
   ]
  },
  {
   "cell_type": "code",
   "execution_count": 11,
   "id": "b8053cb2",
   "metadata": {},
   "outputs": [
    {
     "data": {
      "text/html": [
       "<div>\n",
       "<style scoped>\n",
       "    .dataframe tbody tr th:only-of-type {\n",
       "        vertical-align: middle;\n",
       "    }\n",
       "\n",
       "    .dataframe tbody tr th {\n",
       "        vertical-align: top;\n",
       "    }\n",
       "\n",
       "    .dataframe thead th {\n",
       "        text-align: right;\n",
       "    }\n",
       "</style>\n",
       "<table border=\"1\" class=\"dataframe\">\n",
       "  <thead>\n",
       "    <tr style=\"text-align: right;\">\n",
       "      <th></th>\n",
       "      <th>Zone</th>\n",
       "      <th>Année</th>\n",
       "      <th>Valeur_sn</th>\n",
       "    </tr>\n",
       "  </thead>\n",
       "  <tbody>\n",
       "    <tr>\n",
       "      <th>54</th>\n",
       "      <td>Argentine</td>\n",
       "      <td>2013</td>\n",
       "      <td>1200000.0</td>\n",
       "    </tr>\n",
       "    <tr>\n",
       "      <th>55</th>\n",
       "      <td>Argentine</td>\n",
       "      <td>2014</td>\n",
       "      <td>1300000.0</td>\n",
       "    </tr>\n",
       "    <tr>\n",
       "      <th>56</th>\n",
       "      <td>Argentine</td>\n",
       "      <td>2015</td>\n",
       "      <td>1100000.0</td>\n",
       "    </tr>\n",
       "    <tr>\n",
       "      <th>57</th>\n",
       "      <td>Argentine</td>\n",
       "      <td>2016</td>\n",
       "      <td>1300000.0</td>\n",
       "    </tr>\n",
       "    <tr>\n",
       "      <th>58</th>\n",
       "      <td>Argentine</td>\n",
       "      <td>2017</td>\n",
       "      <td>1500000.0</td>\n",
       "    </tr>\n",
       "    <tr>\n",
       "      <th>59</th>\n",
       "      <td>Argentine</td>\n",
       "      <td>2018</td>\n",
       "      <td>1700000.0</td>\n",
       "    </tr>\n",
       "    <tr>\n",
       "      <th>1170</th>\n",
       "      <td>Ukraine</td>\n",
       "      <td>2013</td>\n",
       "      <td>1500000.0</td>\n",
       "    </tr>\n",
       "    <tr>\n",
       "      <th>1171</th>\n",
       "      <td>Ukraine</td>\n",
       "      <td>2014</td>\n",
       "      <td>1500000.0</td>\n",
       "    </tr>\n",
       "    <tr>\n",
       "      <th>1172</th>\n",
       "      <td>Ukraine</td>\n",
       "      <td>2015</td>\n",
       "      <td>1300000.0</td>\n",
       "    </tr>\n",
       "    <tr>\n",
       "      <th>1173</th>\n",
       "      <td>Ukraine</td>\n",
       "      <td>2016</td>\n",
       "      <td>1500000.0</td>\n",
       "    </tr>\n",
       "    <tr>\n",
       "      <th>1174</th>\n",
       "      <td>Ukraine</td>\n",
       "      <td>2017</td>\n",
       "      <td>1500000.0</td>\n",
       "    </tr>\n",
       "    <tr>\n",
       "      <th>1175</th>\n",
       "      <td>Ukraine</td>\n",
       "      <td>2018</td>\n",
       "      <td>1600000.0</td>\n",
       "    </tr>\n",
       "  </tbody>\n",
       "</table>\n",
       "</div>"
      ],
      "text/plain": [
       "           Zone  Année  Valeur_sn\n",
       "54    Argentine   2013  1200000.0\n",
       "55    Argentine   2014  1300000.0\n",
       "56    Argentine   2015  1100000.0\n",
       "57    Argentine   2016  1300000.0\n",
       "58    Argentine   2017  1500000.0\n",
       "59    Argentine   2018  1700000.0\n",
       "1170    Ukraine   2013  1500000.0\n",
       "1171    Ukraine   2014  1500000.0\n",
       "1172    Ukraine   2015  1300000.0\n",
       "1173    Ukraine   2016  1500000.0\n",
       "1174    Ukraine   2017  1500000.0\n",
       "1175    Ukraine   2018  1600000.0"
      ]
     },
     "execution_count": 11,
     "metadata": {},
     "output_type": "execute_result"
    }
   ],
   "source": [
    "# Replace NaN with 0 for all countries not included in \"liste\"\n",
    "mask = ~data_sn[\"Zone\"].isin(liste)\n",
    "data_sn.loc[mask, \"Valeur_sn\"] = data_sn.loc[mask, \"Valeur_sn\"].fillna(0)\n",
    "\n",
    "# Replace the NaN of countries in the list except Samoa by their respective medians\n",
    "medianes = {\"Argentine\": data_sn.loc[data_sn[\"Zone\"] == \"Argentine\", \"Valeur_sn\"].median(),\n",
    "            \"Ukraine\": data_sn.loc[data_sn[\"Zone\"] == \"Ukraine\", \"Valeur_sn\"].median()}\n",
    "\n",
    "for pays, median in medianes.items():       # items() is used to extract key-value pairs from a dict\n",
    "    data_sn.loc[(data_sn[\"Zone\"] == pays) & (data_sn[\"Valeur_sn\"].isnull()), \"Valeur_sn\"] = median\n",
    "    \n",
    "# Check\n",
    "data_sn[data_sn[\"Zone\"].isin(liste)]"
   ]
  },
  {
   "cell_type": "code",
   "execution_count": 12,
   "id": "1c4cd9dd",
   "metadata": {},
   "outputs": [
    {
     "name": "stdout",
     "output_type": "stream",
     "text": [
      "<class 'pandas.core.frame.DataFrame'>\n",
      "RangeIndex: 1218 entries, 0 to 1217\n",
      "Data columns (total 3 columns):\n",
      " #   Column     Non-Null Count  Dtype  \n",
      "---  ------     --------------  -----  \n",
      " 0   Zone       1218 non-null   object \n",
      " 1   Année      1218 non-null   int32  \n",
      " 2   Valeur_sn  1218 non-null   float64\n",
      "dtypes: float64(1), int32(1), object(1)\n",
      "memory usage: 23.9+ KB\n"
     ]
    }
   ],
   "source": [
    "data_sn.info()"
   ]
  },
  {
   "attachments": {},
   "cell_type": "markdown",
   "id": "cd001b2a",
   "metadata": {},
   "source": [
    "Toutes les valeurs manquantes du fichier sous-nutrition ont été traité."
   ]
  },
  {
   "cell_type": "code",
   "execution_count": 13,
   "id": "1af51185",
   "metadata": {},
   "outputs": [
    {
     "data": {
      "text/html": [
       "<div>\n",
       "<style scoped>\n",
       "    .dataframe tbody tr th:only-of-type {\n",
       "        vertical-align: middle;\n",
       "    }\n",
       "\n",
       "    .dataframe tbody tr th {\n",
       "        vertical-align: top;\n",
       "    }\n",
       "\n",
       "    .dataframe thead th {\n",
       "        text-align: right;\n",
       "    }\n",
       "</style>\n",
       "<table border=\"1\" class=\"dataframe\">\n",
       "  <thead>\n",
       "    <tr style=\"text-align: right;\">\n",
       "      <th></th>\n",
       "      <th>Zone</th>\n",
       "      <th>Année</th>\n",
       "      <th>Valeur_sn</th>\n",
       "    </tr>\n",
       "  </thead>\n",
       "  <tbody>\n",
       "    <tr>\n",
       "      <th>222</th>\n",
       "      <td>Chine - RAS de Hong-Kong</td>\n",
       "      <td>2013</td>\n",
       "      <td>0.0</td>\n",
       "    </tr>\n",
       "    <tr>\n",
       "      <th>223</th>\n",
       "      <td>Chine - RAS de Hong-Kong</td>\n",
       "      <td>2014</td>\n",
       "      <td>0.0</td>\n",
       "    </tr>\n",
       "    <tr>\n",
       "      <th>224</th>\n",
       "      <td>Chine - RAS de Hong-Kong</td>\n",
       "      <td>2015</td>\n",
       "      <td>0.0</td>\n",
       "    </tr>\n",
       "    <tr>\n",
       "      <th>225</th>\n",
       "      <td>Chine - RAS de Hong-Kong</td>\n",
       "      <td>2016</td>\n",
       "      <td>0.0</td>\n",
       "    </tr>\n",
       "    <tr>\n",
       "      <th>226</th>\n",
       "      <td>Chine - RAS de Hong-Kong</td>\n",
       "      <td>2017</td>\n",
       "      <td>0.0</td>\n",
       "    </tr>\n",
       "    <tr>\n",
       "      <th>227</th>\n",
       "      <td>Chine - RAS de Hong-Kong</td>\n",
       "      <td>2018</td>\n",
       "      <td>0.0</td>\n",
       "    </tr>\n",
       "    <tr>\n",
       "      <th>228</th>\n",
       "      <td>Chine - RAS de Macao</td>\n",
       "      <td>2013</td>\n",
       "      <td>0.0</td>\n",
       "    </tr>\n",
       "    <tr>\n",
       "      <th>229</th>\n",
       "      <td>Chine - RAS de Macao</td>\n",
       "      <td>2014</td>\n",
       "      <td>0.0</td>\n",
       "    </tr>\n",
       "    <tr>\n",
       "      <th>230</th>\n",
       "      <td>Chine - RAS de Macao</td>\n",
       "      <td>2015</td>\n",
       "      <td>0.0</td>\n",
       "    </tr>\n",
       "    <tr>\n",
       "      <th>231</th>\n",
       "      <td>Chine - RAS de Macao</td>\n",
       "      <td>2016</td>\n",
       "      <td>0.0</td>\n",
       "    </tr>\n",
       "    <tr>\n",
       "      <th>232</th>\n",
       "      <td>Chine - RAS de Macao</td>\n",
       "      <td>2017</td>\n",
       "      <td>0.0</td>\n",
       "    </tr>\n",
       "    <tr>\n",
       "      <th>233</th>\n",
       "      <td>Chine - RAS de Macao</td>\n",
       "      <td>2018</td>\n",
       "      <td>0.0</td>\n",
       "    </tr>\n",
       "    <tr>\n",
       "      <th>234</th>\n",
       "      <td>Chine, continentale</td>\n",
       "      <td>2013</td>\n",
       "      <td>0.0</td>\n",
       "    </tr>\n",
       "    <tr>\n",
       "      <th>235</th>\n",
       "      <td>Chine, continentale</td>\n",
       "      <td>2014</td>\n",
       "      <td>0.0</td>\n",
       "    </tr>\n",
       "    <tr>\n",
       "      <th>236</th>\n",
       "      <td>Chine, continentale</td>\n",
       "      <td>2015</td>\n",
       "      <td>0.0</td>\n",
       "    </tr>\n",
       "    <tr>\n",
       "      <th>237</th>\n",
       "      <td>Chine, continentale</td>\n",
       "      <td>2016</td>\n",
       "      <td>0.0</td>\n",
       "    </tr>\n",
       "    <tr>\n",
       "      <th>238</th>\n",
       "      <td>Chine, continentale</td>\n",
       "      <td>2017</td>\n",
       "      <td>0.0</td>\n",
       "    </tr>\n",
       "    <tr>\n",
       "      <th>239</th>\n",
       "      <td>Chine, continentale</td>\n",
       "      <td>2018</td>\n",
       "      <td>0.0</td>\n",
       "    </tr>\n",
       "    <tr>\n",
       "      <th>240</th>\n",
       "      <td>Chine, Taiwan Province de</td>\n",
       "      <td>2013</td>\n",
       "      <td>900000.0</td>\n",
       "    </tr>\n",
       "    <tr>\n",
       "      <th>241</th>\n",
       "      <td>Chine, Taiwan Province de</td>\n",
       "      <td>2014</td>\n",
       "      <td>900000.0</td>\n",
       "    </tr>\n",
       "    <tr>\n",
       "      <th>242</th>\n",
       "      <td>Chine, Taiwan Province de</td>\n",
       "      <td>2015</td>\n",
       "      <td>900000.0</td>\n",
       "    </tr>\n",
       "    <tr>\n",
       "      <th>243</th>\n",
       "      <td>Chine, Taiwan Province de</td>\n",
       "      <td>2016</td>\n",
       "      <td>900000.0</td>\n",
       "    </tr>\n",
       "    <tr>\n",
       "      <th>244</th>\n",
       "      <td>Chine, Taiwan Province de</td>\n",
       "      <td>2017</td>\n",
       "      <td>900000.0</td>\n",
       "    </tr>\n",
       "    <tr>\n",
       "      <th>245</th>\n",
       "      <td>Chine, Taiwan Province de</td>\n",
       "      <td>2018</td>\n",
       "      <td>800000.0</td>\n",
       "    </tr>\n",
       "  </tbody>\n",
       "</table>\n",
       "</div>"
      ],
      "text/plain": [
       "                          Zone  Année  Valeur_sn\n",
       "222   Chine - RAS de Hong-Kong   2013        0.0\n",
       "223   Chine - RAS de Hong-Kong   2014        0.0\n",
       "224   Chine - RAS de Hong-Kong   2015        0.0\n",
       "225   Chine - RAS de Hong-Kong   2016        0.0\n",
       "226   Chine - RAS de Hong-Kong   2017        0.0\n",
       "227   Chine - RAS de Hong-Kong   2018        0.0\n",
       "228       Chine - RAS de Macao   2013        0.0\n",
       "229       Chine - RAS de Macao   2014        0.0\n",
       "230       Chine - RAS de Macao   2015        0.0\n",
       "231       Chine - RAS de Macao   2016        0.0\n",
       "232       Chine - RAS de Macao   2017        0.0\n",
       "233       Chine - RAS de Macao   2018        0.0\n",
       "234        Chine, continentale   2013        0.0\n",
       "235        Chine, continentale   2014        0.0\n",
       "236        Chine, continentale   2015        0.0\n",
       "237        Chine, continentale   2016        0.0\n",
       "238        Chine, continentale   2017        0.0\n",
       "239        Chine, continentale   2018        0.0\n",
       "240  Chine, Taiwan Province de   2013   900000.0\n",
       "241  Chine, Taiwan Province de   2014   900000.0\n",
       "242  Chine, Taiwan Province de   2015   900000.0\n",
       "243  Chine, Taiwan Province de   2016   900000.0\n",
       "244  Chine, Taiwan Province de   2017   900000.0\n",
       "245  Chine, Taiwan Province de   2018   800000.0"
      ]
     },
     "execution_count": 13,
     "metadata": {},
     "output_type": "execute_result"
    }
   ],
   "source": [
    "# Search for the different designations of CHINA \n",
    "data_sn.loc[data_sn[\"Zone\"].str.contains(\"Chine\", na=False)]"
   ]
  },
  {
   "cell_type": "code",
   "execution_count": 14,
   "id": "6d105d5b",
   "metadata": {},
   "outputs": [
    {
     "data": {
      "text/html": [
       "<div>\n",
       "<style scoped>\n",
       "    .dataframe tbody tr th:only-of-type {\n",
       "        vertical-align: middle;\n",
       "    }\n",
       "\n",
       "    .dataframe tbody tr th {\n",
       "        vertical-align: top;\n",
       "    }\n",
       "\n",
       "    .dataframe thead th {\n",
       "        text-align: right;\n",
       "    }\n",
       "</style>\n",
       "<table border=\"1\" class=\"dataframe\">\n",
       "  <thead>\n",
       "    <tr style=\"text-align: right;\">\n",
       "      <th></th>\n",
       "      <th>Zone</th>\n",
       "      <th>Année</th>\n",
       "      <th>Valeur_sn</th>\n",
       "    </tr>\n",
       "  </thead>\n",
       "  <tbody>\n",
       "    <tr>\n",
       "      <th>222</th>\n",
       "      <td>Chine - RAS de Hong-Kong</td>\n",
       "      <td>2013</td>\n",
       "      <td>0.0</td>\n",
       "    </tr>\n",
       "    <tr>\n",
       "      <th>223</th>\n",
       "      <td>Chine - RAS de Hong-Kong</td>\n",
       "      <td>2014</td>\n",
       "      <td>0.0</td>\n",
       "    </tr>\n",
       "    <tr>\n",
       "      <th>224</th>\n",
       "      <td>Chine - RAS de Hong-Kong</td>\n",
       "      <td>2015</td>\n",
       "      <td>0.0</td>\n",
       "    </tr>\n",
       "    <tr>\n",
       "      <th>225</th>\n",
       "      <td>Chine - RAS de Hong-Kong</td>\n",
       "      <td>2016</td>\n",
       "      <td>0.0</td>\n",
       "    </tr>\n",
       "    <tr>\n",
       "      <th>226</th>\n",
       "      <td>Chine - RAS de Hong-Kong</td>\n",
       "      <td>2017</td>\n",
       "      <td>0.0</td>\n",
       "    </tr>\n",
       "    <tr>\n",
       "      <th>227</th>\n",
       "      <td>Chine - RAS de Hong-Kong</td>\n",
       "      <td>2018</td>\n",
       "      <td>0.0</td>\n",
       "    </tr>\n",
       "    <tr>\n",
       "      <th>228</th>\n",
       "      <td>Chine - RAS de Macao</td>\n",
       "      <td>2013</td>\n",
       "      <td>0.0</td>\n",
       "    </tr>\n",
       "    <tr>\n",
       "      <th>229</th>\n",
       "      <td>Chine - RAS de Macao</td>\n",
       "      <td>2014</td>\n",
       "      <td>0.0</td>\n",
       "    </tr>\n",
       "    <tr>\n",
       "      <th>230</th>\n",
       "      <td>Chine - RAS de Macao</td>\n",
       "      <td>2015</td>\n",
       "      <td>0.0</td>\n",
       "    </tr>\n",
       "    <tr>\n",
       "      <th>231</th>\n",
       "      <td>Chine - RAS de Macao</td>\n",
       "      <td>2016</td>\n",
       "      <td>0.0</td>\n",
       "    </tr>\n",
       "    <tr>\n",
       "      <th>232</th>\n",
       "      <td>Chine - RAS de Macao</td>\n",
       "      <td>2017</td>\n",
       "      <td>0.0</td>\n",
       "    </tr>\n",
       "    <tr>\n",
       "      <th>233</th>\n",
       "      <td>Chine - RAS de Macao</td>\n",
       "      <td>2018</td>\n",
       "      <td>0.0</td>\n",
       "    </tr>\n",
       "    <tr>\n",
       "      <th>234</th>\n",
       "      <td>Chine continentale</td>\n",
       "      <td>2013</td>\n",
       "      <td>0.0</td>\n",
       "    </tr>\n",
       "    <tr>\n",
       "      <th>235</th>\n",
       "      <td>Chine continentale</td>\n",
       "      <td>2014</td>\n",
       "      <td>0.0</td>\n",
       "    </tr>\n",
       "    <tr>\n",
       "      <th>236</th>\n",
       "      <td>Chine continentale</td>\n",
       "      <td>2015</td>\n",
       "      <td>0.0</td>\n",
       "    </tr>\n",
       "    <tr>\n",
       "      <th>237</th>\n",
       "      <td>Chine continentale</td>\n",
       "      <td>2016</td>\n",
       "      <td>0.0</td>\n",
       "    </tr>\n",
       "    <tr>\n",
       "      <th>238</th>\n",
       "      <td>Chine continentale</td>\n",
       "      <td>2017</td>\n",
       "      <td>0.0</td>\n",
       "    </tr>\n",
       "    <tr>\n",
       "      <th>239</th>\n",
       "      <td>Chine continentale</td>\n",
       "      <td>2018</td>\n",
       "      <td>0.0</td>\n",
       "    </tr>\n",
       "    <tr>\n",
       "      <th>240</th>\n",
       "      <td>Taïwan - province de Chine</td>\n",
       "      <td>2013</td>\n",
       "      <td>900000.0</td>\n",
       "    </tr>\n",
       "    <tr>\n",
       "      <th>241</th>\n",
       "      <td>Taïwan - province de Chine</td>\n",
       "      <td>2014</td>\n",
       "      <td>900000.0</td>\n",
       "    </tr>\n",
       "    <tr>\n",
       "      <th>242</th>\n",
       "      <td>Taïwan - province de Chine</td>\n",
       "      <td>2015</td>\n",
       "      <td>900000.0</td>\n",
       "    </tr>\n",
       "    <tr>\n",
       "      <th>243</th>\n",
       "      <td>Taïwan - province de Chine</td>\n",
       "      <td>2016</td>\n",
       "      <td>900000.0</td>\n",
       "    </tr>\n",
       "    <tr>\n",
       "      <th>244</th>\n",
       "      <td>Taïwan - province de Chine</td>\n",
       "      <td>2017</td>\n",
       "      <td>900000.0</td>\n",
       "    </tr>\n",
       "    <tr>\n",
       "      <th>245</th>\n",
       "      <td>Taïwan - province de Chine</td>\n",
       "      <td>2018</td>\n",
       "      <td>800000.0</td>\n",
       "    </tr>\n",
       "  </tbody>\n",
       "</table>\n",
       "</div>"
      ],
      "text/plain": [
       "                           Zone  Année  Valeur_sn\n",
       "222    Chine - RAS de Hong-Kong   2013        0.0\n",
       "223    Chine - RAS de Hong-Kong   2014        0.0\n",
       "224    Chine - RAS de Hong-Kong   2015        0.0\n",
       "225    Chine - RAS de Hong-Kong   2016        0.0\n",
       "226    Chine - RAS de Hong-Kong   2017        0.0\n",
       "227    Chine - RAS de Hong-Kong   2018        0.0\n",
       "228        Chine - RAS de Macao   2013        0.0\n",
       "229        Chine - RAS de Macao   2014        0.0\n",
       "230        Chine - RAS de Macao   2015        0.0\n",
       "231        Chine - RAS de Macao   2016        0.0\n",
       "232        Chine - RAS de Macao   2017        0.0\n",
       "233        Chine - RAS de Macao   2018        0.0\n",
       "234          Chine continentale   2013        0.0\n",
       "235          Chine continentale   2014        0.0\n",
       "236          Chine continentale   2015        0.0\n",
       "237          Chine continentale   2016        0.0\n",
       "238          Chine continentale   2017        0.0\n",
       "239          Chine continentale   2018        0.0\n",
       "240  Taïwan - province de Chine   2013   900000.0\n",
       "241  Taïwan - province de Chine   2014   900000.0\n",
       "242  Taïwan - province de Chine   2015   900000.0\n",
       "243  Taïwan - province de Chine   2016   900000.0\n",
       "244  Taïwan - province de Chine   2017   900000.0\n",
       "245  Taïwan - province de Chine   2018   800000.0"
      ]
     },
     "execution_count": 14,
     "metadata": {},
     "output_type": "execute_result"
    }
   ],
   "source": [
    "# Delet\",\" in country designations CHINA \n",
    "modif_chine_sn = {\"Chine, continentale\":\"Chine continentale\", \"Chine, Taiwan Province de\" : \"Taïwan - province de Chine\"}\n",
    "data_sn[\"Zone\"].replace(modif_chine_sn, inplace=True)\n",
    "# Check\n",
    "data_sn.loc[data_sn[\"Zone\"].str.contains(\"Chine\", na=False)]"
   ]
  },
  {
   "attachments": {},
   "cell_type": "markdown",
   "id": "01cc40ff",
   "metadata": {},
   "source": [
    "# Population file"
   ]
  },
  {
   "cell_type": "code",
   "execution_count": 15,
   "id": "35a1026f",
   "metadata": {},
   "outputs": [
    {
     "data": {
      "text/html": [
       "<div>\n",
       "<style scoped>\n",
       "    .dataframe tbody tr th:only-of-type {\n",
       "        vertical-align: middle;\n",
       "    }\n",
       "\n",
       "    .dataframe tbody tr th {\n",
       "        vertical-align: top;\n",
       "    }\n",
       "\n",
       "    .dataframe thead th {\n",
       "        text-align: right;\n",
       "    }\n",
       "</style>\n",
       "<table border=\"1\" class=\"dataframe\">\n",
       "  <thead>\n",
       "    <tr style=\"text-align: right;\">\n",
       "      <th></th>\n",
       "      <th>Zone</th>\n",
       "      <th>Année</th>\n",
       "      <th>Valeur_pop</th>\n",
       "    </tr>\n",
       "  </thead>\n",
       "  <tbody>\n",
       "    <tr>\n",
       "      <th>0</th>\n",
       "      <td>Afghanistan</td>\n",
       "      <td>2013</td>\n",
       "      <td>32269589.0</td>\n",
       "    </tr>\n",
       "    <tr>\n",
       "      <th>1</th>\n",
       "      <td>Afghanistan</td>\n",
       "      <td>2014</td>\n",
       "      <td>33370794.0</td>\n",
       "    </tr>\n",
       "    <tr>\n",
       "      <th>2</th>\n",
       "      <td>Afghanistan</td>\n",
       "      <td>2015</td>\n",
       "      <td>34413603.0</td>\n",
       "    </tr>\n",
       "    <tr>\n",
       "      <th>3</th>\n",
       "      <td>Afghanistan</td>\n",
       "      <td>2016</td>\n",
       "      <td>35383032.0</td>\n",
       "    </tr>\n",
       "    <tr>\n",
       "      <th>4</th>\n",
       "      <td>Afghanistan</td>\n",
       "      <td>2017</td>\n",
       "      <td>36296113.0</td>\n",
       "    </tr>\n",
       "  </tbody>\n",
       "</table>\n",
       "</div>"
      ],
      "text/plain": [
       "          Zone  Année  Valeur_pop\n",
       "0  Afghanistan   2013  32269589.0\n",
       "1  Afghanistan   2014  33370794.0\n",
       "2  Afghanistan   2015  34413603.0\n",
       "3  Afghanistan   2016  35383032.0\n",
       "4  Afghanistan   2017  36296113.0"
      ]
     },
     "execution_count": 15,
     "metadata": {},
     "output_type": "execute_result"
    }
   ],
   "source": [
    "data_pop.head()"
   ]
  },
  {
   "cell_type": "code",
   "execution_count": 16,
   "id": "46395287",
   "metadata": {},
   "outputs": [
    {
     "name": "stdout",
     "output_type": "stream",
     "text": [
      "<class 'pandas.core.frame.DataFrame'>\n",
      "RangeIndex: 1416 entries, 0 to 1415\n",
      "Data columns (total 3 columns):\n",
      " #   Column      Non-Null Count  Dtype  \n",
      "---  ------      --------------  -----  \n",
      " 0   Zone        1416 non-null   object \n",
      " 1   Année       1416 non-null   int64  \n",
      " 2   Valeur_pop  1416 non-null   float64\n",
      "dtypes: float64(1), int64(1), object(1)\n",
      "memory usage: 33.3+ KB\n"
     ]
    }
   ],
   "source": [
    "data_pop.info()"
   ]
  },
  {
   "cell_type": "code",
   "execution_count": 17,
   "id": "3bb9811a",
   "metadata": {},
   "outputs": [
    {
     "data": {
      "text/html": [
       "<div>\n",
       "<style scoped>\n",
       "    .dataframe tbody tr th:only-of-type {\n",
       "        vertical-align: middle;\n",
       "    }\n",
       "\n",
       "    .dataframe tbody tr th {\n",
       "        vertical-align: top;\n",
       "    }\n",
       "\n",
       "    .dataframe thead th {\n",
       "        text-align: right;\n",
       "    }\n",
       "</style>\n",
       "<table border=\"1\" class=\"dataframe\">\n",
       "  <thead>\n",
       "    <tr style=\"text-align: right;\">\n",
       "      <th></th>\n",
       "      <th>Zone</th>\n",
       "      <th>Année</th>\n",
       "      <th>Valeur_pop</th>\n",
       "    </tr>\n",
       "  </thead>\n",
       "  <tbody>\n",
       "    <tr>\n",
       "      <th>263</th>\n",
       "      <td>Chine, continentale</td>\n",
       "      <td>2018</td>\n",
       "      <td>1.427648e+09</td>\n",
       "    </tr>\n",
       "  </tbody>\n",
       "</table>\n",
       "</div>"
      ],
      "text/plain": [
       "                    Zone  Année    Valeur_pop\n",
       "263  Chine, continentale   2018  1.427648e+09"
      ]
     },
     "execution_count": 17,
     "metadata": {},
     "output_type": "execute_result"
    }
   ],
   "source": [
    "# The maximum population of 1,427,648,000 must refer to CHINA...\n",
    "data_pop[data_pop[\"Valeur_pop\"] == data_pop[\"Valeur_pop\"].max()]"
   ]
  },
  {
   "cell_type": "code",
   "execution_count": 18,
   "id": "c861a605",
   "metadata": {},
   "outputs": [
    {
     "data": {
      "text/html": [
       "<div>\n",
       "<style scoped>\n",
       "    .dataframe tbody tr th:only-of-type {\n",
       "        vertical-align: middle;\n",
       "    }\n",
       "\n",
       "    .dataframe tbody tr th {\n",
       "        vertical-align: top;\n",
       "    }\n",
       "\n",
       "    .dataframe thead th {\n",
       "        text-align: right;\n",
       "    }\n",
       "</style>\n",
       "<table border=\"1\" class=\"dataframe\">\n",
       "  <thead>\n",
       "    <tr style=\"text-align: right;\">\n",
       "      <th></th>\n",
       "      <th>Zone</th>\n",
       "      <th>Année</th>\n",
       "      <th>Valeur_pop</th>\n",
       "    </tr>\n",
       "  </thead>\n",
       "  <tbody>\n",
       "    <tr>\n",
       "      <th>263</th>\n",
       "      <td>Chine continentale</td>\n",
       "      <td>2018</td>\n",
       "      <td>1.427648e+09</td>\n",
       "    </tr>\n",
       "  </tbody>\n",
       "</table>\n",
       "</div>"
      ],
      "text/plain": [
       "                   Zone  Année    Valeur_pop\n",
       "263  Chine continentale   2018  1.427648e+09"
      ]
     },
     "execution_count": 18,
     "metadata": {},
     "output_type": "execute_result"
    }
   ],
   "source": [
    "# Search for the different designations of CHINA \n",
    "data_pop.loc[data_pop[\"Zone\"].str.contains('Chine', na=False)]\n",
    "# Delet\",\" in country designations CHINA \n",
    "modif_chine_pop = {\"Chine, continentale\":\"Chine continentale\", \"Chine, Taiwan Province de\" : \"Taïwan - province de Chine\"}\n",
    "data_pop[\"Zone\"] = data_pop[\"Zone\"].replace(modif_chine_pop)\n",
    "# Check\n",
    "data_pop[data_pop[\"Valeur_pop\"] == data_pop[\"Valeur_pop\"].max()]"
   ]
  },
  {
   "attachments": {},
   "cell_type": "markdown",
   "id": "dadf4f32",
   "metadata": {},
   "source": [
    "# Food Aid file"
   ]
  },
  {
   "cell_type": "code",
   "execution_count": 19,
   "id": "0f461483",
   "metadata": {},
   "outputs": [
    {
     "data": {
      "text/html": [
       "<div>\n",
       "<style scoped>\n",
       "    .dataframe tbody tr th:only-of-type {\n",
       "        vertical-align: middle;\n",
       "    }\n",
       "\n",
       "    .dataframe tbody tr th {\n",
       "        vertical-align: top;\n",
       "    }\n",
       "\n",
       "    .dataframe thead th {\n",
       "        text-align: right;\n",
       "    }\n",
       "</style>\n",
       "<table border=\"1\" class=\"dataframe\">\n",
       "  <thead>\n",
       "    <tr style=\"text-align: right;\">\n",
       "      <th></th>\n",
       "      <th>Zone</th>\n",
       "      <th>Année</th>\n",
       "      <th>Produit</th>\n",
       "      <th>Valeur_aa_kg</th>\n",
       "    </tr>\n",
       "  </thead>\n",
       "  <tbody>\n",
       "    <tr>\n",
       "      <th>0</th>\n",
       "      <td>Afghanistan</td>\n",
       "      <td>2013</td>\n",
       "      <td>Autres non-céréales</td>\n",
       "      <td>682000</td>\n",
       "    </tr>\n",
       "    <tr>\n",
       "      <th>1</th>\n",
       "      <td>Afghanistan</td>\n",
       "      <td>2014</td>\n",
       "      <td>Autres non-céréales</td>\n",
       "      <td>335000</td>\n",
       "    </tr>\n",
       "    <tr>\n",
       "      <th>2</th>\n",
       "      <td>Afghanistan</td>\n",
       "      <td>2013</td>\n",
       "      <td>Blé et Farin</td>\n",
       "      <td>39224000</td>\n",
       "    </tr>\n",
       "    <tr>\n",
       "      <th>3</th>\n",
       "      <td>Afghanistan</td>\n",
       "      <td>2014</td>\n",
       "      <td>Blé et Farin</td>\n",
       "      <td>15160000</td>\n",
       "    </tr>\n",
       "    <tr>\n",
       "      <th>4</th>\n",
       "      <td>Afghanistan</td>\n",
       "      <td>2013</td>\n",
       "      <td>Céréales</td>\n",
       "      <td>40504000</td>\n",
       "    </tr>\n",
       "  </tbody>\n",
       "</table>\n",
       "</div>"
      ],
      "text/plain": [
       "          Zone  Année              Produit  Valeur_aa_kg\n",
       "0  Afghanistan   2013  Autres non-céréales        682000\n",
       "1  Afghanistan   2014  Autres non-céréales        335000\n",
       "2  Afghanistan   2013         Blé et Farin      39224000\n",
       "3  Afghanistan   2014         Blé et Farin      15160000\n",
       "4  Afghanistan   2013             Céréales      40504000"
      ]
     },
     "execution_count": 19,
     "metadata": {},
     "output_type": "execute_result"
    }
   ],
   "source": [
    "data_aa.head()"
   ]
  },
  {
   "cell_type": "code",
   "execution_count": 20,
   "id": "509fbda2",
   "metadata": {},
   "outputs": [
    {
     "name": "stdout",
     "output_type": "stream",
     "text": [
      "<class 'pandas.core.frame.DataFrame'>\n",
      "RangeIndex: 1475 entries, 0 to 1474\n",
      "Data columns (total 4 columns):\n",
      " #   Column        Non-Null Count  Dtype \n",
      "---  ------        --------------  ----- \n",
      " 0   Zone          1475 non-null   object\n",
      " 1   Année         1475 non-null   int64 \n",
      " 2   Produit       1475 non-null   object\n",
      " 3   Valeur_aa_kg  1475 non-null   int64 \n",
      "dtypes: int64(2), object(2)\n",
      "memory usage: 46.2+ KB\n"
     ]
    }
   ],
   "source": [
    "data_aa.info()"
   ]
  },
  {
   "cell_type": "code",
   "execution_count": 21,
   "id": "ce3cbb7a",
   "metadata": {},
   "outputs": [
    {
     "data": {
      "text/html": [
       "<div>\n",
       "<style scoped>\n",
       "    .dataframe tbody tr th:only-of-type {\n",
       "        vertical-align: middle;\n",
       "    }\n",
       "\n",
       "    .dataframe tbody tr th {\n",
       "        vertical-align: top;\n",
       "    }\n",
       "\n",
       "    .dataframe thead th {\n",
       "        text-align: right;\n",
       "    }\n",
       "</style>\n",
       "<table border=\"1\" class=\"dataframe\">\n",
       "  <thead>\n",
       "    <tr style=\"text-align: right;\">\n",
       "      <th></th>\n",
       "      <th>Zone</th>\n",
       "      <th>Année</th>\n",
       "      <th>Produit</th>\n",
       "      <th>Valeur_aa_kg</th>\n",
       "    </tr>\n",
       "  </thead>\n",
       "  <tbody>\n",
       "    <tr>\n",
       "      <th>218</th>\n",
       "      <td>Chine, continentale</td>\n",
       "      <td>2014</td>\n",
       "      <td>Céréales</td>\n",
       "      <td>649000</td>\n",
       "    </tr>\n",
       "    <tr>\n",
       "      <th>219</th>\n",
       "      <td>Chine, continentale</td>\n",
       "      <td>2014</td>\n",
       "      <td>Huiles végétales</td>\n",
       "      <td>0</td>\n",
       "    </tr>\n",
       "    <tr>\n",
       "      <th>220</th>\n",
       "      <td>Chine, continentale</td>\n",
       "      <td>2014</td>\n",
       "      <td>Non-céréales</td>\n",
       "      <td>0</td>\n",
       "    </tr>\n",
       "    <tr>\n",
       "      <th>221</th>\n",
       "      <td>Chine, continentale</td>\n",
       "      <td>2014</td>\n",
       "      <td>Riz, total</td>\n",
       "      <td>649000</td>\n",
       "    </tr>\n",
       "  </tbody>\n",
       "</table>\n",
       "</div>"
      ],
      "text/plain": [
       "                    Zone  Année           Produit  Valeur_aa_kg\n",
       "218  Chine, continentale   2014          Céréales        649000\n",
       "219  Chine, continentale   2014  Huiles végétales             0\n",
       "220  Chine, continentale   2014      Non-céréales             0\n",
       "221  Chine, continentale   2014        Riz, total        649000"
      ]
     },
     "execution_count": 21,
     "metadata": {},
     "output_type": "execute_result"
    }
   ],
   "source": [
    "# Search for the different designations of CHINA\n",
    "data_aa.loc[data_aa[\"Zone\"].str.contains(\"Chine\", na=False)]"
   ]
  },
  {
   "cell_type": "code",
   "execution_count": 22,
   "id": "4cafddab",
   "metadata": {},
   "outputs": [
    {
     "data": {
      "text/html": [
       "<div>\n",
       "<style scoped>\n",
       "    .dataframe tbody tr th:only-of-type {\n",
       "        vertical-align: middle;\n",
       "    }\n",
       "\n",
       "    .dataframe tbody tr th {\n",
       "        vertical-align: top;\n",
       "    }\n",
       "\n",
       "    .dataframe thead th {\n",
       "        text-align: right;\n",
       "    }\n",
       "</style>\n",
       "<table border=\"1\" class=\"dataframe\">\n",
       "  <thead>\n",
       "    <tr style=\"text-align: right;\">\n",
       "      <th></th>\n",
       "      <th>Zone</th>\n",
       "      <th>Année</th>\n",
       "      <th>Produit</th>\n",
       "      <th>Valeur_aa_kg</th>\n",
       "    </tr>\n",
       "  </thead>\n",
       "  <tbody>\n",
       "    <tr>\n",
       "      <th>218</th>\n",
       "      <td>Chine continentale</td>\n",
       "      <td>2014</td>\n",
       "      <td>Céréales</td>\n",
       "      <td>649000</td>\n",
       "    </tr>\n",
       "    <tr>\n",
       "      <th>219</th>\n",
       "      <td>Chine continentale</td>\n",
       "      <td>2014</td>\n",
       "      <td>Huiles végétales</td>\n",
       "      <td>0</td>\n",
       "    </tr>\n",
       "    <tr>\n",
       "      <th>220</th>\n",
       "      <td>Chine continentale</td>\n",
       "      <td>2014</td>\n",
       "      <td>Non-céréales</td>\n",
       "      <td>0</td>\n",
       "    </tr>\n",
       "    <tr>\n",
       "      <th>221</th>\n",
       "      <td>Chine continentale</td>\n",
       "      <td>2014</td>\n",
       "      <td>Riz, total</td>\n",
       "      <td>649000</td>\n",
       "    </tr>\n",
       "  </tbody>\n",
       "</table>\n",
       "</div>"
      ],
      "text/plain": [
       "                   Zone  Année           Produit  Valeur_aa_kg\n",
       "218  Chine continentale   2014          Céréales        649000\n",
       "219  Chine continentale   2014  Huiles végétales             0\n",
       "220  Chine continentale   2014      Non-céréales             0\n",
       "221  Chine continentale   2014        Riz, total        649000"
      ]
     },
     "execution_count": 22,
     "metadata": {},
     "output_type": "execute_result"
    }
   ],
   "source": [
    "# Delet\",\" in country designations CHINA \n",
    "modif_chine_aa = {\"Chine, continentale\":\"Chine continentale\"}\n",
    "data_aa[\"Zone\"] = data_aa[\"Zone\"].replace(modif_chine_aa)\n",
    "# Check\n",
    "data_aa.loc[data_aa[\"Zone\"].str.contains(\"Chine\", na=False)]"
   ]
  },
  {
   "attachments": {},
   "cell_type": "markdown",
   "id": "18b66c93",
   "metadata": {},
   "source": [
    "# Fichier disponibilité alimentaire"
   ]
  },
  {
   "cell_type": "code",
   "execution_count": 23,
   "id": "a1189430",
   "metadata": {},
   "outputs": [
    {
     "data": {
      "text/html": [
       "<div>\n",
       "<style scoped>\n",
       "    .dataframe tbody tr th:only-of-type {\n",
       "        vertical-align: middle;\n",
       "    }\n",
       "\n",
       "    .dataframe tbody tr th {\n",
       "        vertical-align: top;\n",
       "    }\n",
       "\n",
       "    .dataframe thead th {\n",
       "        text-align: right;\n",
       "    }\n",
       "</style>\n",
       "<table border=\"1\" class=\"dataframe\">\n",
       "  <thead>\n",
       "    <tr style=\"text-align: right;\">\n",
       "      <th></th>\n",
       "      <th>Zone</th>\n",
       "      <th>Produit</th>\n",
       "      <th>Origine</th>\n",
       "      <th>Aliments pour animaux</th>\n",
       "      <th>Autres Utilisations</th>\n",
       "      <th>Disponibilité alimentaire (Kcal/personne/jour)</th>\n",
       "      <th>Disponibilité alimentaire en quantité (kg/personne/an)</th>\n",
       "      <th>Disponibilité de matière grasse en quantité (g/personne/jour)</th>\n",
       "      <th>Disponibilité de protéines en quantité (g/personne/jour)</th>\n",
       "      <th>Disponibilité intérieure</th>\n",
       "      <th>Exportations - Quantité</th>\n",
       "      <th>Importations - Quantité</th>\n",
       "      <th>Nourriture</th>\n",
       "      <th>Pertes</th>\n",
       "      <th>Production</th>\n",
       "      <th>Semences</th>\n",
       "      <th>Traitement</th>\n",
       "      <th>Variation de stock</th>\n",
       "    </tr>\n",
       "  </thead>\n",
       "  <tbody>\n",
       "    <tr>\n",
       "      <th>0</th>\n",
       "      <td>Afghanistan</td>\n",
       "      <td>Abats Comestible</td>\n",
       "      <td>animale</td>\n",
       "      <td>NaN</td>\n",
       "      <td>NaN</td>\n",
       "      <td>5.0</td>\n",
       "      <td>1.72</td>\n",
       "      <td>0.20</td>\n",
       "      <td>0.77</td>\n",
       "      <td>53.0</td>\n",
       "      <td>NaN</td>\n",
       "      <td>NaN</td>\n",
       "      <td>53.0</td>\n",
       "      <td>NaN</td>\n",
       "      <td>53.0</td>\n",
       "      <td>NaN</td>\n",
       "      <td>NaN</td>\n",
       "      <td>NaN</td>\n",
       "    </tr>\n",
       "    <tr>\n",
       "      <th>1</th>\n",
       "      <td>Afghanistan</td>\n",
       "      <td>Agrumes, Autres</td>\n",
       "      <td>vegetale</td>\n",
       "      <td>NaN</td>\n",
       "      <td>NaN</td>\n",
       "      <td>1.0</td>\n",
       "      <td>1.29</td>\n",
       "      <td>0.01</td>\n",
       "      <td>0.02</td>\n",
       "      <td>41.0</td>\n",
       "      <td>2.0</td>\n",
       "      <td>40.0</td>\n",
       "      <td>39.0</td>\n",
       "      <td>2.0</td>\n",
       "      <td>3.0</td>\n",
       "      <td>NaN</td>\n",
       "      <td>NaN</td>\n",
       "      <td>NaN</td>\n",
       "    </tr>\n",
       "    <tr>\n",
       "      <th>2</th>\n",
       "      <td>Afghanistan</td>\n",
       "      <td>Aliments pour enfants</td>\n",
       "      <td>vegetale</td>\n",
       "      <td>NaN</td>\n",
       "      <td>NaN</td>\n",
       "      <td>1.0</td>\n",
       "      <td>0.06</td>\n",
       "      <td>0.01</td>\n",
       "      <td>0.03</td>\n",
       "      <td>2.0</td>\n",
       "      <td>NaN</td>\n",
       "      <td>2.0</td>\n",
       "      <td>2.0</td>\n",
       "      <td>NaN</td>\n",
       "      <td>NaN</td>\n",
       "      <td>NaN</td>\n",
       "      <td>NaN</td>\n",
       "      <td>NaN</td>\n",
       "    </tr>\n",
       "    <tr>\n",
       "      <th>3</th>\n",
       "      <td>Afghanistan</td>\n",
       "      <td>Ananas</td>\n",
       "      <td>vegetale</td>\n",
       "      <td>NaN</td>\n",
       "      <td>NaN</td>\n",
       "      <td>0.0</td>\n",
       "      <td>0.00</td>\n",
       "      <td>NaN</td>\n",
       "      <td>NaN</td>\n",
       "      <td>0.0</td>\n",
       "      <td>NaN</td>\n",
       "      <td>0.0</td>\n",
       "      <td>0.0</td>\n",
       "      <td>NaN</td>\n",
       "      <td>NaN</td>\n",
       "      <td>NaN</td>\n",
       "      <td>NaN</td>\n",
       "      <td>NaN</td>\n",
       "    </tr>\n",
       "    <tr>\n",
       "      <th>4</th>\n",
       "      <td>Afghanistan</td>\n",
       "      <td>Bananes</td>\n",
       "      <td>vegetale</td>\n",
       "      <td>NaN</td>\n",
       "      <td>NaN</td>\n",
       "      <td>4.0</td>\n",
       "      <td>2.70</td>\n",
       "      <td>0.02</td>\n",
       "      <td>0.05</td>\n",
       "      <td>82.0</td>\n",
       "      <td>NaN</td>\n",
       "      <td>82.0</td>\n",
       "      <td>82.0</td>\n",
       "      <td>NaN</td>\n",
       "      <td>NaN</td>\n",
       "      <td>NaN</td>\n",
       "      <td>NaN</td>\n",
       "      <td>NaN</td>\n",
       "    </tr>\n",
       "  </tbody>\n",
       "</table>\n",
       "</div>"
      ],
      "text/plain": [
       "          Zone                Produit   Origine  Aliments pour animaux  \\\n",
       "0  Afghanistan       Abats Comestible   animale                    NaN   \n",
       "1  Afghanistan        Agrumes, Autres  vegetale                    NaN   \n",
       "2  Afghanistan  Aliments pour enfants  vegetale                    NaN   \n",
       "3  Afghanistan                 Ananas  vegetale                    NaN   \n",
       "4  Afghanistan                Bananes  vegetale                    NaN   \n",
       "\n",
       "   Autres Utilisations  Disponibilité alimentaire (Kcal/personne/jour)  \\\n",
       "0                  NaN                                             5.0   \n",
       "1                  NaN                                             1.0   \n",
       "2                  NaN                                             1.0   \n",
       "3                  NaN                                             0.0   \n",
       "4                  NaN                                             4.0   \n",
       "\n",
       "   Disponibilité alimentaire en quantité (kg/personne/an)  \\\n",
       "0                                               1.72        \n",
       "1                                               1.29        \n",
       "2                                               0.06        \n",
       "3                                               0.00        \n",
       "4                                               2.70        \n",
       "\n",
       "   Disponibilité de matière grasse en quantité (g/personne/jour)  \\\n",
       "0                                               0.20               \n",
       "1                                               0.01               \n",
       "2                                               0.01               \n",
       "3                                                NaN               \n",
       "4                                               0.02               \n",
       "\n",
       "   Disponibilité de protéines en quantité (g/personne/jour)  \\\n",
       "0                                               0.77          \n",
       "1                                               0.02          \n",
       "2                                               0.03          \n",
       "3                                                NaN          \n",
       "4                                               0.05          \n",
       "\n",
       "   Disponibilité intérieure  Exportations - Quantité  Importations - Quantité  \\\n",
       "0                      53.0                      NaN                      NaN   \n",
       "1                      41.0                      2.0                     40.0   \n",
       "2                       2.0                      NaN                      2.0   \n",
       "3                       0.0                      NaN                      0.0   \n",
       "4                      82.0                      NaN                     82.0   \n",
       "\n",
       "   Nourriture  Pertes  Production  Semences  Traitement  Variation de stock  \n",
       "0        53.0     NaN        53.0       NaN         NaN                 NaN  \n",
       "1        39.0     2.0         3.0       NaN         NaN                 NaN  \n",
       "2         2.0     NaN         NaN       NaN         NaN                 NaN  \n",
       "3         0.0     NaN         NaN       NaN         NaN                 NaN  \n",
       "4        82.0     NaN         NaN       NaN         NaN                 NaN  "
      ]
     },
     "execution_count": 23,
     "metadata": {},
     "output_type": "execute_result"
    }
   ],
   "source": [
    "data_dispo.head()"
   ]
  },
  {
   "cell_type": "code",
   "execution_count": 24,
   "id": "4711e0c5",
   "metadata": {},
   "outputs": [
    {
     "name": "stdout",
     "output_type": "stream",
     "text": [
      "<class 'pandas.core.frame.DataFrame'>\n",
      "RangeIndex: 15605 entries, 0 to 15604\n",
      "Data columns (total 18 columns):\n",
      " #   Column                                                         Non-Null Count  Dtype  \n",
      "---  ------                                                         --------------  -----  \n",
      " 0   Zone                                                           15605 non-null  object \n",
      " 1   Produit                                                        15605 non-null  object \n",
      " 2   Origine                                                        15605 non-null  object \n",
      " 3   Aliments pour animaux                                          2720 non-null   float64\n",
      " 4   Autres Utilisations                                            5496 non-null   float64\n",
      " 5   Disponibilité alimentaire (Kcal/personne/jour)                 14241 non-null  float64\n",
      " 6   Disponibilité alimentaire en quantité (kg/personne/an)         14015 non-null  float64\n",
      " 7   Disponibilité de matière grasse en quantité (g/personne/jour)  11794 non-null  float64\n",
      " 8   Disponibilité de protéines en quantité (g/personne/jour)       11561 non-null  float64\n",
      " 9   Disponibilité intérieure                                       15382 non-null  float64\n",
      " 10  Exportations - Quantité                                        12226 non-null  float64\n",
      " 11  Importations - Quantité                                        14852 non-null  float64\n",
      " 12  Nourriture                                                     14015 non-null  float64\n",
      " 13  Pertes                                                         4278 non-null   float64\n",
      " 14  Production                                                     9180 non-null   float64\n",
      " 15  Semences                                                       2091 non-null   float64\n",
      " 16  Traitement                                                     2292 non-null   float64\n",
      " 17  Variation de stock                                             6776 non-null   float64\n",
      "dtypes: float64(15), object(3)\n",
      "memory usage: 2.1+ MB\n"
     ]
    }
   ],
   "source": [
    "data_dispo.info()"
   ]
  },
  {
   "attachments": {},
   "cell_type": "markdown",
   "id": "49e11339",
   "metadata": {},
   "source": [
    "The missing values in this file reflect the fact that NaN-related products are simply not produced in the country concerned! We will therefore replace all missing values with 0."
   ]
  },
  {
   "cell_type": "code",
   "execution_count": 25,
   "id": "9cdcd0bd",
   "metadata": {},
   "outputs": [
    {
     "data": {
      "text/html": [
       "<div>\n",
       "<style scoped>\n",
       "    .dataframe tbody tr th:only-of-type {\n",
       "        vertical-align: middle;\n",
       "    }\n",
       "\n",
       "    .dataframe tbody tr th {\n",
       "        vertical-align: top;\n",
       "    }\n",
       "\n",
       "    .dataframe thead th {\n",
       "        text-align: right;\n",
       "    }\n",
       "</style>\n",
       "<table border=\"1\" class=\"dataframe\">\n",
       "  <thead>\n",
       "    <tr style=\"text-align: right;\">\n",
       "      <th></th>\n",
       "      <th>Zone</th>\n",
       "      <th>Produit</th>\n",
       "      <th>Origine</th>\n",
       "      <th>Aliments pour animaux</th>\n",
       "      <th>Autres Utilisations</th>\n",
       "      <th>Disponibilité alimentaire (Kcal/personne/jour)</th>\n",
       "      <th>Disponibilité alimentaire en quantité (kg/personne/an)</th>\n",
       "      <th>Disponibilité de matière grasse en quantité (g/personne/jour)</th>\n",
       "      <th>Disponibilité de protéines en quantité (g/personne/jour)</th>\n",
       "      <th>Disponibilité intérieure</th>\n",
       "      <th>Exportations - Quantité</th>\n",
       "      <th>Importations - Quantité</th>\n",
       "      <th>Nourriture</th>\n",
       "      <th>Pertes</th>\n",
       "      <th>Production</th>\n",
       "      <th>Semences</th>\n",
       "      <th>Traitement</th>\n",
       "      <th>Variation de stock</th>\n",
       "    </tr>\n",
       "  </thead>\n",
       "  <tbody>\n",
       "    <tr>\n",
       "      <th>2992</th>\n",
       "      <td>Chine - RAS de Hong-Kong</td>\n",
       "      <td>Abats Comestible</td>\n",
       "      <td>animale</td>\n",
       "      <td>0.0</td>\n",
       "      <td>63.0</td>\n",
       "      <td>81.0</td>\n",
       "      <td>26.77</td>\n",
       "      <td>2.25</td>\n",
       "      <td>13.27</td>\n",
       "      <td>256.0</td>\n",
       "      <td>430.0</td>\n",
       "      <td>674.0</td>\n",
       "      <td>193.0</td>\n",
       "      <td>0.0</td>\n",
       "      <td>12.0</td>\n",
       "      <td>0.0</td>\n",
       "      <td>0.0</td>\n",
       "      <td>0.0</td>\n",
       "    </tr>\n",
       "    <tr>\n",
       "      <th>2993</th>\n",
       "      <td>Chine - RAS de Hong-Kong</td>\n",
       "      <td>Agrumes, Autres</td>\n",
       "      <td>vegetale</td>\n",
       "      <td>0.0</td>\n",
       "      <td>0.0</td>\n",
       "      <td>0.0</td>\n",
       "      <td>0.32</td>\n",
       "      <td>0.00</td>\n",
       "      <td>0.00</td>\n",
       "      <td>2.0</td>\n",
       "      <td>0.0</td>\n",
       "      <td>3.0</td>\n",
       "      <td>2.0</td>\n",
       "      <td>0.0</td>\n",
       "      <td>0.0</td>\n",
       "      <td>0.0</td>\n",
       "      <td>0.0</td>\n",
       "      <td>0.0</td>\n",
       "    </tr>\n",
       "    <tr>\n",
       "      <th>2994</th>\n",
       "      <td>Chine - RAS de Hong-Kong</td>\n",
       "      <td>Alcool, non Comestible</td>\n",
       "      <td>vegetale</td>\n",
       "      <td>0.0</td>\n",
       "      <td>1.0</td>\n",
       "      <td>0.0</td>\n",
       "      <td>0.00</td>\n",
       "      <td>0.00</td>\n",
       "      <td>0.00</td>\n",
       "      <td>1.0</td>\n",
       "      <td>0.0</td>\n",
       "      <td>1.0</td>\n",
       "      <td>0.0</td>\n",
       "      <td>0.0</td>\n",
       "      <td>0.0</td>\n",
       "      <td>0.0</td>\n",
       "      <td>0.0</td>\n",
       "      <td>0.0</td>\n",
       "    </tr>\n",
       "    <tr>\n",
       "      <th>2995</th>\n",
       "      <td>Chine - RAS de Hong-Kong</td>\n",
       "      <td>Aliments pour enfants</td>\n",
       "      <td>vegetale</td>\n",
       "      <td>0.0</td>\n",
       "      <td>0.0</td>\n",
       "      <td>0.0</td>\n",
       "      <td>0.05</td>\n",
       "      <td>0.00</td>\n",
       "      <td>0.02</td>\n",
       "      <td>0.0</td>\n",
       "      <td>1.0</td>\n",
       "      <td>2.0</td>\n",
       "      <td>0.0</td>\n",
       "      <td>0.0</td>\n",
       "      <td>0.0</td>\n",
       "      <td>0.0</td>\n",
       "      <td>0.0</td>\n",
       "      <td>0.0</td>\n",
       "    </tr>\n",
       "    <tr>\n",
       "      <th>2996</th>\n",
       "      <td>Chine - RAS de Hong-Kong</td>\n",
       "      <td>Ananas</td>\n",
       "      <td>vegetale</td>\n",
       "      <td>0.0</td>\n",
       "      <td>1.0</td>\n",
       "      <td>2.0</td>\n",
       "      <td>1.53</td>\n",
       "      <td>0.01</td>\n",
       "      <td>0.02</td>\n",
       "      <td>13.0</td>\n",
       "      <td>14.0</td>\n",
       "      <td>28.0</td>\n",
       "      <td>11.0</td>\n",
       "      <td>2.0</td>\n",
       "      <td>0.0</td>\n",
       "      <td>0.0</td>\n",
       "      <td>0.0</td>\n",
       "      <td>0.0</td>\n",
       "    </tr>\n",
       "    <tr>\n",
       "      <th>...</th>\n",
       "      <td>...</td>\n",
       "      <td>...</td>\n",
       "      <td>...</td>\n",
       "      <td>...</td>\n",
       "      <td>...</td>\n",
       "      <td>...</td>\n",
       "      <td>...</td>\n",
       "      <td>...</td>\n",
       "      <td>...</td>\n",
       "      <td>...</td>\n",
       "      <td>...</td>\n",
       "      <td>...</td>\n",
       "      <td>...</td>\n",
       "      <td>...</td>\n",
       "      <td>...</td>\n",
       "      <td>...</td>\n",
       "      <td>...</td>\n",
       "      <td>...</td>\n",
       "    </tr>\n",
       "    <tr>\n",
       "      <th>3364</th>\n",
       "      <td>Chine continentale</td>\n",
       "      <td>Viande de Suides</td>\n",
       "      <td>animale</td>\n",
       "      <td>0.0</td>\n",
       "      <td>0.0</td>\n",
       "      <td>369.0</td>\n",
       "      <td>38.43</td>\n",
       "      <td>35.41</td>\n",
       "      <td>11.58</td>\n",
       "      <td>53268.0</td>\n",
       "      <td>279.0</td>\n",
       "      <td>815.0</td>\n",
       "      <td>53247.0</td>\n",
       "      <td>0.0</td>\n",
       "      <td>52733.0</td>\n",
       "      <td>0.0</td>\n",
       "      <td>21.0</td>\n",
       "      <td>0.0</td>\n",
       "    </tr>\n",
       "    <tr>\n",
       "      <th>3365</th>\n",
       "      <td>Chine continentale</td>\n",
       "      <td>Viande de Volailles</td>\n",
       "      <td>animale</td>\n",
       "      <td>0.0</td>\n",
       "      <td>0.0</td>\n",
       "      <td>63.0</td>\n",
       "      <td>13.20</td>\n",
       "      <td>4.94</td>\n",
       "      <td>4.26</td>\n",
       "      <td>18285.0</td>\n",
       "      <td>564.0</td>\n",
       "      <td>584.0</td>\n",
       "      <td>18284.0</td>\n",
       "      <td>0.0</td>\n",
       "      <td>18265.0</td>\n",
       "      <td>0.0</td>\n",
       "      <td>2.0</td>\n",
       "      <td>0.0</td>\n",
       "    </tr>\n",
       "    <tr>\n",
       "      <th>3366</th>\n",
       "      <td>Chine continentale</td>\n",
       "      <td>Viande, Autre</td>\n",
       "      <td>animale</td>\n",
       "      <td>1.0</td>\n",
       "      <td>0.0</td>\n",
       "      <td>4.0</td>\n",
       "      <td>1.18</td>\n",
       "      <td>0.16</td>\n",
       "      <td>0.58</td>\n",
       "      <td>1635.0</td>\n",
       "      <td>19.0</td>\n",
       "      <td>2.0</td>\n",
       "      <td>1635.0</td>\n",
       "      <td>0.0</td>\n",
       "      <td>1653.0</td>\n",
       "      <td>0.0</td>\n",
       "      <td>0.0</td>\n",
       "      <td>0.0</td>\n",
       "    </tr>\n",
       "    <tr>\n",
       "      <th>3367</th>\n",
       "      <td>Chine continentale</td>\n",
       "      <td>Vin</td>\n",
       "      <td>vegetale</td>\n",
       "      <td>0.0</td>\n",
       "      <td>0.0</td>\n",
       "      <td>3.0</td>\n",
       "      <td>1.50</td>\n",
       "      <td>0.00</td>\n",
       "      <td>0.00</td>\n",
       "      <td>2075.0</td>\n",
       "      <td>3.0</td>\n",
       "      <td>378.0</td>\n",
       "      <td>2075.0</td>\n",
       "      <td>0.0</td>\n",
       "      <td>1700.0</td>\n",
       "      <td>0.0</td>\n",
       "      <td>0.0</td>\n",
       "      <td>0.0</td>\n",
       "    </tr>\n",
       "    <tr>\n",
       "      <th>3368</th>\n",
       "      <td>Chine continentale</td>\n",
       "      <td>Épices, Autres</td>\n",
       "      <td>vegetale</td>\n",
       "      <td>0.0</td>\n",
       "      <td>0.0</td>\n",
       "      <td>1.0</td>\n",
       "      <td>0.13</td>\n",
       "      <td>0.04</td>\n",
       "      <td>0.04</td>\n",
       "      <td>176.0</td>\n",
       "      <td>432.0</td>\n",
       "      <td>3.0</td>\n",
       "      <td>176.0</td>\n",
       "      <td>0.0</td>\n",
       "      <td>605.0</td>\n",
       "      <td>0.0</td>\n",
       "      <td>0.0</td>\n",
       "      <td>0.0</td>\n",
       "    </tr>\n",
       "  </tbody>\n",
       "</table>\n",
       "<p>377 rows × 18 columns</p>\n",
       "</div>"
      ],
      "text/plain": [
       "                          Zone                 Produit   Origine  \\\n",
       "2992  Chine - RAS de Hong-Kong        Abats Comestible   animale   \n",
       "2993  Chine - RAS de Hong-Kong         Agrumes, Autres  vegetale   \n",
       "2994  Chine - RAS de Hong-Kong  Alcool, non Comestible  vegetale   \n",
       "2995  Chine - RAS de Hong-Kong   Aliments pour enfants  vegetale   \n",
       "2996  Chine - RAS de Hong-Kong                  Ananas  vegetale   \n",
       "...                        ...                     ...       ...   \n",
       "3364        Chine continentale        Viande de Suides   animale   \n",
       "3365        Chine continentale     Viande de Volailles   animale   \n",
       "3366        Chine continentale           Viande, Autre   animale   \n",
       "3367        Chine continentale                     Vin  vegetale   \n",
       "3368        Chine continentale          Épices, Autres  vegetale   \n",
       "\n",
       "      Aliments pour animaux  Autres Utilisations  \\\n",
       "2992                    0.0                 63.0   \n",
       "2993                    0.0                  0.0   \n",
       "2994                    0.0                  1.0   \n",
       "2995                    0.0                  0.0   \n",
       "2996                    0.0                  1.0   \n",
       "...                     ...                  ...   \n",
       "3364                    0.0                  0.0   \n",
       "3365                    0.0                  0.0   \n",
       "3366                    1.0                  0.0   \n",
       "3367                    0.0                  0.0   \n",
       "3368                    0.0                  0.0   \n",
       "\n",
       "      Disponibilité alimentaire (Kcal/personne/jour)  \\\n",
       "2992                                            81.0   \n",
       "2993                                             0.0   \n",
       "2994                                             0.0   \n",
       "2995                                             0.0   \n",
       "2996                                             2.0   \n",
       "...                                              ...   \n",
       "3364                                           369.0   \n",
       "3365                                            63.0   \n",
       "3366                                             4.0   \n",
       "3367                                             3.0   \n",
       "3368                                             1.0   \n",
       "\n",
       "      Disponibilité alimentaire en quantité (kg/personne/an)  \\\n",
       "2992                                              26.77        \n",
       "2993                                               0.32        \n",
       "2994                                               0.00        \n",
       "2995                                               0.05        \n",
       "2996                                               1.53        \n",
       "...                                                 ...        \n",
       "3364                                              38.43        \n",
       "3365                                              13.20        \n",
       "3366                                               1.18        \n",
       "3367                                               1.50        \n",
       "3368                                               0.13        \n",
       "\n",
       "      Disponibilité de matière grasse en quantité (g/personne/jour)  \\\n",
       "2992                                               2.25               \n",
       "2993                                               0.00               \n",
       "2994                                               0.00               \n",
       "2995                                               0.00               \n",
       "2996                                               0.01               \n",
       "...                                                 ...               \n",
       "3364                                              35.41               \n",
       "3365                                               4.94               \n",
       "3366                                               0.16               \n",
       "3367                                               0.00               \n",
       "3368                                               0.04               \n",
       "\n",
       "      Disponibilité de protéines en quantité (g/personne/jour)  \\\n",
       "2992                                              13.27          \n",
       "2993                                               0.00          \n",
       "2994                                               0.00          \n",
       "2995                                               0.02          \n",
       "2996                                               0.02          \n",
       "...                                                 ...          \n",
       "3364                                              11.58          \n",
       "3365                                               4.26          \n",
       "3366                                               0.58          \n",
       "3367                                               0.00          \n",
       "3368                                               0.04          \n",
       "\n",
       "      Disponibilité intérieure  Exportations - Quantité  \\\n",
       "2992                     256.0                    430.0   \n",
       "2993                       2.0                      0.0   \n",
       "2994                       1.0                      0.0   \n",
       "2995                       0.0                      1.0   \n",
       "2996                      13.0                     14.0   \n",
       "...                        ...                      ...   \n",
       "3364                   53268.0                    279.0   \n",
       "3365                   18285.0                    564.0   \n",
       "3366                    1635.0                     19.0   \n",
       "3367                    2075.0                      3.0   \n",
       "3368                     176.0                    432.0   \n",
       "\n",
       "      Importations - Quantité  Nourriture  Pertes  Production  Semences  \\\n",
       "2992                    674.0       193.0     0.0        12.0       0.0   \n",
       "2993                      3.0         2.0     0.0         0.0       0.0   \n",
       "2994                      1.0         0.0     0.0         0.0       0.0   \n",
       "2995                      2.0         0.0     0.0         0.0       0.0   \n",
       "2996                     28.0        11.0     2.0         0.0       0.0   \n",
       "...                       ...         ...     ...         ...       ...   \n",
       "3364                    815.0     53247.0     0.0     52733.0       0.0   \n",
       "3365                    584.0     18284.0     0.0     18265.0       0.0   \n",
       "3366                      2.0      1635.0     0.0      1653.0       0.0   \n",
       "3367                    378.0      2075.0     0.0      1700.0       0.0   \n",
       "3368                      3.0       176.0     0.0       605.0       0.0   \n",
       "\n",
       "      Traitement  Variation de stock  \n",
       "2992         0.0                 0.0  \n",
       "2993         0.0                 0.0  \n",
       "2994         0.0                 0.0  \n",
       "2995         0.0                 0.0  \n",
       "2996         0.0                 0.0  \n",
       "...          ...                 ...  \n",
       "3364        21.0                 0.0  \n",
       "3365         2.0                 0.0  \n",
       "3366         0.0                 0.0  \n",
       "3367         0.0                 0.0  \n",
       "3368         0.0                 0.0  \n",
       "\n",
       "[377 rows x 18 columns]"
      ]
     },
     "execution_count": 25,
     "metadata": {},
     "output_type": "execute_result"
    }
   ],
   "source": [
    "# Replace NaNs by 0\n",
    "data_dispo.fillna(0, inplace=True)\n",
    "# # Search for the different designations of CHINA \n",
    "data_dispo.loc[data_dispo[\"Zone\"].str.contains(\"Chine\", na=False)]\n",
    "# Delet\",\" in country designations CHINA \n",
    "modif_chine_dispo = {\"Chine, continentale\":\"Chine continentale\", \"Chine, Taiwan Province de\" : \"Taïwan - province de Chine\"}\n",
    "data_dispo[\"Zone\"].replace(modif_chine_dispo, inplace=True)\n",
    "# Check\n",
    "data_dispo.loc[data_dispo[\"Zone\"].str.contains(\"Chine\", na=False)]"
   ]
  },
  {
   "cell_type": "code",
   "execution_count": 26,
   "id": "111eb2fa",
   "metadata": {},
   "outputs": [
    {
     "data": {
      "text/plain": [
       "Zone                                                             0\n",
       "Produit                                                          0\n",
       "Origine                                                          0\n",
       "Aliments pour animaux                                            0\n",
       "Autres Utilisations                                              0\n",
       "Disponibilité alimentaire (Kcal/personne/jour)                   0\n",
       "Disponibilité alimentaire en quantité (kg/personne/an)           0\n",
       "Disponibilité de matière grasse en quantité (g/personne/jour)    0\n",
       "Disponibilité de protéines en quantité (g/personne/jour)         0\n",
       "Disponibilité intérieure                                         0\n",
       "Exportations - Quantité                                          0\n",
       "Importations - Quantité                                          0\n",
       "Nourriture                                                       0\n",
       "Pertes                                                           0\n",
       "Production                                                       0\n",
       "Semences                                                         0\n",
       "Traitement                                                       0\n",
       "Variation de stock                                               0\n",
       "dtype: int64"
      ]
     },
     "execution_count": 26,
     "metadata": {},
     "output_type": "execute_result"
    }
   ],
   "source": [
    "data_dispo.isnull().sum()"
   ]
  },
  {
   "attachments": {},
   "cell_type": "markdown",
   "id": "20363891",
   "metadata": {},
   "source": [
    "We have just cleaned the datasets related to the 4 files below: \n",
    "- undernutrition\n",
    "- population between 2013-2018\n",
    "- food aid\n",
    "- food availability\n",
    "\n",
    "However, we need to make a choice concerning the 4 Zones below: \n",
    "- China - Hong Kong SAR\n",
    "- China - Macau SAR\n",
    "- Mainland China\n",
    "- Taiwan - Province of China \n",
    "\n",
    "SAR or SAR stands for *Special Administrative Region*, but all 4 zones belong to China. Moreover, the food aid file (data_aa) only refers to mainland China. \n",
    "\n",
    "I propose to keep the 4 zones to provide better granularity in the analysis, and we need to pay particular attention to future joins between **data_aa** and the other files."
   ]
  },
  {
   "attachments": {},
   "cell_type": "markdown",
   "id": "2df17aab",
   "metadata": {},
   "source": [
    "\n",
    "## I.a) Logical link between the 10 Variables expressed in thousands of tons on the uses of domestic availability. \n",
    "\n",
    "\n",
    "**Disponibilité intérieure** = Production + Importation - Exportation + Varition de stock\n",
    "\n",
    "**Disponibilité intérieure** = Nourriture + Aliments pour animaux + Autres Utilisations + Pertes + Semences + Traitement"
   ]
  },
  {
   "attachments": {},
   "cell_type": "markdown",
   "id": "e6254150",
   "metadata": {},
   "source": [
    "## **How are cereals used for human vs. animal consumption ?**"
   ]
  },
  {
   "cell_type": "code",
   "execution_count": 27,
   "id": "3bbcbde2",
   "metadata": {},
   "outputs": [
    {
     "data": {
      "text/html": [
       "<div>\n",
       "<style scoped>\n",
       "    .dataframe tbody tr th:only-of-type {\n",
       "        vertical-align: middle;\n",
       "    }\n",
       "\n",
       "    .dataframe tbody tr th {\n",
       "        vertical-align: top;\n",
       "    }\n",
       "\n",
       "    .dataframe thead th {\n",
       "        text-align: right;\n",
       "    }\n",
       "</style>\n",
       "<table border=\"1\" class=\"dataframe\">\n",
       "  <thead>\n",
       "    <tr style=\"text-align: right;\">\n",
       "      <th></th>\n",
       "      <th>Aliments pour animaux</th>\n",
       "      <th>Autres Utilisations</th>\n",
       "      <th>Disponibilité intérieure</th>\n",
       "      <th>Nourriture</th>\n",
       "    </tr>\n",
       "  </thead>\n",
       "  <tbody>\n",
       "    <tr>\n",
       "      <th>0</th>\n",
       "      <td>851194.0</td>\n",
       "      <td>233203.0</td>\n",
       "      <td>2349603.0</td>\n",
       "      <td>1000646.0</td>\n",
       "    </tr>\n",
       "  </tbody>\n",
       "</table>\n",
       "</div>"
      ],
      "text/plain": [
       "   Aliments pour animaux  Autres Utilisations  Disponibilité intérieure  \\\n",
       "0               851194.0             233203.0                 2349603.0   \n",
       "\n",
       "   Nourriture  \n",
       "0   1000646.0  "
      ]
     },
     "execution_count": 27,
     "metadata": {},
     "output_type": "execute_result"
    }
   ],
   "source": [
    "cereale = [\"Blé\",\"Seigle\",\"Orge\",\"Avoine\",\"Maïs\",\"Riz (Eq Blanchi)\",\"Mélanges de céréales\",\"Sarrasin\",\"Sorgho\",\"Mil\",\n",
    "            \"Quinoa\",\"Autres céréales\"]\n",
    "# Creation of the df_cereale dataset with only the cereals present in the cereale list.\n",
    "df_cereale = data_dispo[data_dispo[\"Produit\"].isin(cereale)]\n",
    "df_cereale = df_cereale.loc[:,[\"Produit\",\"Aliments pour animaux\",\"Autres Utilisations\",\"Disponibilité intérieure\",\"Nourriture\"]]\n",
    "# Calculation of total quantity in thousands of tonnes by use category\n",
    "df_cereale_sum = df_cereale[[\"Aliments pour animaux\",\"Autres Utilisations\",\"Disponibilité intérieure\",\"Nourriture\"]].sum()\n",
    "df_cereale_sum.to_frame().T"
   ]
  },
  {
   "cell_type": "code",
   "execution_count": 28,
   "id": "dd24ff33",
   "metadata": {},
   "outputs": [
    {
     "data": {
      "image/png": "[encoded data removed]",
      "text/plain": [
       "<Figure size 640x480 with 1 Axes>"
      ]
     },
     "metadata": {},
     "output_type": "display_data"
    }
   ],
   "source": [
    "# Pie chart showing the breakdown between the 3 main categories.\n",
    "labels = [\"Aliments pour animaux\",\"Nourriture\",\"Autres Utilisations\"]\n",
    "data = df_cereale_sum[[\"Aliments pour animaux\",\"Nourriture\",\"Autres Utilisations\"]].values\n",
    "plt.pie(data, labels=labels, autopct='%1.0f%%', startangle = 0)\n",
    "plt.show()"
   ]
  },
  {
   "attachments": {},
   "cell_type": "markdown",
   "id": "370b2106",
   "metadata": {},
   "source": [
    "Around 50% of total cereal production is destined for human consumption."
   ]
  },
  {
   "cell_type": "code",
   "execution_count": 29,
   "id": "99ecaad6",
   "metadata": {},
   "outputs": [
    {
     "data": {
      "text/html": [
       "<div>\n",
       "<style scoped>\n",
       "    .dataframe tbody tr th:only-of-type {\n",
       "        vertical-align: middle;\n",
       "    }\n",
       "\n",
       "    .dataframe tbody tr th {\n",
       "        vertical-align: top;\n",
       "    }\n",
       "\n",
       "    .dataframe thead th {\n",
       "        text-align: right;\n",
       "    }\n",
       "</style>\n",
       "<table border=\"1\" class=\"dataframe\">\n",
       "  <thead>\n",
       "    <tr style=\"text-align: right;\">\n",
       "      <th></th>\n",
       "      <th>Nourriture</th>\n",
       "      <th>Aliments pour animaux</th>\n",
       "      <th>Autres Utilisations</th>\n",
       "      <th>Disponibilité intérieure</th>\n",
       "      <th>Ratio_H</th>\n",
       "      <th>Ratio_A</th>\n",
       "    </tr>\n",
       "    <tr>\n",
       "      <th>Produit</th>\n",
       "      <th></th>\n",
       "      <th></th>\n",
       "      <th></th>\n",
       "      <th></th>\n",
       "      <th></th>\n",
       "      <th></th>\n",
       "    </tr>\n",
       "  </thead>\n",
       "  <tbody>\n",
       "    <tr>\n",
       "      <th>Maïs</th>\n",
       "      <td>125184.0</td>\n",
       "      <td>546116.0</td>\n",
       "      <td>189386.0</td>\n",
       "      <td>955799.0</td>\n",
       "      <td>13</td>\n",
       "      <td>57</td>\n",
       "    </tr>\n",
       "    <tr>\n",
       "      <th>Blé</th>\n",
       "      <td>457824.0</td>\n",
       "      <td>129668.0</td>\n",
       "      <td>22424.0</td>\n",
       "      <td>679498.0</td>\n",
       "      <td>67</td>\n",
       "      <td>19</td>\n",
       "    </tr>\n",
       "    <tr>\n",
       "      <th>Riz (Eq Blanchi)</th>\n",
       "      <td>377286.0</td>\n",
       "      <td>33594.0</td>\n",
       "      <td>18464.0</td>\n",
       "      <td>475656.0</td>\n",
       "      <td>79</td>\n",
       "      <td>7</td>\n",
       "    </tr>\n",
       "    <tr>\n",
       "      <th>Orge</th>\n",
       "      <td>6794.0</td>\n",
       "      <td>92658.0</td>\n",
       "      <td>654.0</td>\n",
       "      <td>140439.0</td>\n",
       "      <td>4</td>\n",
       "      <td>65</td>\n",
       "    </tr>\n",
       "    <tr>\n",
       "      <th>Sorgho</th>\n",
       "      <td>24153.0</td>\n",
       "      <td>24808.0</td>\n",
       "      <td>2049.0</td>\n",
       "      <td>58237.0</td>\n",
       "      <td>41</td>\n",
       "      <td>42</td>\n",
       "    </tr>\n",
       "    <tr>\n",
       "      <th>Avoine</th>\n",
       "      <td>3903.0</td>\n",
       "      <td>16251.0</td>\n",
       "      <td>206.0</td>\n",
       "      <td>23407.0</td>\n",
       "      <td>16</td>\n",
       "      <td>69</td>\n",
       "    </tr>\n",
       "    <tr>\n",
       "      <th>Seigle</th>\n",
       "      <td>5502.0</td>\n",
       "      <td>8099.0</td>\n",
       "      <td>20.0</td>\n",
       "      <td>16567.0</td>\n",
       "      <td>33</td>\n",
       "      <td>48</td>\n",
       "    </tr>\n",
       "  </tbody>\n",
       "</table>\n",
       "</div>"
      ],
      "text/plain": [
       "                  Nourriture  Aliments pour animaux  Autres Utilisations  \\\n",
       "Produit                                                                    \n",
       "Maïs                125184.0               546116.0             189386.0   \n",
       "Blé                 457824.0               129668.0              22424.0   \n",
       "Riz (Eq Blanchi)    377286.0                33594.0              18464.0   \n",
       "Orge                  6794.0                92658.0                654.0   \n",
       "Sorgho               24153.0                24808.0               2049.0   \n",
       "Avoine                3903.0                16251.0                206.0   \n",
       "Seigle                5502.0                 8099.0                 20.0   \n",
       "\n",
       "                  Disponibilité intérieure  Ratio_H  Ratio_A  \n",
       "Produit                                                       \n",
       "Maïs                              955799.0       13       57  \n",
       "Blé                               679498.0       67       19  \n",
       "Riz (Eq Blanchi)                  475656.0       79        7  \n",
       "Orge                              140439.0        4       65  \n",
       "Sorgho                             58237.0       41       42  \n",
       "Avoine                             23407.0       16       69  \n",
       "Seigle                             16567.0       33       48  "
      ]
     },
     "execution_count": 29,
     "metadata": {},
     "output_type": "execute_result"
    }
   ],
   "source": [
    "df_cereale = df_cereale.groupby(\"Produit\")[[\"Nourriture\",\"Aliments pour animaux\",\"Autres Utilisations\",\"Disponibilité intérieure\"]].sum()\n",
    "df_cereale = df_cereale.sort_values(by='Disponibilité intérieure', ascending = False)\n",
    "df_cereale[\"Ratio_H\"] = (df_cereale[\"Nourriture\"] / df_cereale[\"Disponibilité intérieure\"]*100).astype(int)\n",
    "df_cereale[\"Ratio_A\"] = (df_cereale[\"Aliments pour animaux\"] / df_cereale[\"Disponibilité intérieure\"]*100).astype(int)\n",
    "df_cereale"
   ]
  },
  {
   "cell_type": "code",
   "execution_count": 30,
   "id": "b68e6b14",
   "metadata": {},
   "outputs": [
    {
     "data": {
      "image/png": "[encoded data removed]",
      "text/plain": [
       "<Figure size 640x480 with 1 Axes>"
      ]
     },
     "metadata": {},
     "output_type": "display_data"
    },
    {
     "data": {
      "image/png": "[encoded data removed]",
      "text/plain": [
       "<Figure size 640x480 with 1 Axes>"
      ]
     },
     "metadata": {},
     "output_type": "display_data"
    }
   ],
   "source": [
    "# Histogram - Cereals by category\n",
    "df1 = df_cereale[[\"Nourriture\",\"Aliments pour animaux\",\"Autres Utilisations\"]]\n",
    "df1.plot.bar(stacked=False)\n",
    "plt.xlabel(\"Céréales\")\n",
    "plt.ylabel(\"Tonnes (x1000)\")\n",
    "plt.title(\"Répartition des céréales par catégories\")\n",
    "plt.show()\n",
    "# Histogram - Cereals by category Stacked\n",
    "df1 = df_cereale[[\"Nourriture\",\"Aliments pour animaux\",\"Autres Utilisations\"]]\n",
    "df1.plot.bar(stacked=True)\n",
    "plt.xlabel(\"Céréales\")\n",
    "plt.ylabel(\"Tonnes (x1000)\")\n",
    "plt.title(\"Répartition des céréales cumulées par catégories\")\n",
    "plt.show()"
   ]
  },
  {
   "attachments": {},
   "cell_type": "markdown",
   "id": "bb7900d9",
   "metadata": {},
   "source": [
    "## **I.c) Thailand's use of cassava**"
   ]
  },
  {
   "cell_type": "code",
   "execution_count": 31,
   "id": "dc037f59",
   "metadata": {},
   "outputs": [
    {
     "data": {
      "text/html": [
       "<div>\n",
       "<style scoped>\n",
       "    .dataframe tbody tr th:only-of-type {\n",
       "        vertical-align: middle;\n",
       "    }\n",
       "\n",
       "    .dataframe tbody tr th {\n",
       "        vertical-align: top;\n",
       "    }\n",
       "\n",
       "    .dataframe thead th {\n",
       "        text-align: right;\n",
       "    }\n",
       "</style>\n",
       "<table border=\"1\" class=\"dataframe\">\n",
       "  <thead>\n",
       "    <tr style=\"text-align: right;\">\n",
       "      <th></th>\n",
       "      <th>Zone</th>\n",
       "      <th>Aliments pour animaux</th>\n",
       "      <th>Autres Utilisations</th>\n",
       "      <th>Disponibilité intérieure</th>\n",
       "      <th>Exportations - Quantité</th>\n",
       "      <th>Importations - Quantité</th>\n",
       "      <th>Nourriture</th>\n",
       "      <th>Production</th>\n",
       "      <th>Variation de stock</th>\n",
       "    </tr>\n",
       "  </thead>\n",
       "  <tbody>\n",
       "    <tr>\n",
       "      <th>13809</th>\n",
       "      <td>Thaïlande</td>\n",
       "      <td>1800.0</td>\n",
       "      <td>2081.0</td>\n",
       "      <td>6264.0</td>\n",
       "      <td>25214.0</td>\n",
       "      <td>1250.0</td>\n",
       "      <td>871.0</td>\n",
       "      <td>30228.0</td>\n",
       "      <td>0.0</td>\n",
       "    </tr>\n",
       "  </tbody>\n",
       "</table>\n",
       "</div>"
      ],
      "text/plain": [
       "            Zone  Aliments pour animaux  Autres Utilisations  \\\n",
       "13809  Thaïlande                 1800.0               2081.0   \n",
       "\n",
       "       Disponibilité intérieure  Exportations - Quantité  \\\n",
       "13809                    6264.0                  25214.0   \n",
       "\n",
       "       Importations - Quantité  Nourriture  Production  Variation de stock  \n",
       "13809                   1250.0       871.0     30228.0                 0.0  "
      ]
     },
     "execution_count": 31,
     "metadata": {},
     "output_type": "execute_result"
    }
   ],
   "source": [
    "# Creation of the \"thailande\" dataframe\n",
    "thailande = data_dispo.loc[(data_dispo['Zone'] == 'Thaïlande') & (data_dispo['Produit'] == 'Manioc')]\n",
    "# Filter on selected columns\n",
    "thailande = thailande[[\"Zone\",\"Aliments pour animaux\",\"Autres Utilisations\",\"Disponibilité intérieure\",\n",
    "                       \"Exportations - Quantité\",\"Importations - Quantité\",\"Nourriture\",\"Production\",\"Variation de stock\"]]\n",
    "thailande"
   ]
  },
  {
   "cell_type": "code",
   "execution_count": 32,
   "id": "b7f881bd",
   "metadata": {},
   "outputs": [
    {
     "data": {
      "text/html": [
       "<div>\n",
       "<style scoped>\n",
       "    .dataframe tbody tr th:only-of-type {\n",
       "        vertical-align: middle;\n",
       "    }\n",
       "\n",
       "    .dataframe tbody tr th {\n",
       "        vertical-align: top;\n",
       "    }\n",
       "\n",
       "    .dataframe thead th {\n",
       "        text-align: right;\n",
       "    }\n",
       "</style>\n",
       "<table border=\"1\" class=\"dataframe\">\n",
       "  <thead>\n",
       "    <tr style=\"text-align: right;\">\n",
       "      <th></th>\n",
       "      <th>Ratio_Importation_Dispo_totale</th>\n",
       "      <th>Ratio_Exportation_Dispo_totale</th>\n",
       "      <th>Ratio_Exportation_Production</th>\n",
       "    </tr>\n",
       "  </thead>\n",
       "  <tbody>\n",
       "    <tr>\n",
       "      <th>13809</th>\n",
       "      <td>3</td>\n",
       "      <td>80</td>\n",
       "      <td>83</td>\n",
       "    </tr>\n",
       "  </tbody>\n",
       "</table>\n",
       "</div>"
      ],
      "text/plain": [
       "       Ratio_Importation_Dispo_totale  Ratio_Exportation_Dispo_totale  \\\n",
       "13809                               3                              80   \n",
       "\n",
       "       Ratio_Exportation_Production  \n",
       "13809                            83  "
      ]
     },
     "execution_count": 32,
     "metadata": {},
     "output_type": "execute_result"
    }
   ],
   "source": [
    "# Calculation of Total Cassava Availability in Thailand\n",
    "Dispo_totale_Manioc = thailande[\"Production\"] + thailande[\"Importations - Quantité\"] + thailande[\"Variation de stock\"]\n",
    "# Calculating the Export / Total Availability Ratio\n",
    "thailande[\"Ratio_Exportation_Dispo_totale\"] = thailande[\"Exportations - Quantité\"] / Dispo_totale_Manioc * 100\n",
    "# Calculating the Export / Production Ratio\n",
    "thailande[\"Ratio_Exportation_Production\"] = thailande[\"Exportations - Quantité\"] / thailande[\"Production\"] * 100\n",
    "# Calculating the Import / Total Availability Ratio\n",
    "thailande[\"Ratio_Importation_Dispo_totale\"] = thailande[\"Importations - Quantité\"] / Dispo_totale_Manioc * 100\n",
    "# Display of 3 Ratios\n",
    "thailande[[\"Ratio_Importation_Dispo_totale\", \"Ratio_Exportation_Dispo_totale\", \"Ratio_Exportation_Production\"]].astype(int)"
   ]
  },
  {
   "attachments": {},
   "cell_type": "markdown",
   "id": "959111ec",
   "metadata": {},
   "source": [
    "- Imports represent **3%** of the country's total availability.\n",
    "- **80%** of Thailand's total cassava availability is destined for export.\n",
    "- Exports represent **83%** of the country's cassava production."
   ]
  },
  {
   "cell_type": "code",
   "execution_count": 33,
   "id": "fba70d6a",
   "metadata": {},
   "outputs": [
    {
     "data": {
      "text/html": [
       "<div>\n",
       "<style scoped>\n",
       "    .dataframe tbody tr th:only-of-type {\n",
       "        vertical-align: middle;\n",
       "    }\n",
       "\n",
       "    .dataframe tbody tr th {\n",
       "        vertical-align: top;\n",
       "    }\n",
       "\n",
       "    .dataframe thead th {\n",
       "        text-align: right;\n",
       "    }\n",
       "</style>\n",
       "<table border=\"1\" class=\"dataframe\">\n",
       "  <thead>\n",
       "    <tr style=\"text-align: right;\">\n",
       "      <th></th>\n",
       "      <th>Zone</th>\n",
       "      <th>Année_x</th>\n",
       "      <th>Valeur_sn</th>\n",
       "      <th>Année_y</th>\n",
       "      <th>Valeur_pop</th>\n",
       "    </tr>\n",
       "  </thead>\n",
       "  <tbody>\n",
       "    <tr>\n",
       "      <th>0</th>\n",
       "      <td>Thaïlande</td>\n",
       "      <td>2013</td>\n",
       "      <td>6200000.0</td>\n",
       "      <td>2013</td>\n",
       "      <td>68144518.0</td>\n",
       "    </tr>\n",
       "  </tbody>\n",
       "</table>\n",
       "</div>"
      ],
      "text/plain": [
       "        Zone  Année_x  Valeur_sn  Année_y  Valeur_pop\n",
       "0  Thaïlande     2013  6200000.0     2013  68144518.0"
      ]
     },
     "execution_count": 33,
     "metadata": {},
     "output_type": "execute_result"
    }
   ],
   "source": [
    "# Thailand's undernourished population in 2013\n",
    "thailande_sn = data_sn.loc[(data_sn['Zone'] == 'Thaïlande') & (data_sn['Année'] == 2013)]\n",
    "# Thai population in 2013\n",
    "thailande_pop = data_pop.loc[(data_pop['Zone'] == 'Thaïlande') & (data_pop['Année'] == 2013)] \n",
    "# Jointure entre thailande_sn et thailande_pop\n",
    "thailande_sn_pop = pd.merge(thailande_sn, thailande_pop, how=\"inner\", on=\"Zone\")\n",
    "thailande_sn_pop"
   ]
  },
  {
   "cell_type": "code",
   "execution_count": 34,
   "id": "7c5dedeb",
   "metadata": {},
   "outputs": [
    {
     "name": "stdout",
     "output_type": "stream",
     "text": [
      "9.1 % de la population Thaïlandaise en état de sous-nutriton.\n"
     ]
    }
   ],
   "source": [
    "# Calculation of the ratio of undernourished Thai population\n",
    "ratio_sn_pop = round(thailande_sn_pop[\"Valeur_sn\"] / thailande_sn_pop[\"Valeur_pop\"]*100,2)\n",
    "print(str(ratio_sn_pop[0]) + \" % de la population Thaïlandaise en état de sous-nutriton.\")"
   ]
  },
  {
   "attachments": {},
   "cell_type": "markdown",
   "id": "2318d967",
   "metadata": {},
   "source": [
    "Thailand has almost **10%** of its population undernourished, but **83%** of cassava production is exported. Cassava is also used more to feed animals, at 1.8 million tonnes compared with 871,000 tonnes for human consumption. In other words, cassava is **2 times** more used for animal feed than human needs.\n",
    "\n",
    "Cassava is a tuberous shrub grown primarily for its roots, but the wood can be used as fuel, the leaves and peelings for animal feed, and the stalks as food salt.\n",
    "\n",
    "Cassava is used for human and animal nutrition, and in many industrial sectors is used in its starch form and for the production of ethanol."
   ]
  },
  {
   "attachments": {},
   "cell_type": "markdown",
   "id": "c2b8b677",
   "metadata": {},
   "source": [
    "## II-a) Proportion of undernourished people - 2017."
   ]
  },
  {
   "cell_type": "code",
   "execution_count": 35,
   "id": "45295e4d",
   "metadata": {},
   "outputs": [
    {
     "name": "stdout",
     "output_type": "stream",
     "text": [
      "7.10 % de la population mondiale en état de sous-nutrition\n"
     ]
    }
   ],
   "source": [
    "# Creation of dataframe ratio_sn_pop_tot with JOINT of data_sn and data_pop\n",
    "ratio_sn_pop_tot = data_sn.loc[data_sn[\"Année\"] == 2017].merge(data_pop.loc[data_pop[\"Année\"] == 2017], how=\"inner\", on=\"Zone\")\n",
    "# Calculation of the percentage of undernourished people\n",
    "result = ratio_sn_pop_tot[\"Valeur_sn\"].sum()*100 / ratio_sn_pop_tot[\"Valeur_pop\"].sum()\n",
    "print(\"{:.2f} % de la population mondiale en état de sous-nutrition\".format(result))"
   ]
  },
  {
   "attachments": {},
   "cell_type": "markdown",
   "id": "fb3ee24d",
   "metadata": {},
   "source": [
    "## II-b) Theoretical number of people who could be fed."
   ]
  },
  {
   "cell_type": "code",
   "execution_count": 36,
   "id": "735b9b2d",
   "metadata": {},
   "outputs": [
    {
     "data": {
      "text/html": [
       "<div>\n",
       "<style scoped>\n",
       "    .dataframe tbody tr th:only-of-type {\n",
       "        vertical-align: middle;\n",
       "    }\n",
       "\n",
       "    .dataframe tbody tr th {\n",
       "        vertical-align: top;\n",
       "    }\n",
       "\n",
       "    .dataframe thead th {\n",
       "        text-align: right;\n",
       "    }\n",
       "</style>\n",
       "<table border=\"1\" class=\"dataframe\">\n",
       "  <thead>\n",
       "    <tr style=\"text-align: right;\">\n",
       "      <th></th>\n",
       "      <th>Zone</th>\n",
       "      <th>Disponibilité alimentaire (Kcal/personne/jour/pays)</th>\n",
       "      <th>Année</th>\n",
       "      <th>Valeur_pop</th>\n",
       "    </tr>\n",
       "  </thead>\n",
       "  <tbody>\n",
       "    <tr>\n",
       "      <th>0</th>\n",
       "      <td>Afghanistan</td>\n",
       "      <td>2087.0</td>\n",
       "      <td>2017</td>\n",
       "      <td>36296113.0</td>\n",
       "    </tr>\n",
       "    <tr>\n",
       "      <th>1</th>\n",
       "      <td>Afrique du Sud</td>\n",
       "      <td>3020.0</td>\n",
       "      <td>2017</td>\n",
       "      <td>57009756.0</td>\n",
       "    </tr>\n",
       "    <tr>\n",
       "      <th>2</th>\n",
       "      <td>Albanie</td>\n",
       "      <td>3188.0</td>\n",
       "      <td>2017</td>\n",
       "      <td>2884169.0</td>\n",
       "    </tr>\n",
       "    <tr>\n",
       "      <th>3</th>\n",
       "      <td>Algérie</td>\n",
       "      <td>3293.0</td>\n",
       "      <td>2017</td>\n",
       "      <td>41389189.0</td>\n",
       "    </tr>\n",
       "    <tr>\n",
       "      <th>4</th>\n",
       "      <td>Allemagne</td>\n",
       "      <td>3503.0</td>\n",
       "      <td>2017</td>\n",
       "      <td>82658409.0</td>\n",
       "    </tr>\n",
       "  </tbody>\n",
       "</table>\n",
       "</div>"
      ],
      "text/plain": [
       "             Zone  Disponibilité alimentaire (Kcal/personne/jour/pays)  Année  \\\n",
       "0     Afghanistan                                             2087.0     2017   \n",
       "1  Afrique du Sud                                             3020.0     2017   \n",
       "2         Albanie                                             3188.0     2017   \n",
       "3         Algérie                                             3293.0     2017   \n",
       "4       Allemagne                                             3503.0     2017   \n",
       "\n",
       "   Valeur_pop  \n",
       "0  36296113.0  \n",
       "1  57009756.0  \n",
       "2   2884169.0  \n",
       "3  41389189.0  \n",
       "4  82658409.0  "
      ]
     },
     "execution_count": 36,
     "metadata": {},
     "output_type": "execute_result"
    }
   ],
   "source": [
    "# Creation of a dataset aggregating food availability data (Kcal/person/day) by country\n",
    "data_dispo_pop = data_dispo.groupby(\"Zone\")[[\"Disponibilité alimentaire (Kcal/personne/jour)\"]].sum()\n",
    "population_2017 = data_pop.loc[data_pop[\"Année\"] == 2017]\n",
    "# Merge between data_dispo and data_pop files.\n",
    "data_dispo_pop = pd.merge(data_dispo_pop, population_2017, how='inner', on='Zone')\n",
    "# Rename columns\n",
    "data_dispo_pop.rename(columns={\"Disponibilité alimentaire (Kcal/personne/jour)\" : \"Disponibilité alimentaire (Kcal/personne/jour/pays)\"},inplace=True)\n",
    "# Display the DataFrame\n",
    "data_dispo_pop.head()"
   ]
  },
  {
   "attachments": {},
   "cell_type": "markdown",
   "id": "995eb512",
   "metadata": {},
   "source": [
    "For an adult man, the recommended energy intake is, on average, 2,400 to 2,600 calories a day, depending on activity. For an adult woman, it's 1,800 to 2,200 calories. \n",
    "\n",
    "For the rest of the calculations, we'll assume that **daily intake = 2,500 Kcal/day/person**."
   ]
  },
  {
   "cell_type": "code",
   "execution_count": 37,
   "id": "429c5c4c",
   "metadata": {},
   "outputs": [
    {
     "data": {
      "text/plain": [
       "8367593850.9324"
      ]
     },
     "execution_count": 37,
     "metadata": {},
     "output_type": "execute_result"
    }
   ],
   "source": [
    "# Food availability in relation to the population of each country\n",
    "data_dispo_pop[\"Kcal/jour/pays\"] = data_dispo_pop[\"Disponibilité alimentaire (Kcal/personne/jour/pays)\"] * data_dispo_pop[\"Valeur_pop\"]\n",
    "# Calculation of the global quantity of calories available in relation to daily intake\n",
    "qte_monde_kcal = data_dispo_pop[\"Kcal/jour/pays\"].sum()/2500\n",
    "qte_monde_kcal"
   ]
  },
  {
   "cell_type": "code",
   "execution_count": 38,
   "id": "a85dcf60",
   "metadata": {},
   "outputs": [
    {
     "data": {
      "text/plain": [
       "7548134111.0"
      ]
     },
     "execution_count": 38,
     "metadata": {},
     "output_type": "execute_result"
    }
   ],
   "source": [
    "pop_tot = population_2017[\"Valeur_pop\"].sum()\n",
    "pop_tot"
   ]
  },
  {
   "cell_type": "code",
   "execution_count": 39,
   "id": "2c47a8d6",
   "metadata": {},
   "outputs": [
    {
     "name": "stdout",
     "output_type": "stream",
     "text": [
      "La nourriture produite à travers le monde est capable de nourrir 1.11 fois la population mondiale.\n"
     ]
    }
   ],
   "source": [
    "# Calculation of the theoretical number of people who could be fed\n",
    "nb_th_hab_nourrie = round(qte_monde_kcal/pop_tot,3)\n",
    "print(\"La nourriture produite à travers le monde est capable de nourrir {:.2f} fois la population mondiale.\".format(nb_th_hab_nourrie))"
   ]
  },
  {
   "attachments": {},
   "cell_type": "markdown",
   "id": "f365ae6c",
   "metadata": {},
   "source": [
    "## II-C) Potential number of people who could be fed solely on plants."
   ]
  },
  {
   "cell_type": "code",
   "execution_count": 40,
   "id": "82c9b619",
   "metadata": {},
   "outputs": [
    {
     "data": {
      "text/html": [
       "<div>\n",
       "<style scoped>\n",
       "    .dataframe tbody tr th:only-of-type {\n",
       "        vertical-align: middle;\n",
       "    }\n",
       "\n",
       "    .dataframe tbody tr th {\n",
       "        vertical-align: top;\n",
       "    }\n",
       "\n",
       "    .dataframe thead th {\n",
       "        text-align: right;\n",
       "    }\n",
       "</style>\n",
       "<table border=\"1\" class=\"dataframe\">\n",
       "  <thead>\n",
       "    <tr style=\"text-align: right;\">\n",
       "      <th></th>\n",
       "      <th>Zone</th>\n",
       "      <th>Disponibilité alimentaire (Kcal/personne/jour/pays)</th>\n",
       "      <th>Année</th>\n",
       "      <th>Valeur_pop</th>\n",
       "    </tr>\n",
       "  </thead>\n",
       "  <tbody>\n",
       "    <tr>\n",
       "      <th>0</th>\n",
       "      <td>Afghanistan</td>\n",
       "      <td>1871.0</td>\n",
       "      <td>2017</td>\n",
       "      <td>36296113.0</td>\n",
       "    </tr>\n",
       "    <tr>\n",
       "      <th>1</th>\n",
       "      <td>Afrique du Sud</td>\n",
       "      <td>2533.0</td>\n",
       "      <td>2017</td>\n",
       "      <td>57009756.0</td>\n",
       "    </tr>\n",
       "    <tr>\n",
       "      <th>2</th>\n",
       "      <td>Albanie</td>\n",
       "      <td>2203.0</td>\n",
       "      <td>2017</td>\n",
       "      <td>2884169.0</td>\n",
       "    </tr>\n",
       "    <tr>\n",
       "      <th>3</th>\n",
       "      <td>Algérie</td>\n",
       "      <td>2915.0</td>\n",
       "      <td>2017</td>\n",
       "      <td>41389189.0</td>\n",
       "    </tr>\n",
       "    <tr>\n",
       "      <th>4</th>\n",
       "      <td>Allemagne</td>\n",
       "      <td>2461.0</td>\n",
       "      <td>2017</td>\n",
       "      <td>82658409.0</td>\n",
       "    </tr>\n",
       "  </tbody>\n",
       "</table>\n",
       "</div>"
      ],
      "text/plain": [
       "             Zone  Disponibilité alimentaire (Kcal/personne/jour/pays)  Année  \\\n",
       "0     Afghanistan                                             1871.0     2017   \n",
       "1  Afrique du Sud                                             2533.0     2017   \n",
       "2         Albanie                                             2203.0     2017   \n",
       "3         Algérie                                             2915.0     2017   \n",
       "4       Allemagne                                             2461.0     2017   \n",
       "\n",
       "   Valeur_pop  \n",
       "0  36296113.0  \n",
       "1  57009756.0  \n",
       "2   2884169.0  \n",
       "3  41389189.0  \n",
       "4  82658409.0  "
      ]
     },
     "execution_count": 40,
     "metadata": {},
     "output_type": "execute_result"
    }
   ],
   "source": [
    "# Filter on \"Origin\" column of \"data_dispo\" dataset and on year 2017 of data_pop dataset\n",
    "data_dispo_veg = data_dispo.loc[data_dispo[\"Origine\"] == \"vegetale\"]\n",
    "population_2017 = data_pop.loc[data_pop[\"Année\"] == 2017]\n",
    "# Creation of a dataset aggregating food availability data (Kcal/person/day) by country\n",
    "data_dispo_pop_vegetaux = data_dispo_veg.groupby([\"Zone\"])[[\"Disponibilité alimentaire (Kcal/personne/jour)\"]].sum()\n",
    "# Merge between data_dispo and data_pop files\n",
    "data_dispo_pop = pd.merge(data_dispo_pop_vegetaux, population_2017, how='inner', on='Zone')\n",
    "# Rename columns\n",
    "data_dispo_pop.rename(columns={\"Disponibilité alimentaire (Kcal/personne/jour)\" : \"Disponibilité alimentaire (Kcal/personne/jour/pays)\"},inplace=True)\n",
    "# Display the DataFrame\n",
    "data_dispo_pop.head()"
   ]
  },
  {
   "cell_type": "code",
   "execution_count": 41,
   "id": "a96ca7e7",
   "metadata": {},
   "outputs": [
    {
     "name": "stdout",
     "output_type": "stream",
     "text": [
      "91.47 % de la population mondiale peut-être nourrie grâce à l'alimentation d'origine végétale.\n"
     ]
    }
   ],
   "source": [
    "# Food availability in relation to the population of each country\n",
    "data_dispo_pop[\"Kcal/jour/pays\"] = data_dispo_pop[\"Disponibilité alimentaire (Kcal/personne/jour/pays)\"] * data_dispo_pop[\"Valeur_pop\"]\n",
    "# Calculation of the global quantity of calories available in relation to daily intake (Kcal/day/country)\n",
    "qte_monde_kcal_vegetaux = data_dispo_pop[\"Kcal/jour/pays\"].sum()/2500\n",
    "qte_monde_kcal_vegetaux\n",
    "# Calculation of the theoretical number of people who could be fed solely with food from plant sources\n",
    "nb_th_hab_nourrie_vegetaux = round(qte_monde_kcal_vegetaux/pop_tot*100,3)\n",
    "nb_th_hab_nourrie_vegetaux\n",
    "print(str(round(nb_th_hab_nourrie_vegetaux,3)) + \" % de la population mondiale peut-être nourrie grâce à l'alimentation d'origine végétale.\")"
   ]
  },
  {
   "attachments": {},
   "cell_type": "markdown",
   "id": "188edfc8",
   "metadata": {},
   "source": [
    " ## II-d) Use of domestic availability, in particular :\n",
    " - the share allocated to animal feed,\n",
    " - the ones lost in the process\n",
    "     - These are quantities lost during processing, storage and transport. Losses before and during harvest are not taken into account. \n",
    " - the one actually used for human consumption."
   ]
  },
  {
   "cell_type": "code",
   "execution_count": 42,
   "id": "b882cff0",
   "metadata": {},
   "outputs": [],
   "source": [
    "# Calculation of total domestic availability in thousands of tonnes\n",
    "Qte_tot_Dispo_int = data_dispo[\"Disponibilité intérieure\"].sum()\n",
    "# Calculation of total quantity in thousands of tons - Animal feed\n",
    "Qte_tot_Alim_Animaux = data_dispo[\"Aliments pour animaux\"].sum()\n",
    "Ratio_Alim_Animaux = Qte_tot_Alim_Animaux / Qte_tot_Dispo_int*100\n",
    "# Calculation of the total quantity in thousands of tons of Losses \n",
    "Qte_tot_Pertes = data_dispo[\"Pertes\"].sum()\n",
    "Ratio_Pertes = Qte_tot_Pertes / Qte_tot_Dispo_int*100\n",
    "# Calculation of the total quantity in thousands of tons of Food for Human Beings\n",
    "Qte_tot_Alim_Humain = data_dispo[\"Nourriture\"].sum()\n",
    "Ratio_Alim_Hu = Qte_tot_Alim_Humain / Qte_tot_Dispo_int*100"
   ]
  },
  {
   "cell_type": "code",
   "execution_count": 43,
   "id": "6aa92c47",
   "metadata": {},
   "outputs": [
    {
     "name": "stdout",
     "output_type": "stream",
     "text": [
      "L'alimentation animale représente 13.24 %, la nourriture pour les êtres humains représente 49.51 %, les pertes représente 4.61 %\n"
     ]
    }
   ],
   "source": [
    "print(\"L'alimentation animale représente {:.2f} %,\".format(Ratio_Alim_Animaux), \n",
    "      \"la nourriture pour les êtres humains représente {:.2f} %,\".format(Ratio_Alim_Hu),\n",
    "      \"les pertes représente {:.2f} %\".format(Ratio_Pertes))\n"
   ]
  },
  {
   "attachments": {},
   "cell_type": "markdown",
   "id": "676cb14a",
   "metadata": {},
   "source": [
    "## III-a) Countries with the highest proportion of undernourished people in 2017."
   ]
  },
  {
   "cell_type": "code",
   "execution_count": 44,
   "id": "67613ef3",
   "metadata": {},
   "outputs": [
    {
     "data": {
      "text/html": [
       "<div>\n",
       "<style scoped>\n",
       "    .dataframe tbody tr th:only-of-type {\n",
       "        vertical-align: middle;\n",
       "    }\n",
       "\n",
       "    .dataframe tbody tr th {\n",
       "        vertical-align: top;\n",
       "    }\n",
       "\n",
       "    .dataframe thead th {\n",
       "        text-align: right;\n",
       "    }\n",
       "</style>\n",
       "<table border=\"1\" class=\"dataframe\">\n",
       "  <thead>\n",
       "    <tr style=\"text-align: right;\">\n",
       "      <th></th>\n",
       "      <th>Zone</th>\n",
       "      <th>Année_x</th>\n",
       "      <th>Valeur_sn</th>\n",
       "      <th>Année_y</th>\n",
       "      <th>Valeur_pop</th>\n",
       "      <th>Ratio_sn_pop</th>\n",
       "    </tr>\n",
       "  </thead>\n",
       "  <tbody>\n",
       "    <tr>\n",
       "      <th>78</th>\n",
       "      <td>Haïti</td>\n",
       "      <td>2017</td>\n",
       "      <td>5300000.0</td>\n",
       "      <td>2017</td>\n",
       "      <td>10982366.0</td>\n",
       "      <td>48.26</td>\n",
       "    </tr>\n",
       "    <tr>\n",
       "      <th>157</th>\n",
       "      <td>République populaire démocratique de Corée</td>\n",
       "      <td>2017</td>\n",
       "      <td>12000000.0</td>\n",
       "      <td>2017</td>\n",
       "      <td>25429825.0</td>\n",
       "      <td>47.19</td>\n",
       "    </tr>\n",
       "    <tr>\n",
       "      <th>108</th>\n",
       "      <td>Madagascar</td>\n",
       "      <td>2017</td>\n",
       "      <td>10500000.0</td>\n",
       "      <td>2017</td>\n",
       "      <td>25570512.0</td>\n",
       "      <td>41.06</td>\n",
       "    </tr>\n",
       "    <tr>\n",
       "      <th>103</th>\n",
       "      <td>Libéria</td>\n",
       "      <td>2017</td>\n",
       "      <td>1800000.0</td>\n",
       "      <td>2017</td>\n",
       "      <td>4702226.0</td>\n",
       "      <td>38.28</td>\n",
       "    </tr>\n",
       "    <tr>\n",
       "      <th>100</th>\n",
       "      <td>Lesotho</td>\n",
       "      <td>2017</td>\n",
       "      <td>800000.0</td>\n",
       "      <td>2017</td>\n",
       "      <td>2091534.0</td>\n",
       "      <td>38.25</td>\n",
       "    </tr>\n",
       "    <tr>\n",
       "      <th>183</th>\n",
       "      <td>Tchad</td>\n",
       "      <td>2017</td>\n",
       "      <td>5700000.0</td>\n",
       "      <td>2017</td>\n",
       "      <td>15016753.0</td>\n",
       "      <td>37.96</td>\n",
       "    </tr>\n",
       "    <tr>\n",
       "      <th>161</th>\n",
       "      <td>Rwanda</td>\n",
       "      <td>2017</td>\n",
       "      <td>4200000.0</td>\n",
       "      <td>2017</td>\n",
       "      <td>11980961.0</td>\n",
       "      <td>35.06</td>\n",
       "    </tr>\n",
       "    <tr>\n",
       "      <th>121</th>\n",
       "      <td>Mozambique</td>\n",
       "      <td>2017</td>\n",
       "      <td>9400000.0</td>\n",
       "      <td>2017</td>\n",
       "      <td>28649018.0</td>\n",
       "      <td>32.81</td>\n",
       "    </tr>\n",
       "    <tr>\n",
       "      <th>186</th>\n",
       "      <td>Timor-Leste</td>\n",
       "      <td>2017</td>\n",
       "      <td>400000.0</td>\n",
       "      <td>2017</td>\n",
       "      <td>1243258.0</td>\n",
       "      <td>32.17</td>\n",
       "    </tr>\n",
       "    <tr>\n",
       "      <th>0</th>\n",
       "      <td>Afghanistan</td>\n",
       "      <td>2017</td>\n",
       "      <td>10500000.0</td>\n",
       "      <td>2017</td>\n",
       "      <td>36296113.0</td>\n",
       "      <td>28.93</td>\n",
       "    </tr>\n",
       "  </tbody>\n",
       "</table>\n",
       "</div>"
      ],
      "text/plain": [
       "                                           Zone  Année_x   Valeur_sn  Année_y  \\\n",
       "78                                        Haïti     2017   5300000.0     2017   \n",
       "157  République populaire démocratique de Corée     2017  12000000.0     2017   \n",
       "108                                  Madagascar     2017  10500000.0     2017   \n",
       "103                                     Libéria     2017   1800000.0     2017   \n",
       "100                                     Lesotho     2017    800000.0     2017   \n",
       "183                                       Tchad     2017   5700000.0     2017   \n",
       "161                                      Rwanda     2017   4200000.0     2017   \n",
       "121                                  Mozambique     2017   9400000.0     2017   \n",
       "186                                 Timor-Leste     2017    400000.0     2017   \n",
       "0                                   Afghanistan     2017  10500000.0     2017   \n",
       "\n",
       "     Valeur_pop  Ratio_sn_pop  \n",
       "78   10982366.0         48.26  \n",
       "157  25429825.0         47.19  \n",
       "108  25570512.0         41.06  \n",
       "103   4702226.0         38.28  \n",
       "100   2091534.0         38.25  \n",
       "183  15016753.0         37.96  \n",
       "161  11980961.0         35.06  \n",
       "121  28649018.0         32.81  \n",
       "186   1243258.0         32.17  \n",
       "0    36296113.0         28.93  "
      ]
     },
     "execution_count": 44,
     "metadata": {},
     "output_type": "execute_result"
    }
   ],
   "source": [
    "# Filter on the year 2017 for both datasets\n",
    "data_sn_2017 = data_sn.loc[data_sn[\"Année\"] == 2017]\n",
    "data_pop_2017 = data_pop.loc[data_pop[\"Année\"] == 2017]\n",
    "# Merge\n",
    "data_sn_pop_2017 = pd.merge(data_sn_2017, data_pop_2017, how=\"inner\", on=\"Zone\")\n",
    "# Create \"Ratio_sn_pop\" column\n",
    "data_sn_pop_2017[\"Ratio_sn_pop\"] = round(data_sn_pop_2017[\"Valeur_sn\"] / data_sn_pop_2017[\"Valeur_pop\"]*100,2)\n",
    "# Filter the \"Ratio_sn_pop by descending order\" column\n",
    "data_sn_pop_2017.sort_values(\"Ratio_sn_pop\", ascending=False).head(10)"
   ]
  },
  {
   "cell_type": "code",
   "execution_count": 45,
   "id": "57e41d7c",
   "metadata": {},
   "outputs": [
    {
     "data": {
      "text/plain": [
       "['Afghanistan',\n",
       " 'Botswana',\n",
       " 'Congo',\n",
       " \"Côte d'Ivoire\",\n",
       " 'Haïti',\n",
       " 'Iraq',\n",
       " 'Kenya',\n",
       " 'Lesotho',\n",
       " 'Libéria',\n",
       " 'Madagascar',\n",
       " 'Mozambique',\n",
       " 'République populaire démocratique de Corée',\n",
       " 'République-Unie de Tanzanie',\n",
       " 'Rwanda',\n",
       " 'Sierra Leone',\n",
       " 'Tchad',\n",
       " 'Timor-Leste',\n",
       " 'Togo',\n",
       " 'Venezuela (République bolivarienne du)']"
      ]
     },
     "execution_count": 45,
     "metadata": {},
     "output_type": "execute_result"
    }
   ],
   "source": [
    "# Filter on countries with more than 20% of their population undernourished\n",
    "df = data_sn_pop_2017.loc[data_sn_pop_2017[\"Ratio_sn_pop\"] > 20, \"Zone\"]\n",
    "# Create a list of countries\n",
    "liste_pays_sous_alim = df.tolist()\n",
    "liste_pays_sous_alim"
   ]
  },
  {
   "cell_type": "code",
   "execution_count": 46,
   "id": "c0b7d85b",
   "metadata": {},
   "outputs": [
    {
     "name": "stdout",
     "output_type": "stream",
     "text": [
      "19 pays ont un taux de sous-nutrition > à 20 %\n"
     ]
    }
   ],
   "source": [
    "print(str(len(liste_pays_sous_alim)) + \" pays ont un taux de sous-nutrition > à 20 %\")"
   ]
  },
  {
   "attachments": {},
   "cell_type": "markdown",
   "id": "b2c254d8",
   "metadata": {},
   "source": [
    "## III-b) Countries that received most aid since 2013"
   ]
  },
  {
   "attachments": {},
   "cell_type": "markdown",
   "id": "915e43f6",
   "metadata": {},
   "source": [
    "### Link the thousands of tons of food aid received since 2013 and the population per country/capita."
   ]
  },
  {
   "cell_type": "code",
   "execution_count": 47,
   "id": "e0ebc2a1",
   "metadata": {},
   "outputs": [],
   "source": [
    "# Rename Taiwan, Macao, Hong-Kong to China in dataset data_pop_modif created from data_pop\n",
    "chine = {\"Chine - RAS de Hong-Kong\" : \"Chine continentale\",\n",
    "         \"Chine - RAS de Macao\" : \"Chine continentale\",\n",
    "         \"Taïwan - province de Chine\" : \"Chine continentale\"}\n",
    "data_pop_modif = data_pop.copy()\n",
    "data_pop_modif[\"Zone\"] = data_pop_modif[\"Zone\"].replace(chine)"
   ]
  },
  {
   "cell_type": "code",
   "execution_count": 48,
   "id": "428724b6",
   "metadata": {},
   "outputs": [
    {
     "data": {
      "text/html": [
       "<div>\n",
       "<style scoped>\n",
       "    .dataframe tbody tr th:only-of-type {\n",
       "        vertical-align: middle;\n",
       "    }\n",
       "\n",
       "    .dataframe tbody tr th {\n",
       "        vertical-align: top;\n",
       "    }\n",
       "\n",
       "    .dataframe thead th {\n",
       "        text-align: right;\n",
       "    }\n",
       "</style>\n",
       "<table border=\"1\" class=\"dataframe\">\n",
       "  <thead>\n",
       "    <tr style=\"text-align: right;\">\n",
       "      <th></th>\n",
       "      <th>Zone</th>\n",
       "      <th>Année</th>\n",
       "      <th>Produit</th>\n",
       "      <th>Valeur_aa_kg</th>\n",
       "      <th>Valeur_pop</th>\n",
       "    </tr>\n",
       "  </thead>\n",
       "  <tbody>\n",
       "    <tr>\n",
       "      <th>0</th>\n",
       "      <td>Afghanistan</td>\n",
       "      <td>2013</td>\n",
       "      <td>Autres non-céréales</td>\n",
       "      <td>682000</td>\n",
       "      <td>32269589.0</td>\n",
       "    </tr>\n",
       "    <tr>\n",
       "      <th>1</th>\n",
       "      <td>Afghanistan</td>\n",
       "      <td>2013</td>\n",
       "      <td>Blé et Farin</td>\n",
       "      <td>39224000</td>\n",
       "      <td>32269589.0</td>\n",
       "    </tr>\n",
       "    <tr>\n",
       "      <th>2</th>\n",
       "      <td>Afghanistan</td>\n",
       "      <td>2013</td>\n",
       "      <td>Céréales</td>\n",
       "      <td>40504000</td>\n",
       "      <td>32269589.0</td>\n",
       "    </tr>\n",
       "    <tr>\n",
       "      <th>3</th>\n",
       "      <td>Afghanistan</td>\n",
       "      <td>2013</td>\n",
       "      <td>Fruits secs, total</td>\n",
       "      <td>85000</td>\n",
       "      <td>32269589.0</td>\n",
       "    </tr>\n",
       "    <tr>\n",
       "      <th>4</th>\n",
       "      <td>Afghanistan</td>\n",
       "      <td>2013</td>\n",
       "      <td>Huiles végétales</td>\n",
       "      <td>11087000</td>\n",
       "      <td>32269589.0</td>\n",
       "    </tr>\n",
       "  </tbody>\n",
       "</table>\n",
       "</div>"
      ],
      "text/plain": [
       "          Zone  Année              Produit  Valeur_aa_kg  Valeur_pop\n",
       "0  Afghanistan   2013  Autres non-céréales        682000  32269589.0\n",
       "1  Afghanistan   2013         Blé et Farin      39224000  32269589.0\n",
       "2  Afghanistan   2013             Céréales      40504000  32269589.0\n",
       "3  Afghanistan   2013   Fruits secs, total         85000  32269589.0\n",
       "4  Afghanistan   2013     Huiles végétales      11087000  32269589.0"
      ]
     },
     "execution_count": 48,
     "metadata": {},
     "output_type": "execute_result"
    }
   ],
   "source": [
    "# Merge on Zone and Year columns\n",
    "data_aa_pop = pd.merge(data_aa,data_pop_modif,how=\"inner\",on=[\"Zone\", \"Année\"])\n",
    "data_aa_pop.head()"
   ]
  },
  {
   "cell_type": "code",
   "execution_count": 49,
   "id": "b3401fc0",
   "metadata": {},
   "outputs": [
    {
     "data": {
      "text/html": [
       "<div>\n",
       "<style scoped>\n",
       "    .dataframe tbody tr th:only-of-type {\n",
       "        vertical-align: middle;\n",
       "    }\n",
       "\n",
       "    .dataframe tbody tr th {\n",
       "        vertical-align: top;\n",
       "    }\n",
       "\n",
       "    .dataframe thead th {\n",
       "        text-align: right;\n",
       "    }\n",
       "</style>\n",
       "<table border=\"1\" class=\"dataframe\">\n",
       "  <thead>\n",
       "    <tr style=\"text-align: right;\">\n",
       "      <th></th>\n",
       "      <th>Valeur_aa_kg</th>\n",
       "      <th>aide_alim_kg/personne</th>\n",
       "    </tr>\n",
       "    <tr>\n",
       "      <th>Zone</th>\n",
       "      <th></th>\n",
       "      <th></th>\n",
       "    </tr>\n",
       "  </thead>\n",
       "  <tbody>\n",
       "    <tr>\n",
       "      <th>République arabe syrienne</th>\n",
       "      <td>1858943000</td>\n",
       "      <td>10.09</td>\n",
       "    </tr>\n",
       "    <tr>\n",
       "      <th>Éthiopie</th>\n",
       "      <td>1381294000</td>\n",
       "      <td>1.26</td>\n",
       "    </tr>\n",
       "    <tr>\n",
       "      <th>Yémen</th>\n",
       "      <td>1206484000</td>\n",
       "      <td>4.74</td>\n",
       "    </tr>\n",
       "    <tr>\n",
       "      <th>Soudan du Sud</th>\n",
       "      <td>695248000</td>\n",
       "      <td>9.37</td>\n",
       "    </tr>\n",
       "    <tr>\n",
       "      <th>Soudan</th>\n",
       "      <td>669784000</td>\n",
       "      <td>2.11</td>\n",
       "    </tr>\n",
       "    <tr>\n",
       "      <th>Kenya</th>\n",
       "      <td>552836000</td>\n",
       "      <td>1.31</td>\n",
       "    </tr>\n",
       "    <tr>\n",
       "      <th>Bangladesh</th>\n",
       "      <td>348188000</td>\n",
       "      <td>0.27</td>\n",
       "    </tr>\n",
       "    <tr>\n",
       "      <th>Somalie</th>\n",
       "      <td>292678000</td>\n",
       "      <td>2.41</td>\n",
       "    </tr>\n",
       "    <tr>\n",
       "      <th>République démocratique du Congo</th>\n",
       "      <td>288502000</td>\n",
       "      <td>0.47</td>\n",
       "    </tr>\n",
       "    <tr>\n",
       "      <th>Niger</th>\n",
       "      <td>276344000</td>\n",
       "      <td>1.83</td>\n",
       "    </tr>\n",
       "  </tbody>\n",
       "</table>\n",
       "</div>"
      ],
      "text/plain": [
       "                                  Valeur_aa_kg  aide_alim_kg/personne\n",
       "Zone                                                                 \n",
       "République arabe syrienne           1858943000                  10.09\n",
       "Éthiopie                            1381294000                   1.26\n",
       "Yémen                               1206484000                   4.74\n",
       "Soudan du Sud                        695248000                   9.37\n",
       "Soudan                               669784000                   2.11\n",
       "Kenya                                552836000                   1.31\n",
       "Bangladesh                           348188000                   0.27\n",
       "Somalie                              292678000                   2.41\n",
       "République démocratique du Congo     288502000                   0.47\n",
       "Niger                                276344000                   1.83"
      ]
     },
     "execution_count": 49,
     "metadata": {},
     "output_type": "execute_result"
    }
   ],
   "source": [
    "# Group by Zone and Year\n",
    "data_aa_pop_pays = data_aa_pop.groupby([\"Zone\", \"Année\"])[[\"Valeur_aa_kg\", \"Valeur_pop\"]].sum()\n",
    "# Addition of the column aide_alim_kg/person, conversion of thousands of tons into kg\n",
    "data_aa_pop_pays[\"aide_alim_kg/personne\"] = round(data_aa_pop_pays[\"Valeur_aa_kg\"] / data_aa_pop_pays[\"Valeur_pop\"],2)\n",
    "# To display \"Zone\" as a column\n",
    "data_aa_pop_pays = data_aa_pop_pays.reset_index()\n",
    "# Group aide_alim_kg_personne by country\n",
    "data_aa_pop_pays = data_aa_pop_pays.groupby(\"Zone\")[[\"Valeur_aa_kg\",\"aide_alim_kg/personne\"]].sum().sort_values(\"Valeur_aa_kg\", ascending=False)\n",
    "# Results\n",
    "data_aa_pop_pays.head(10)"
   ]
  },
  {
   "cell_type": "code",
   "execution_count": 50,
   "id": "84c790b5",
   "metadata": {},
   "outputs": [
    {
     "data": {
      "text/html": [
       "<div>\n",
       "<style scoped>\n",
       "    .dataframe tbody tr th:only-of-type {\n",
       "        vertical-align: middle;\n",
       "    }\n",
       "\n",
       "    .dataframe tbody tr th {\n",
       "        vertical-align: top;\n",
       "    }\n",
       "\n",
       "    .dataframe thead th {\n",
       "        text-align: right;\n",
       "    }\n",
       "</style>\n",
       "<table border=\"1\" class=\"dataframe\">\n",
       "  <thead>\n",
       "    <tr style=\"text-align: right;\">\n",
       "      <th></th>\n",
       "      <th>Valeur_aa_kg</th>\n",
       "    </tr>\n",
       "    <tr>\n",
       "      <th>Zone</th>\n",
       "      <th></th>\n",
       "    </tr>\n",
       "  </thead>\n",
       "  <tbody>\n",
       "    <tr>\n",
       "      <th>République arabe syrienne</th>\n",
       "      <td>1858943000</td>\n",
       "    </tr>\n",
       "    <tr>\n",
       "      <th>Éthiopie</th>\n",
       "      <td>1381294000</td>\n",
       "    </tr>\n",
       "    <tr>\n",
       "      <th>Yémen</th>\n",
       "      <td>1206484000</td>\n",
       "    </tr>\n",
       "    <tr>\n",
       "      <th>Soudan du Sud</th>\n",
       "      <td>695248000</td>\n",
       "    </tr>\n",
       "    <tr>\n",
       "      <th>Soudan</th>\n",
       "      <td>669784000</td>\n",
       "    </tr>\n",
       "    <tr>\n",
       "      <th>Kenya</th>\n",
       "      <td>552836000</td>\n",
       "    </tr>\n",
       "  </tbody>\n",
       "</table>\n",
       "</div>"
      ],
      "text/plain": [
       "                           Valeur_aa_kg\n",
       "Zone                                   \n",
       "République arabe syrienne    1858943000\n",
       "Éthiopie                     1381294000\n",
       "Yémen                        1206484000\n",
       "Soudan du Sud                 695248000\n",
       "Soudan                        669784000\n",
       "Kenya                         552836000"
      ]
     },
     "execution_count": 50,
     "metadata": {},
     "output_type": "execute_result"
    }
   ],
   "source": [
    "# Filter on countries that received more than 500,000,000 kg of food aid\n",
    "result_pays = data_aa_pop_pays.loc[data_aa_pop_pays[\"Valeur_aa_kg\"] > 500000000, [\"Valeur_aa_kg\"]].sort_values(\"Valeur_aa_kg\", ascending=False)\n",
    "result_pays"
   ]
  },
  {
   "attachments": {},
   "cell_type": "markdown",
   "id": "eeeeee33",
   "metadata": {},
   "source": [
    "The 6 countries that have received more than 500,000 tons of food aid since 2013 are: \n",
    "- Syrian Arab Republic\n",
    "- Ethiopia\n",
    "- Yemen\n",
    "- South Sudan\n",
    "- Sudan\n",
    "- Kenya"
   ]
  },
  {
   "cell_type": "code",
   "execution_count": 51,
   "id": "997b7234",
   "metadata": {},
   "outputs": [
    {
     "name": "stdout",
     "output_type": "stream",
     "text": [
      "6 pays ont reçus plus de 500.000 tonnes d'aide alimentaire depuis 2013.\n"
     ]
    }
   ],
   "source": [
    "print(\"{:.0f} pays ont reçus plus de 500.000 tonnes d'aide alimentaire depuis 2013.\".format(len(result_pays)))"
   ]
  },
  {
   "cell_type": "code",
   "execution_count": 52,
   "id": "ccca8ad3",
   "metadata": {},
   "outputs": [
    {
     "data": {
      "text/html": [
       "<div>\n",
       "<style scoped>\n",
       "    .dataframe tbody tr th:only-of-type {\n",
       "        vertical-align: middle;\n",
       "    }\n",
       "\n",
       "    .dataframe tbody tr th {\n",
       "        vertical-align: top;\n",
       "    }\n",
       "\n",
       "    .dataframe thead th {\n",
       "        text-align: right;\n",
       "    }\n",
       "</style>\n",
       "<table border=\"1\" class=\"dataframe\">\n",
       "  <thead>\n",
       "    <tr style=\"text-align: right;\">\n",
       "      <th></th>\n",
       "      <th>Valeur_aa_kg</th>\n",
       "      <th>aide_alim_kg/personne</th>\n",
       "    </tr>\n",
       "    <tr>\n",
       "      <th>Zone</th>\n",
       "      <th></th>\n",
       "      <th></th>\n",
       "    </tr>\n",
       "  </thead>\n",
       "  <tbody>\n",
       "    <tr>\n",
       "      <th>République arabe syrienne</th>\n",
       "      <td>1858943000</td>\n",
       "      <td>10.09</td>\n",
       "    </tr>\n",
       "    <tr>\n",
       "      <th>Soudan du Sud</th>\n",
       "      <td>695248000</td>\n",
       "      <td>9.37</td>\n",
       "    </tr>\n",
       "    <tr>\n",
       "      <th>Palestine</th>\n",
       "      <td>169684000</td>\n",
       "      <td>5.91</td>\n",
       "    </tr>\n",
       "    <tr>\n",
       "      <th>Comores</th>\n",
       "      <td>7806000</td>\n",
       "      <td>5.26</td>\n",
       "    </tr>\n",
       "    <tr>\n",
       "      <th>Yémen</th>\n",
       "      <td>1206484000</td>\n",
       "      <td>4.74</td>\n",
       "    </tr>\n",
       "    <tr>\n",
       "      <th>Djibouti</th>\n",
       "      <td>41296000</td>\n",
       "      <td>4.68</td>\n",
       "    </tr>\n",
       "  </tbody>\n",
       "</table>\n",
       "</div>"
      ],
      "text/plain": [
       "                           Valeur_aa_kg  aide_alim_kg/personne\n",
       "Zone                                                          \n",
       "République arabe syrienne    1858943000                  10.09\n",
       "Soudan du Sud                 695248000                   9.37\n",
       "Palestine                     169684000                   5.91\n",
       "Comores                         7806000                   5.26\n",
       "Yémen                        1206484000                   4.74\n",
       "Djibouti                       41296000                   4.68"
      ]
     },
     "execution_count": 52,
     "metadata": {},
     "output_type": "execute_result"
    }
   ],
   "source": [
    "# Filter on countries that received more than 4kg/person of food aid\n",
    "result_pays_hab = data_aa_pop_pays.loc[data_aa_pop_pays[\"aide_alim_kg/personne\"] > 4].sort_values(\"aide_alim_kg/personne\", ascending=False)\n",
    "result_pays_hab"
   ]
  },
  {
   "attachments": {},
   "cell_type": "markdown",
   "id": "0a37ac31",
   "metadata": {},
   "source": [
    "The 6 countries that have received the most food aid per **people** since 2013 are : \n",
    "- Syrian Arab Republic\n",
    "- South Sudan\n",
    "- Palestine\n",
    "- Comoros\n",
    "- Yemen\n",
    "- Djibouti"
   ]
  },
  {
   "cell_type": "code",
   "execution_count": 53,
   "id": "61bfc7f6",
   "metadata": {},
   "outputs": [
    {
     "name": "stdout",
     "output_type": "stream",
     "text": [
      "6 pays ont reçus plus de 4kg d'aide alimentaire par habitant depuis 2013.\n"
     ]
    }
   ],
   "source": [
    "print(\"{:.0f} pays ont reçus plus de 4kg d'aide alimentaire par habitant depuis 2013.\".format(len(result_pays_hab)))"
   ]
  },
  {
   "attachments": {},
   "cell_type": "markdown",
   "id": "eebe00aa",
   "metadata": {},
   "source": [
    "## III-c) Countries with the highest/lowest food availability/capita"
   ]
  },
  {
   "cell_type": "code",
   "execution_count": 54,
   "id": "0907a1b3",
   "metadata": {},
   "outputs": [
    {
     "data": {
      "text/html": [
       "<div>\n",
       "<style scoped>\n",
       "    .dataframe tbody tr th:only-of-type {\n",
       "        vertical-align: middle;\n",
       "    }\n",
       "\n",
       "    .dataframe tbody tr th {\n",
       "        vertical-align: top;\n",
       "    }\n",
       "\n",
       "    .dataframe thead th {\n",
       "        text-align: right;\n",
       "    }\n",
       "</style>\n",
       "<table border=\"1\" class=\"dataframe\">\n",
       "  <thead>\n",
       "    <tr style=\"text-align: right;\">\n",
       "      <th></th>\n",
       "      <th>Zone</th>\n",
       "      <th>Disponibilité alimentaire (Kcal/personne/jour)</th>\n",
       "    </tr>\n",
       "  </thead>\n",
       "  <tbody>\n",
       "    <tr>\n",
       "      <th>127</th>\n",
       "      <td>République centrafricaine</td>\n",
       "      <td>1879.0</td>\n",
       "    </tr>\n",
       "    <tr>\n",
       "      <th>166</th>\n",
       "      <td>Zambie</td>\n",
       "      <td>1924.0</td>\n",
       "    </tr>\n",
       "    <tr>\n",
       "      <th>90</th>\n",
       "      <td>Madagascar</td>\n",
       "      <td>2056.0</td>\n",
       "    </tr>\n",
       "    <tr>\n",
       "      <th>0</th>\n",
       "      <td>Afghanistan</td>\n",
       "      <td>2087.0</td>\n",
       "    </tr>\n",
       "    <tr>\n",
       "      <th>64</th>\n",
       "      <td>Haïti</td>\n",
       "      <td>2089.0</td>\n",
       "    </tr>\n",
       "  </tbody>\n",
       "</table>\n",
       "</div>"
      ],
      "text/plain": [
       "                          Zone  Disponibilité alimentaire (Kcal/personne/jour)\n",
       "127  République centrafricaine                                          1879.0\n",
       "166                     Zambie                                          1924.0\n",
       "90                  Madagascar                                          2056.0\n",
       "0                  Afghanistan                                          2087.0\n",
       "64                       Haïti                                          2089.0"
      ]
     },
     "execution_count": 54,
     "metadata": {},
     "output_type": "execute_result"
    }
   ],
   "source": [
    "# Creation of a dataset aggregating data Food availability in quantity (kg/person/year)\n",
    "data_dispo_pop_hab = data_dispo.groupby(\"Zone\")[[\"Disponibilité alimentaire (Kcal/personne/jour)\"]].sum()\n",
    "# To recognizes the \"Zone\" column in the Notebook suite\n",
    "data_dispo_pop_hab = data_dispo_pop_hab.reset_index()\n",
    "# Display\n",
    "data_dispo_pop_hab.sort_values(\"Disponibilité alimentaire (Kcal/personne/jour)\").head()"
   ]
  },
  {
   "cell_type": "code",
   "execution_count": 55,
   "id": "b75e8666",
   "metadata": {},
   "outputs": [
    {
     "data": {
      "text/html": [
       "<div>\n",
       "<style scoped>\n",
       "    .dataframe tbody tr th:only-of-type {\n",
       "        vertical-align: middle;\n",
       "    }\n",
       "\n",
       "    .dataframe tbody tr th {\n",
       "        vertical-align: top;\n",
       "    }\n",
       "\n",
       "    .dataframe thead th {\n",
       "        text-align: right;\n",
       "    }\n",
       "</style>\n",
       "<table border=\"1\" class=\"dataframe\">\n",
       "  <thead>\n",
       "    <tr style=\"text-align: right;\">\n",
       "      <th></th>\n",
       "      <th>Zone</th>\n",
       "      <th>Disponibilité alimentaire (Kcal/personne/jour)</th>\n",
       "    </tr>\n",
       "  </thead>\n",
       "  <tbody>\n",
       "    <tr>\n",
       "      <th>11</th>\n",
       "      <td>Autriche</td>\n",
       "      <td>3770.0</td>\n",
       "    </tr>\n",
       "    <tr>\n",
       "      <th>16</th>\n",
       "      <td>Belgique</td>\n",
       "      <td>3737.0</td>\n",
       "    </tr>\n",
       "    <tr>\n",
       "      <th>159</th>\n",
       "      <td>Turquie</td>\n",
       "      <td>3708.0</td>\n",
       "    </tr>\n",
       "    <tr>\n",
       "      <th>171</th>\n",
       "      <td>États-Unis d'Amérique</td>\n",
       "      <td>3682.0</td>\n",
       "    </tr>\n",
       "    <tr>\n",
       "      <th>73</th>\n",
       "      <td>Israël</td>\n",
       "      <td>3610.0</td>\n",
       "    </tr>\n",
       "    <tr>\n",
       "      <th>71</th>\n",
       "      <td>Irlande</td>\n",
       "      <td>3602.0</td>\n",
       "    </tr>\n",
       "    <tr>\n",
       "      <th>74</th>\n",
       "      <td>Italie</td>\n",
       "      <td>3578.0</td>\n",
       "    </tr>\n",
       "    <tr>\n",
       "      <th>88</th>\n",
       "      <td>Luxembourg</td>\n",
       "      <td>3540.0</td>\n",
       "    </tr>\n",
       "    <tr>\n",
       "      <th>168</th>\n",
       "      <td>Égypte</td>\n",
       "      <td>3518.0</td>\n",
       "    </tr>\n",
       "    <tr>\n",
       "      <th>4</th>\n",
       "      <td>Allemagne</td>\n",
       "      <td>3503.0</td>\n",
       "    </tr>\n",
       "  </tbody>\n",
       "</table>\n",
       "</div>"
      ],
      "text/plain": [
       "                      Zone  Disponibilité alimentaire (Kcal/personne/jour)\n",
       "11                Autriche                                          3770.0\n",
       "16                Belgique                                          3737.0\n",
       "159                Turquie                                          3708.0\n",
       "171  États-Unis d'Amérique                                          3682.0\n",
       "73                  Israël                                          3610.0\n",
       "71                 Irlande                                          3602.0\n",
       "74                  Italie                                          3578.0\n",
       "88              Luxembourg                                          3540.0\n",
       "168                 Égypte                                          3518.0\n",
       "4                Allemagne                                          3503.0"
      ]
     },
     "execution_count": 55,
     "metadata": {},
     "output_type": "execute_result"
    }
   ],
   "source": [
    "# Which countries are rich in food availability?\n",
    "pays_riches = data_dispo_pop_hab.loc[data_dispo_pop_hab[\"Disponibilité alimentaire (Kcal/personne/jour)\"] > 2500, \n",
    "                                     [\"Zone\", \n",
    "                                      \"Disponibilité alimentaire (Kcal/personne/jour)\"]].sort_values(\"Disponibilité alimentaire (Kcal/personne/jour)\", ascending=False)\n",
    "\n",
    "pays_riches.head(10)"
   ]
  },
  {
   "cell_type": "code",
   "execution_count": 56,
   "id": "4a809f04",
   "metadata": {},
   "outputs": [
    {
     "name": "stdout",
     "output_type": "stream",
     "text": [
      "132 pays possède plus de 2500 Kcal de nourriture par habitant pour 2013.\n"
     ]
    }
   ],
   "source": [
    "print(\"{:.0f} pays possède plus de 2500 Kcal de nourriture par habitant pour 2013.\".format(len(pays_riches)))"
   ]
  },
  {
   "cell_type": "code",
   "execution_count": 57,
   "id": "db50cf6b",
   "metadata": {},
   "outputs": [
    {
     "data": {
      "text/html": [
       "<div>\n",
       "<style scoped>\n",
       "    .dataframe tbody tr th:only-of-type {\n",
       "        vertical-align: middle;\n",
       "    }\n",
       "\n",
       "    .dataframe tbody tr th {\n",
       "        vertical-align: top;\n",
       "    }\n",
       "\n",
       "    .dataframe thead th {\n",
       "        text-align: right;\n",
       "    }\n",
       "</style>\n",
       "<table border=\"1\" class=\"dataframe\">\n",
       "  <thead>\n",
       "    <tr style=\"text-align: right;\">\n",
       "      <th></th>\n",
       "      <th>Zone</th>\n",
       "      <th>Disponibilité alimentaire (Kcal/personne/jour)</th>\n",
       "    </tr>\n",
       "  </thead>\n",
       "  <tbody>\n",
       "    <tr>\n",
       "      <th>134</th>\n",
       "      <td>Saint-Kitts-et-Nevis</td>\n",
       "      <td>2491.0</td>\n",
       "    </tr>\n",
       "    <tr>\n",
       "      <th>5</th>\n",
       "      <td>Angola</td>\n",
       "      <td>2474.0</td>\n",
       "    </tr>\n",
       "    <tr>\n",
       "      <th>29</th>\n",
       "      <td>Cambodge</td>\n",
       "      <td>2473.0</td>\n",
       "    </tr>\n",
       "    <tr>\n",
       "      <th>131</th>\n",
       "      <td>République démocratique populaire lao</td>\n",
       "      <td>2455.0</td>\n",
       "    </tr>\n",
       "    <tr>\n",
       "      <th>67</th>\n",
       "      <td>Inde</td>\n",
       "      <td>2454.0</td>\n",
       "    </tr>\n",
       "    <tr>\n",
       "      <th>14</th>\n",
       "      <td>Bangladesh</td>\n",
       "      <td>2453.0</td>\n",
       "    </tr>\n",
       "    <tr>\n",
       "      <th>148</th>\n",
       "      <td>Sénégal</td>\n",
       "      <td>2453.0</td>\n",
       "    </tr>\n",
       "    <tr>\n",
       "      <th>155</th>\n",
       "      <td>Togo</td>\n",
       "      <td>2448.0</td>\n",
       "    </tr>\n",
       "    <tr>\n",
       "      <th>57</th>\n",
       "      <td>Grenade</td>\n",
       "      <td>2442.0</td>\n",
       "    </tr>\n",
       "    <tr>\n",
       "      <th>115</th>\n",
       "      <td>Pakistan</td>\n",
       "      <td>2438.0</td>\n",
       "    </tr>\n",
       "  </tbody>\n",
       "</table>\n",
       "</div>"
      ],
      "text/plain": [
       "                                      Zone  \\\n",
       "134                   Saint-Kitts-et-Nevis   \n",
       "5                                   Angola   \n",
       "29                                Cambodge   \n",
       "131  République démocratique populaire lao   \n",
       "67                                    Inde   \n",
       "14                              Bangladesh   \n",
       "148                                Sénégal   \n",
       "155                                   Togo   \n",
       "57                                 Grenade   \n",
       "115                               Pakistan   \n",
       "\n",
       "     Disponibilité alimentaire (Kcal/personne/jour)  \n",
       "134                                          2491.0  \n",
       "5                                            2474.0  \n",
       "29                                           2473.0  \n",
       "131                                          2455.0  \n",
       "67                                           2454.0  \n",
       "14                                           2453.0  \n",
       "148                                          2453.0  \n",
       "155                                          2448.0  \n",
       "57                                           2442.0  \n",
       "115                                          2438.0  "
      ]
     },
     "execution_count": 57,
     "metadata": {},
     "output_type": "execute_result"
    }
   ],
   "source": [
    "# Which countries are poor in food availability?\n",
    "pays_pauvres = data_dispo_pop_hab.loc[data_dispo_pop_hab[\"Disponibilité alimentaire (Kcal/personne/jour)\"] < 2500, \n",
    "                                     [\"Zone\", \n",
    "                                      \"Disponibilité alimentaire (Kcal/personne/jour)\"]].sort_values(\"Disponibilité alimentaire (Kcal/personne/jour)\", ascending=False)\n",
    "\n",
    "pays_pauvres.head(10)"
   ]
  },
  {
   "cell_type": "code",
   "execution_count": 58,
   "id": "ceca21ce",
   "metadata": {},
   "outputs": [
    {
     "name": "stdout",
     "output_type": "stream",
     "text": [
      "42 pays possède moins de 2500 Kcal de nourriture par habitant pour 2013.\n"
     ]
    }
   ],
   "source": [
    "print(\"{:.0f} pays possède moins de 2500 Kcal de nourriture par habitant pour 2013.\".format(len(pays_pauvres)))"
   ]
  },
  {
   "attachments": {},
   "cell_type": "markdown",
   "id": "aee0e9e9",
   "metadata": {},
   "source": [
    "#### ---------------------------------------------------------------------------------------"
   ]
  },
  {
   "attachments": {},
   "cell_type": "markdown",
   "id": "1fdcbe88",
   "metadata": {},
   "source": [
    "# Geospatial mapping"
   ]
  },
  {
   "cell_type": "code",
   "execution_count": 59,
   "id": "b438f19c",
   "metadata": {},
   "outputs": [],
   "source": [
    "import geopandas as gpd\n",
    "import matplotlib\n",
    "import plotly.express as px"
   ]
  },
  {
   "cell_type": "code",
   "execution_count": 60,
   "id": "810d5173",
   "metadata": {},
   "outputs": [
    {
     "data": {
      "text/html": [
       "<div>\n",
       "<style scoped>\n",
       "    .dataframe tbody tr th:only-of-type {\n",
       "        vertical-align: middle;\n",
       "    }\n",
       "\n",
       "    .dataframe tbody tr th {\n",
       "        vertical-align: top;\n",
       "    }\n",
       "\n",
       "    .dataframe thead th {\n",
       "        text-align: right;\n",
       "    }\n",
       "</style>\n",
       "<table border=\"1\" class=\"dataframe\">\n",
       "  <thead>\n",
       "    <tr style=\"text-align: right;\">\n",
       "      <th></th>\n",
       "      <th>Zone</th>\n",
       "      <th>City</th>\n",
       "      <th>latitude</th>\n",
       "      <th>longitude</th>\n",
       "      <th>Country</th>\n",
       "      <th>Continent</th>\n",
       "    </tr>\n",
       "  </thead>\n",
       "  <tbody>\n",
       "    <tr>\n",
       "      <th>0</th>\n",
       "      <td>Afghanistan</td>\n",
       "      <td>Kabul</td>\n",
       "      <td>34.5328</td>\n",
       "      <td>69.1658</td>\n",
       "      <td>Afghanistan</td>\n",
       "      <td>Asia</td>\n",
       "    </tr>\n",
       "    <tr>\n",
       "      <th>1</th>\n",
       "      <td>Afrique du Sud</td>\n",
       "      <td>Cape Town</td>\n",
       "      <td>-33.9250</td>\n",
       "      <td>18.4250</td>\n",
       "      <td>South Africa</td>\n",
       "      <td>Africa</td>\n",
       "    </tr>\n",
       "    <tr>\n",
       "      <th>2</th>\n",
       "      <td>Albanie</td>\n",
       "      <td>Tirana</td>\n",
       "      <td>41.3300</td>\n",
       "      <td>19.8200</td>\n",
       "      <td>Albania</td>\n",
       "      <td>Europe</td>\n",
       "    </tr>\n",
       "    <tr>\n",
       "      <th>3</th>\n",
       "      <td>Algérie</td>\n",
       "      <td>Algiers</td>\n",
       "      <td>36.7764</td>\n",
       "      <td>3.0586</td>\n",
       "      <td>Algeria</td>\n",
       "      <td>Africa</td>\n",
       "    </tr>\n",
       "    <tr>\n",
       "      <th>4</th>\n",
       "      <td>Allemagne</td>\n",
       "      <td>Berlin</td>\n",
       "      <td>52.5167</td>\n",
       "      <td>13.3833</td>\n",
       "      <td>Germany</td>\n",
       "      <td>Europe</td>\n",
       "    </tr>\n",
       "  </tbody>\n",
       "</table>\n",
       "</div>"
      ],
      "text/plain": [
       "             Zone       City  latitude  longitude       Country Continent\n",
       "0     Afghanistan      Kabul   34.5328    69.1658   Afghanistan      Asia\n",
       "1  Afrique du Sud  Cape Town  -33.9250    18.4250  South Africa    Africa\n",
       "2         Albanie     Tirana   41.3300    19.8200       Albania    Europe\n",
       "3         Algérie    Algiers   36.7764     3.0586       Algeria    Africa\n",
       "4       Allemagne     Berlin   52.5167    13.3833       Germany    Europe"
      ]
     },
     "execution_count": 60,
     "metadata": {},
     "output_type": "execute_result"
    }
   ],
   "source": [
    "data_gps = pd.read_csv(\"pays_capitale_latitude_longitude.csv\", sep = \";\")\n",
    "data_gps.head()"
   ]
  },
  {
   "cell_type": "code",
   "execution_count": 61,
   "id": "83e37653",
   "metadata": {},
   "outputs": [
    {
     "data": {
      "text/html": [
       "<div>\n",
       "<style scoped>\n",
       "    .dataframe tbody tr th:only-of-type {\n",
       "        vertical-align: middle;\n",
       "    }\n",
       "\n",
       "    .dataframe tbody tr th {\n",
       "        vertical-align: top;\n",
       "    }\n",
       "\n",
       "    .dataframe thead th {\n",
       "        text-align: right;\n",
       "    }\n",
       "</style>\n",
       "<table border=\"1\" class=\"dataframe\">\n",
       "  <thead>\n",
       "    <tr style=\"text-align: right;\">\n",
       "      <th></th>\n",
       "      <th>Zone</th>\n",
       "      <th>City</th>\n",
       "      <th>latitude</th>\n",
       "      <th>longitude</th>\n",
       "      <th>Country</th>\n",
       "      <th>Continent</th>\n",
       "      <th>geometry</th>\n",
       "    </tr>\n",
       "  </thead>\n",
       "  <tbody>\n",
       "    <tr>\n",
       "      <th>0</th>\n",
       "      <td>Afghanistan</td>\n",
       "      <td>Kabul</td>\n",
       "      <td>34.5328</td>\n",
       "      <td>69.1658</td>\n",
       "      <td>Afghanistan</td>\n",
       "      <td>Asia</td>\n",
       "      <td>POINT (34.53280 69.16580)</td>\n",
       "    </tr>\n",
       "    <tr>\n",
       "      <th>1</th>\n",
       "      <td>Afrique du Sud</td>\n",
       "      <td>Cape Town</td>\n",
       "      <td>-33.9250</td>\n",
       "      <td>18.4250</td>\n",
       "      <td>South Africa</td>\n",
       "      <td>Africa</td>\n",
       "      <td>POINT (-33.92500 18.42500)</td>\n",
       "    </tr>\n",
       "    <tr>\n",
       "      <th>2</th>\n",
       "      <td>Albanie</td>\n",
       "      <td>Tirana</td>\n",
       "      <td>41.3300</td>\n",
       "      <td>19.8200</td>\n",
       "      <td>Albania</td>\n",
       "      <td>Europe</td>\n",
       "      <td>POINT (41.33000 19.82000)</td>\n",
       "    </tr>\n",
       "    <tr>\n",
       "      <th>3</th>\n",
       "      <td>Algérie</td>\n",
       "      <td>Algiers</td>\n",
       "      <td>36.7764</td>\n",
       "      <td>3.0586</td>\n",
       "      <td>Algeria</td>\n",
       "      <td>Africa</td>\n",
       "      <td>POINT (36.77640 3.05860)</td>\n",
       "    </tr>\n",
       "    <tr>\n",
       "      <th>4</th>\n",
       "      <td>Allemagne</td>\n",
       "      <td>Berlin</td>\n",
       "      <td>52.5167</td>\n",
       "      <td>13.3833</td>\n",
       "      <td>Germany</td>\n",
       "      <td>Europe</td>\n",
       "      <td>POINT (52.51670 13.38330)</td>\n",
       "    </tr>\n",
       "  </tbody>\n",
       "</table>\n",
       "</div>"
      ],
      "text/plain": [
       "             Zone       City  latitude  longitude       Country Continent  \\\n",
       "0     Afghanistan      Kabul   34.5328    69.1658   Afghanistan      Asia   \n",
       "1  Afrique du Sud  Cape Town  -33.9250    18.4250  South Africa    Africa   \n",
       "2         Albanie     Tirana   41.3300    19.8200       Albania    Europe   \n",
       "3         Algérie    Algiers   36.7764     3.0586       Algeria    Africa   \n",
       "4       Allemagne     Berlin   52.5167    13.3833       Germany    Europe   \n",
       "\n",
       "                     geometry  \n",
       "0   POINT (34.53280 69.16580)  \n",
       "1  POINT (-33.92500 18.42500)  \n",
       "2   POINT (41.33000 19.82000)  \n",
       "3    POINT (36.77640 3.05860)  \n",
       "4   POINT (52.51670 13.38330)  "
      ]
     },
     "execution_count": 61,
     "metadata": {},
     "output_type": "execute_result"
    }
   ],
   "source": [
    "# Converting latitudes and longitudes into Cartesian coordinates (x,y)\n",
    "data_gps = gpd.GeoDataFrame(data_gps, geometry = gpd.points_from_xy(data_gps.latitude, data_gps.longitude))\n",
    "data_gps.head()"
   ]
  },
  {
   "cell_type": "code",
   "execution_count": 62,
   "id": "c293cc42",
   "metadata": {},
   "outputs": [
    {
     "data": {
      "text/html": [
       "<div>\n",
       "<style scoped>\n",
       "    .dataframe tbody tr th:only-of-type {\n",
       "        vertical-align: middle;\n",
       "    }\n",
       "\n",
       "    .dataframe tbody tr th {\n",
       "        vertical-align: top;\n",
       "    }\n",
       "\n",
       "    .dataframe thead th {\n",
       "        text-align: right;\n",
       "    }\n",
       "</style>\n",
       "<table border=\"1\" class=\"dataframe\">\n",
       "  <thead>\n",
       "    <tr style=\"text-align: right;\">\n",
       "      <th></th>\n",
       "      <th>Zone</th>\n",
       "      <th>geometry</th>\n",
       "      <th>Continent</th>\n",
       "      <th>Country</th>\n",
       "      <th>Disponibilité alimentaire (Kcal/personne/jour)</th>\n",
       "    </tr>\n",
       "  </thead>\n",
       "  <tbody>\n",
       "    <tr>\n",
       "      <th>0</th>\n",
       "      <td>Afrique du Sud</td>\n",
       "      <td>POINT (-33.92500 18.42500)</td>\n",
       "      <td>Africa</td>\n",
       "      <td>South Africa</td>\n",
       "      <td>3020.0</td>\n",
       "    </tr>\n",
       "    <tr>\n",
       "      <th>1</th>\n",
       "      <td>Albanie</td>\n",
       "      <td>POINT (41.33000 19.82000)</td>\n",
       "      <td>Europe</td>\n",
       "      <td>Albania</td>\n",
       "      <td>3188.0</td>\n",
       "    </tr>\n",
       "    <tr>\n",
       "      <th>2</th>\n",
       "      <td>Algérie</td>\n",
       "      <td>POINT (36.77640 3.05860)</td>\n",
       "      <td>Africa</td>\n",
       "      <td>Algeria</td>\n",
       "      <td>3293.0</td>\n",
       "    </tr>\n",
       "    <tr>\n",
       "      <th>3</th>\n",
       "      <td>Allemagne</td>\n",
       "      <td>POINT (52.51670 13.38330)</td>\n",
       "      <td>Europe</td>\n",
       "      <td>Germany</td>\n",
       "      <td>3503.0</td>\n",
       "    </tr>\n",
       "    <tr>\n",
       "      <th>4</th>\n",
       "      <td>Arabie saoudite</td>\n",
       "      <td>POINT (24.65000 46.71000)</td>\n",
       "      <td>Asia</td>\n",
       "      <td>Saudi Arabia</td>\n",
       "      <td>3255.0</td>\n",
       "    </tr>\n",
       "  </tbody>\n",
       "</table>\n",
       "</div>"
      ],
      "text/plain": [
       "              Zone                    geometry Continent       Country  \\\n",
       "0   Afrique du Sud  POINT (-33.92500 18.42500)    Africa  South Africa   \n",
       "1          Albanie   POINT (41.33000 19.82000)    Europe       Albania   \n",
       "2          Algérie    POINT (36.77640 3.05860)    Africa       Algeria   \n",
       "3        Allemagne   POINT (52.51670 13.38330)    Europe       Germany   \n",
       "4  Arabie saoudite   POINT (24.65000 46.71000)      Asia  Saudi Arabia   \n",
       "\n",
       "   Disponibilité alimentaire (Kcal/personne/jour)  \n",
       "0                                          3020.0  \n",
       "1                                          3188.0  \n",
       "2                                          3293.0  \n",
       "3                                          3503.0  \n",
       "4                                          3255.0  "
      ]
     },
     "execution_count": 62,
     "metadata": {},
     "output_type": "execute_result"
    }
   ],
   "source": [
    "# Merge between rich countries and data_gps\n",
    "top_pays_riches_map = pd.merge(data_gps[[\"Zone\", \"geometry\", \"Continent\", \"Country\"]],\n",
    "                           pays_riches[[\"Zone\", \"Disponibilité alimentaire (Kcal/personne/jour)\"]], how=\"inner\", on=\"Zone\")\n",
    "top_pays_riches_map.sort_values(\"Disponibilité alimentaire (Kcal/personne/jour)\", ascending=False)\n",
    "top_pays_riches_map.head()"
   ]
  },
  {
   "cell_type": "code",
   "execution_count": 63,
   "id": "1378cf01",
   "metadata": {},
   "outputs": [
    {
     "data": {
      "text/html": [
       "<div>\n",
       "<style scoped>\n",
       "    .dataframe tbody tr th:only-of-type {\n",
       "        vertical-align: middle;\n",
       "    }\n",
       "\n",
       "    .dataframe tbody tr th {\n",
       "        vertical-align: top;\n",
       "    }\n",
       "\n",
       "    .dataframe thead th {\n",
       "        text-align: right;\n",
       "    }\n",
       "</style>\n",
       "<table border=\"1\" class=\"dataframe\">\n",
       "  <thead>\n",
       "    <tr style=\"text-align: right;\">\n",
       "      <th></th>\n",
       "      <th>Zone</th>\n",
       "      <th>geometry</th>\n",
       "      <th>Continent</th>\n",
       "      <th>Country</th>\n",
       "      <th>Disponibilité alimentaire (Kcal/personne/jour)</th>\n",
       "    </tr>\n",
       "  </thead>\n",
       "  <tbody>\n",
       "    <tr>\n",
       "      <th>0</th>\n",
       "      <td>Afghanistan</td>\n",
       "      <td>POINT (34.533 69.166)</td>\n",
       "      <td>Asia</td>\n",
       "      <td>Afghanistan</td>\n",
       "      <td>2087.0</td>\n",
       "    </tr>\n",
       "    <tr>\n",
       "      <th>1</th>\n",
       "      <td>Angola</td>\n",
       "      <td>POINT (-8.838 13.234)</td>\n",
       "      <td>Africa</td>\n",
       "      <td>Angola</td>\n",
       "      <td>2474.0</td>\n",
       "    </tr>\n",
       "    <tr>\n",
       "      <th>2</th>\n",
       "      <td>Antigua-et-Barbuda</td>\n",
       "      <td>POINT (17.121 -61.845)</td>\n",
       "      <td>North America</td>\n",
       "      <td>Antigua And Barbuda</td>\n",
       "      <td>2416.0</td>\n",
       "    </tr>\n",
       "    <tr>\n",
       "      <th>3</th>\n",
       "      <td>Bangladesh</td>\n",
       "      <td>POINT (23.729 90.394)</td>\n",
       "      <td>Asia</td>\n",
       "      <td>Bangladesh</td>\n",
       "      <td>2453.0</td>\n",
       "    </tr>\n",
       "    <tr>\n",
       "      <th>4</th>\n",
       "      <td>Bolivie (État plurinational de)</td>\n",
       "      <td>POINT (-16.494 -68.147)</td>\n",
       "      <td>South America</td>\n",
       "      <td>Bolivia</td>\n",
       "      <td>2250.0</td>\n",
       "    </tr>\n",
       "  </tbody>\n",
       "</table>\n",
       "</div>"
      ],
      "text/plain": [
       "                              Zone                 geometry      Continent  \\\n",
       "0                      Afghanistan    POINT (34.533 69.166)           Asia   \n",
       "1                           Angola    POINT (-8.838 13.234)         Africa   \n",
       "2               Antigua-et-Barbuda   POINT (17.121 -61.845)  North America   \n",
       "3                       Bangladesh    POINT (23.729 90.394)           Asia   \n",
       "4  Bolivie (État plurinational de)  POINT (-16.494 -68.147)  South America   \n",
       "\n",
       "               Country  Disponibilité alimentaire (Kcal/personne/jour)  \n",
       "0          Afghanistan                                          2087.0  \n",
       "1               Angola                                          2474.0  \n",
       "2  Antigua And Barbuda                                          2416.0  \n",
       "3           Bangladesh                                          2453.0  \n",
       "4              Bolivia                                          2250.0  "
      ]
     },
     "execution_count": 63,
     "metadata": {},
     "output_type": "execute_result"
    }
   ],
   "source": [
    "# Merge between poor countries and data_gps\n",
    "top_pays_pauvres_map = pd.merge(data_gps[[\"Zone\", \"geometry\", \"Continent\", \"Country\"]], \n",
    "                            pays_pauvres[[\"Zone\", \"Disponibilité alimentaire (Kcal/personne/jour)\"]], how=\"inner\", on=\"Zone\")\n",
    "top_pays_pauvres_map.sort_values(\"Disponibilité alimentaire (Kcal/personne/jour)\", ascending=False)\n",
    "top_pays_pauvres_map.head()"
   ]
  },
  {
   "cell_type": "code",
   "execution_count": 64,
   "id": "ef70d55e",
   "metadata": {},
   "outputs": [
    {
     "data": {
      "text/plain": [
       "<AxesSubplot: >"
      ]
     },
     "execution_count": 64,
     "metadata": {},
     "output_type": "execute_result"
    },
    {
     "data": {
      "image/png": "[encoded data removed]",
      "text/plain": [
       "<Figure size 640x480 with 1 Axes>"
      ]
     },
     "metadata": {},
     "output_type": "display_data"
    }
   ],
   "source": [
    "# Get the built-in dataset from geopandas\n",
    "world = gpd.read_file(gpd.datasets.get_path(\"naturalearth_lowres\"))\n",
    "world.plot()"
   ]
  },
  {
   "cell_type": "code",
   "execution_count": 65,
   "id": "a4f06a90",
   "metadata": {
    "scrolled": false
   },
   "outputs": [
    {
     "data": {
      "application/vnd.plotly.v1+json": {
       "config": {
        "plotlyServerURL": "https://plot.ly"
       },
       "data": [
        {
         "colorscale": [
          [
           0,
           "#636efa"
          ],
          [
           1,
           "#636efa"
          ]
         ],
         "geo": "geo",
         "hovertemplate": "Country=%{location}<extra></extra>",
         "locationmode": "country names",
         "locations": [
          "South Africa"
         ],
         "name": "South Africa",
         "showlegend": true,
         "showscale": false,
         "type": "choropleth",
         "z": [
          1
         ]
        },
        {
         "colorscale": [
          [
           0,
           "#EF553B"
          ],
          [
           1,
           "#EF553B"
          ]
         ],
         "geo": "geo",
         "hovertemplate": "Country=%{location}<extra></extra>",
         "locationmode": "country names",
         "locations": [
          "Albania"
         ],
         "name": "Albania",
         "showlegend": true,
         "showscale": false,
         "type": "choropleth",
         "z": [
          1
         ]
        },
        {
         "colorscale": [
          [
           0,
           "#00cc96"
          ],
          [
           1,
           "#00cc96"
          ]
         ],
         "geo": "geo",
         "hovertemplate": "Country=%{location}<extra></extra>",
         "locationmode": "country names",
         "locations": [
          "Algeria"
         ],
         "name": "Algeria",
         "showlegend": true,
         "showscale": false,
         "type": "choropleth",
         "z": [
          1
         ]
        },
        {
         "colorscale": [
          [
           0,
           "#ab63fa"
          ],
          [
           1,
           "#ab63fa"
          ]
         ],
         "geo": "geo",
         "hovertemplate": "Country=%{location}<extra></extra>",
         "locationmode": "country names",
         "locations": [
          "Germany"
         ],
         "name": "Germany",
         "showlegend": true,
         "showscale": false,
         "type": "choropleth",
         "z": [
          1
         ]
        },
        {
         "colorscale": [
          [
           0,
           "#FFA15A"
          ],
          [
           1,
           "#FFA15A"
          ]
         ],
         "geo": "geo",
         "hovertemplate": "Country=%{location}<extra></extra>",
         "locationmode": "country names",
         "locations": [
          "Saudi Arabia"
         ],
         "name": "Saudi Arabia",
         "showlegend": true,
         "showscale": false,
         "type": "choropleth",
         "z": [
          1
         ]
        },
        {
         "colorscale": [
          [
           0,
           "#19d3f3"
          ],
          [
           1,
           "#19d3f3"
          ]
         ],
         "geo": "geo",
         "hovertemplate": "Country=%{location}<extra></extra>",
         "locationmode": "country names",
         "locations": [
          "Argentina"
         ],
         "name": "Argentina",
         "showlegend": true,
         "showscale": false,
         "type": "choropleth",
         "z": [
          1
         ]
        },
        {
         "colorscale": [
          [
           0,
           "#FF6692"
          ],
          [
           1,
           "#FF6692"
          ]
         ],
         "geo": "geo",
         "hovertemplate": "Country=%{location}<extra></extra>",
         "locationmode": "country names",
         "locations": [
          "Armenia"
         ],
         "name": "Armenia",
         "showlegend": true,
         "showscale": false,
         "type": "choropleth",
         "z": [
          1
         ]
        },
        {
         "colorscale": [
          [
           0,
           "#B6E880"
          ],
          [
           1,
           "#B6E880"
          ]
         ],
         "geo": "geo",
         "hovertemplate": "Country=%{location}<extra></extra>",
         "locationmode": "country names",
         "locations": [
          "Australia"
         ],
         "name": "Australia",
         "showlegend": true,
         "showscale": false,
         "type": "choropleth",
         "z": [
          1
         ]
        },
        {
         "colorscale": [
          [
           0,
           "#FF97FF"
          ],
          [
           1,
           "#FF97FF"
          ]
         ],
         "geo": "geo",
         "hovertemplate": "Country=%{location}<extra></extra>",
         "locationmode": "country names",
         "locations": [
          "Austria"
         ],
         "name": "Austria",
         "showlegend": true,
         "showscale": false,
         "type": "choropleth",
         "z": [
          1
         ]
        },
        {
         "colorscale": [
          [
           0,
           "#FECB52"
          ],
          [
           1,
           "#FECB52"
          ]
         ],
         "geo": "geo",
         "hovertemplate": "Country=%{location}<extra></extra>",
         "locationmode": "country names",
         "locations": [
          "Azerbaijan"
         ],
         "name": "Azerbaijan",
         "showlegend": true,
         "showscale": false,
         "type": "choropleth",
         "z": [
          1
         ]
        },
        {
         "colorscale": [
          [
           0,
           "#636efa"
          ],
          [
           1,
           "#636efa"
          ]
         ],
         "geo": "geo",
         "hovertemplate": "Country=%{location}<extra></extra>",
         "locationmode": "country names",
         "locations": [
          "Barbados"
         ],
         "name": "Barbados",
         "showlegend": true,
         "showscale": false,
         "type": "choropleth",
         "z": [
          1
         ]
        },
        {
         "colorscale": [
          [
           0,
           "#EF553B"
          ],
          [
           1,
           "#EF553B"
          ]
         ],
         "geo": "geo",
         "hovertemplate": "Country=%{location}<extra></extra>",
         "locationmode": "country names",
         "locations": [
          "Belgium"
         ],
         "name": "Belgium",
         "showlegend": true,
         "showscale": false,
         "type": "choropleth",
         "z": [
          1
         ]
        },
        {
         "colorscale": [
          [
           0,
           "#00cc96"
          ],
          [
           1,
           "#00cc96"
          ]
         ],
         "geo": "geo",
         "hovertemplate": "Country=%{location}<extra></extra>",
         "locationmode": "country names",
         "locations": [
          "Belize"
         ],
         "name": "Belize",
         "showlegend": true,
         "showscale": false,
         "type": "choropleth",
         "z": [
          1
         ]
        },
        {
         "colorscale": [
          [
           0,
           "#ab63fa"
          ],
          [
           1,
           "#ab63fa"
          ]
         ],
         "geo": "geo",
         "hovertemplate": "Country=%{location}<extra></extra>",
         "locationmode": "country names",
         "locations": [
          "Benin"
         ],
         "name": "Benin",
         "showlegend": true,
         "showscale": false,
         "type": "choropleth",
         "z": [
          1
         ]
        },
        {
         "colorscale": [
          [
           0,
           "#FFA15A"
          ],
          [
           1,
           "#FFA15A"
          ]
         ],
         "geo": "geo",
         "hovertemplate": "Country=%{location}<extra></extra>",
         "locationmode": "country names",
         "locations": [
          "Bermuda"
         ],
         "name": "Bermuda",
         "showlegend": true,
         "showscale": false,
         "type": "choropleth",
         "z": [
          1
         ]
        },
        {
         "colorscale": [
          [
           0,
           "#19d3f3"
          ],
          [
           1,
           "#19d3f3"
          ]
         ],
         "geo": "geo",
         "hovertemplate": "Country=%{location}<extra></extra>",
         "locationmode": "country names",
         "locations": [
          "Bosnia And Herzegovina"
         ],
         "name": "Bosnia And Herzegovina",
         "showlegend": true,
         "showscale": false,
         "type": "choropleth",
         "z": [
          1
         ]
        },
        {
         "colorscale": [
          [
           0,
           "#FF6692"
          ],
          [
           1,
           "#FF6692"
          ]
         ],
         "geo": "geo",
         "hovertemplate": "Country=%{location}<extra></extra>",
         "locationmode": "country names",
         "locations": [
          "Brazil"
         ],
         "name": "Brazil",
         "showlegend": true,
         "showscale": false,
         "type": "choropleth",
         "z": [
          1
         ]
        },
        {
         "colorscale": [
          [
           0,
           "#B6E880"
          ],
          [
           1,
           "#B6E880"
          ]
         ],
         "geo": "geo",
         "hovertemplate": "Country=%{location}<extra></extra>",
         "locationmode": "country names",
         "locations": [
          "Brunei"
         ],
         "name": "Brunei",
         "showlegend": true,
         "showscale": false,
         "type": "choropleth",
         "z": [
          1
         ]
        },
        {
         "colorscale": [
          [
           0,
           "#FF97FF"
          ],
          [
           1,
           "#FF97FF"
          ]
         ],
         "geo": "geo",
         "hovertemplate": "Country=%{location}<extra></extra>",
         "locationmode": "country names",
         "locations": [
          "Bulgaria"
         ],
         "name": "Bulgaria",
         "showlegend": true,
         "showscale": false,
         "type": "choropleth",
         "z": [
          1
         ]
        },
        {
         "colorscale": [
          [
           0,
           "#FECB52"
          ],
          [
           1,
           "#FECB52"
          ]
         ],
         "geo": "geo",
         "hovertemplate": "Country=%{location}<extra></extra>",
         "locationmode": "country names",
         "locations": [
          "Burkina Faso"
         ],
         "name": "Burkina Faso",
         "showlegend": true,
         "showscale": false,
         "type": "choropleth",
         "z": [
          1
         ]
        },
        {
         "colorscale": [
          [
           0,
           "#636efa"
          ],
          [
           1,
           "#636efa"
          ]
         ],
         "geo": "geo",
         "hovertemplate": "Country=%{location}<extra></extra>",
         "locationmode": "country names",
         "locations": [
          "Cabo Verde"
         ],
         "name": "Cabo Verde",
         "showlegend": true,
         "showscale": false,
         "type": "choropleth",
         "z": [
          1
         ]
        },
        {
         "colorscale": [
          [
           0,
           "#EF553B"
          ],
          [
           1,
           "#EF553B"
          ]
         ],
         "geo": "geo",
         "hovertemplate": "Country=%{location}<extra></extra>",
         "locationmode": "country names",
         "locations": [
          "Cameroon"
         ],
         "name": "Cameroon",
         "showlegend": true,
         "showscale": false,
         "type": "choropleth",
         "z": [
          1
         ]
        },
        {
         "colorscale": [
          [
           0,
           "#00cc96"
          ],
          [
           1,
           "#00cc96"
          ]
         ],
         "geo": "geo",
         "hovertemplate": "Country=%{location}<extra></extra>",
         "locationmode": "country names",
         "locations": [
          "Canada"
         ],
         "name": "Canada",
         "showlegend": true,
         "showscale": false,
         "type": "choropleth",
         "z": [
          1
         ]
        },
        {
         "colorscale": [
          [
           0,
           "#ab63fa"
          ],
          [
           1,
           "#ab63fa"
          ]
         ],
         "geo": "geo",
         "hovertemplate": "Country=%{location}<extra></extra>",
         "locationmode": "country names",
         "locations": [
          "Chile"
         ],
         "name": "Chile",
         "showlegend": true,
         "showscale": false,
         "type": "choropleth",
         "z": [
          1
         ]
        },
        {
         "colorscale": [
          [
           0,
           "#FFA15A"
          ],
          [
           1,
           "#FFA15A"
          ]
         ],
         "geo": "geo",
         "hovertemplate": "Country=%{location}<extra></extra>",
         "locationmode": "country names",
         "locations": [
          "Hong Kong"
         ],
         "name": "Hong Kong",
         "showlegend": true,
         "showscale": false,
         "type": "choropleth",
         "z": [
          1
         ]
        },
        {
         "colorscale": [
          [
           0,
           "#19d3f3"
          ],
          [
           1,
           "#19d3f3"
          ]
         ],
         "geo": "geo",
         "hovertemplate": "Country=%{location}<extra></extra>",
         "locationmode": "country names",
         "locations": [
          "Macau"
         ],
         "name": "Macau",
         "showlegend": true,
         "showscale": false,
         "type": "choropleth",
         "z": [
          1
         ]
        },
        {
         "colorscale": [
          [
           0,
           "#FF6692"
          ],
          [
           1,
           "#FF6692"
          ]
         ],
         "geo": "geo",
         "hovertemplate": "Country=%{location}<extra></extra>",
         "locationmode": "country names",
         "locations": [
          "China"
         ],
         "name": "China",
         "showlegend": true,
         "showscale": false,
         "type": "choropleth",
         "z": [
          1
         ]
        },
        {
         "colorscale": [
          [
           0,
           "#B6E880"
          ],
          [
           1,
           "#B6E880"
          ]
         ],
         "geo": "geo",
         "hovertemplate": "Country=%{location}<extra></extra>",
         "locationmode": "country names",
         "locations": [
          "Cyprus"
         ],
         "name": "Cyprus",
         "showlegend": true,
         "showscale": false,
         "type": "choropleth",
         "z": [
          1
         ]
        },
        {
         "colorscale": [
          [
           0,
           "#FF97FF"
          ],
          [
           1,
           "#FF97FF"
          ]
         ],
         "geo": "geo",
         "hovertemplate": "Country=%{location}<extra></extra>",
         "locationmode": "country names",
         "locations": [
          "Colombia"
         ],
         "name": "Colombia",
         "showlegend": true,
         "showscale": false,
         "type": "choropleth",
         "z": [
          1
         ]
        },
        {
         "colorscale": [
          [
           0,
           "#FECB52"
          ],
          [
           1,
           "#FECB52"
          ]
         ],
         "geo": "geo",
         "hovertemplate": "Country=%{location}<extra></extra>",
         "locationmode": "country names",
         "locations": [
          "Costa Rica"
         ],
         "name": "Costa Rica",
         "showlegend": true,
         "showscale": false,
         "type": "choropleth",
         "z": [
          1
         ]
        },
        {
         "colorscale": [
          [
           0,
           "#636efa"
          ],
          [
           1,
           "#636efa"
          ]
         ],
         "geo": "geo",
         "hovertemplate": "Country=%{location}<extra></extra>",
         "locationmode": "country names",
         "locations": [
          "Côte d'Ivoire"
         ],
         "name": "Côte d'Ivoire",
         "showlegend": true,
         "showscale": false,
         "type": "choropleth",
         "z": [
          1
         ]
        },
        {
         "colorscale": [
          [
           0,
           "#EF553B"
          ],
          [
           1,
           "#EF553B"
          ]
         ],
         "geo": "geo",
         "hovertemplate": "Country=%{location}<extra></extra>",
         "locationmode": "country names",
         "locations": [
          "Croatia"
         ],
         "name": "Croatia",
         "showlegend": true,
         "showscale": false,
         "type": "choropleth",
         "z": [
          1
         ]
        },
        {
         "colorscale": [
          [
           0,
           "#00cc96"
          ],
          [
           1,
           "#00cc96"
          ]
         ],
         "geo": "geo",
         "hovertemplate": "Country=%{location}<extra></extra>",
         "locationmode": "country names",
         "locations": [
          "Cuba"
         ],
         "name": "Cuba",
         "showlegend": true,
         "showscale": false,
         "type": "choropleth",
         "z": [
          1
         ]
        },
        {
         "colorscale": [
          [
           0,
           "#ab63fa"
          ],
          [
           1,
           "#ab63fa"
          ]
         ],
         "geo": "geo",
         "hovertemplate": "Country=%{location}<extra></extra>",
         "locationmode": "country names",
         "locations": [
          "Denmark"
         ],
         "name": "Denmark",
         "showlegend": true,
         "showscale": false,
         "type": "choropleth",
         "z": [
          1
         ]
        },
        {
         "colorscale": [
          [
           0,
           "#FFA15A"
          ],
          [
           1,
           "#FFA15A"
          ]
         ],
         "geo": "geo",
         "hovertemplate": "Country=%{location}<extra></extra>",
         "locationmode": "country names",
         "locations": [
          "Djibouti"
         ],
         "name": "Djibouti",
         "showlegend": true,
         "showscale": false,
         "type": "choropleth",
         "z": [
          1
         ]
        },
        {
         "colorscale": [
          [
           0,
           "#19d3f3"
          ],
          [
           1,
           "#19d3f3"
          ]
         ],
         "geo": "geo",
         "hovertemplate": "Country=%{location}<extra></extra>",
         "locationmode": "country names",
         "locations": [
          "Dominica"
         ],
         "name": "Dominica",
         "showlegend": true,
         "showscale": false,
         "type": "choropleth",
         "z": [
          1
         ]
        },
        {
         "colorscale": [
          [
           0,
           "#FF6692"
          ],
          [
           1,
           "#FF6692"
          ]
         ],
         "geo": "geo",
         "hovertemplate": "Country=%{location}<extra></extra>",
         "locationmode": "country names",
         "locations": [
          "Egypt"
         ],
         "name": "Egypt",
         "showlegend": true,
         "showscale": false,
         "type": "choropleth",
         "z": [
          1
         ]
        },
        {
         "colorscale": [
          [
           0,
           "#B6E880"
          ],
          [
           1,
           "#B6E880"
          ]
         ],
         "geo": "geo",
         "hovertemplate": "Country=%{location}<extra></extra>",
         "locationmode": "country names",
         "locations": [
          "El Salvador"
         ],
         "name": "El Salvador",
         "showlegend": true,
         "showscale": false,
         "type": "choropleth",
         "z": [
          1
         ]
        },
        {
         "colorscale": [
          [
           0,
           "#FF97FF"
          ],
          [
           1,
           "#FF97FF"
          ]
         ],
         "geo": "geo",
         "hovertemplate": "Country=%{location}<extra></extra>",
         "locationmode": "country names",
         "locations": [
          "United Arab Emirates"
         ],
         "name": "United Arab Emirates",
         "showlegend": true,
         "showscale": false,
         "type": "choropleth",
         "z": [
          1
         ]
        },
        {
         "colorscale": [
          [
           0,
           "#FECB52"
          ],
          [
           1,
           "#FECB52"
          ]
         ],
         "geo": "geo",
         "hovertemplate": "Country=%{location}<extra></extra>",
         "locationmode": "country names",
         "locations": [
          "Spain"
         ],
         "name": "Spain",
         "showlegend": true,
         "showscale": false,
         "type": "choropleth",
         "z": [
          1
         ]
        },
        {
         "colorscale": [
          [
           0,
           "#636efa"
          ],
          [
           1,
           "#636efa"
          ]
         ],
         "geo": "geo",
         "hovertemplate": "Country=%{location}<extra></extra>",
         "locationmode": "country names",
         "locations": [
          "Estonia"
         ],
         "name": "Estonia",
         "showlegend": true,
         "showscale": false,
         "type": "choropleth",
         "z": [
          1
         ]
        },
        {
         "colorscale": [
          [
           0,
           "#EF553B"
          ],
          [
           1,
           "#EF553B"
          ]
         ],
         "geo": "geo",
         "hovertemplate": "Country=%{location}<extra></extra>",
         "locationmode": "country names",
         "locations": [
          "United States"
         ],
         "name": "United States",
         "showlegend": true,
         "showscale": false,
         "type": "choropleth",
         "z": [
          1
         ]
        },
        {
         "colorscale": [
          [
           0,
           "#00cc96"
          ],
          [
           1,
           "#00cc96"
          ]
         ],
         "geo": "geo",
         "hovertemplate": "Country=%{location}<extra></extra>",
         "locationmode": "country names",
         "locations": [
          "Russia"
         ],
         "name": "Russia",
         "showlegend": true,
         "showscale": false,
         "type": "choropleth",
         "z": [
          1
         ]
        },
        {
         "colorscale": [
          [
           0,
           "#ab63fa"
          ],
          [
           1,
           "#ab63fa"
          ]
         ],
         "geo": "geo",
         "hovertemplate": "Country=%{location}<extra></extra>",
         "locationmode": "country names",
         "locations": [
          "Fiji"
         ],
         "name": "Fiji",
         "showlegend": true,
         "showscale": false,
         "type": "choropleth",
         "z": [
          1
         ]
        },
        {
         "colorscale": [
          [
           0,
           "#FFA15A"
          ],
          [
           1,
           "#FFA15A"
          ]
         ],
         "geo": "geo",
         "hovertemplate": "Country=%{location}<extra></extra>",
         "locationmode": "country names",
         "locations": [
          "Finland"
         ],
         "name": "Finland",
         "showlegend": true,
         "showscale": false,
         "type": "choropleth",
         "z": [
          1
         ]
        },
        {
         "colorscale": [
          [
           0,
           "#19d3f3"
          ],
          [
           1,
           "#19d3f3"
          ]
         ],
         "geo": "geo",
         "hovertemplate": "Country=%{location}<extra></extra>",
         "locationmode": "country names",
         "locations": [
          "France"
         ],
         "name": "France",
         "showlegend": true,
         "showscale": false,
         "type": "choropleth",
         "z": [
          1
         ]
        },
        {
         "colorscale": [
          [
           0,
           "#FF6692"
          ],
          [
           1,
           "#FF6692"
          ]
         ],
         "geo": "geo",
         "hovertemplate": "Country=%{location}<extra></extra>",
         "locationmode": "country names",
         "locations": [
          "Gabon"
         ],
         "name": "Gabon",
         "showlegend": true,
         "showscale": false,
         "type": "choropleth",
         "z": [
          1
         ]
        },
        {
         "colorscale": [
          [
           0,
           "#B6E880"
          ],
          [
           1,
           "#B6E880"
          ]
         ],
         "geo": "geo",
         "hovertemplate": "Country=%{location}<extra></extra>",
         "locationmode": "country names",
         "locations": [
          "Georgia"
         ],
         "name": "Georgia",
         "showlegend": true,
         "showscale": false,
         "type": "choropleth",
         "z": [
          1
         ]
        },
        {
         "colorscale": [
          [
           0,
           "#FF97FF"
          ],
          [
           1,
           "#FF97FF"
          ]
         ],
         "geo": "geo",
         "hovertemplate": "Country=%{location}<extra></extra>",
         "locationmode": "country names",
         "locations": [
          "Ghana"
         ],
         "name": "Ghana",
         "showlegend": true,
         "showscale": false,
         "type": "choropleth",
         "z": [
          1
         ]
        },
        {
         "colorscale": [
          [
           0,
           "#FECB52"
          ],
          [
           1,
           "#FECB52"
          ]
         ],
         "geo": "geo",
         "hovertemplate": "Country=%{location}<extra></extra>",
         "locationmode": "country names",
         "locations": [
          "Greece"
         ],
         "name": "Greece",
         "showlegend": true,
         "showscale": false,
         "type": "choropleth",
         "z": [
          1
         ]
        },
        {
         "colorscale": [
          [
           0,
           "#636efa"
          ],
          [
           1,
           "#636efa"
          ]
         ],
         "geo": "geo",
         "hovertemplate": "Country=%{location}<extra></extra>",
         "locationmode": "country names",
         "locations": [
          "Guinea"
         ],
         "name": "Guinea",
         "showlegend": true,
         "showscale": false,
         "type": "choropleth",
         "z": [
          1
         ]
        },
        {
         "colorscale": [
          [
           0,
           "#EF553B"
          ],
          [
           1,
           "#EF553B"
          ]
         ],
         "geo": "geo",
         "hovertemplate": "Country=%{location}<extra></extra>",
         "locationmode": "country names",
         "locations": [
          "Guyana"
         ],
         "name": "Guyana",
         "showlegend": true,
         "showscale": false,
         "type": "choropleth",
         "z": [
          1
         ]
        },
        {
         "colorscale": [
          [
           0,
           "#00cc96"
          ],
          [
           1,
           "#00cc96"
          ]
         ],
         "geo": "geo",
         "hovertemplate": "Country=%{location}<extra></extra>",
         "locationmode": "country names",
         "locations": [
          "Honduras"
         ],
         "name": "Honduras",
         "showlegend": true,
         "showscale": false,
         "type": "choropleth",
         "z": [
          1
         ]
        },
        {
         "colorscale": [
          [
           0,
           "#ab63fa"
          ],
          [
           1,
           "#ab63fa"
          ]
         ],
         "geo": "geo",
         "hovertemplate": "Country=%{location}<extra></extra>",
         "locationmode": "country names",
         "locations": [
          "Hungary"
         ],
         "name": "Hungary",
         "showlegend": true,
         "showscale": false,
         "type": "choropleth",
         "z": [
          1
         ]
        },
        {
         "colorscale": [
          [
           0,
           "#FFA15A"
          ],
          [
           1,
           "#FFA15A"
          ]
         ],
         "geo": "geo",
         "hovertemplate": "Country=%{location}<extra></extra>",
         "locationmode": "country names",
         "locations": [
          "Indonesia"
         ],
         "name": "Indonesia",
         "showlegend": true,
         "showscale": false,
         "type": "choropleth",
         "z": [
          1
         ]
        },
        {
         "colorscale": [
          [
           0,
           "#19d3f3"
          ],
          [
           1,
           "#19d3f3"
          ]
         ],
         "geo": "geo",
         "hovertemplate": "Country=%{location}<extra></extra>",
         "locationmode": "country names",
         "locations": [
          "Iran"
         ],
         "name": "Iran",
         "showlegend": true,
         "showscale": false,
         "type": "choropleth",
         "z": [
          1
         ]
        },
        {
         "colorscale": [
          [
           0,
           "#FF6692"
          ],
          [
           1,
           "#FF6692"
          ]
         ],
         "geo": "geo",
         "hovertemplate": "Country=%{location}<extra></extra>",
         "locationmode": "country names",
         "locations": [
          "Iraq"
         ],
         "name": "Iraq",
         "showlegend": true,
         "showscale": false,
         "type": "choropleth",
         "z": [
          1
         ]
        },
        {
         "colorscale": [
          [
           0,
           "#B6E880"
          ],
          [
           1,
           "#B6E880"
          ]
         ],
         "geo": "geo",
         "hovertemplate": "Country=%{location}<extra></extra>",
         "locationmode": "country names",
         "locations": [
          "Ireland"
         ],
         "name": "Ireland",
         "showlegend": true,
         "showscale": false,
         "type": "choropleth",
         "z": [
          1
         ]
        },
        {
         "colorscale": [
          [
           0,
           "#FF97FF"
          ],
          [
           1,
           "#FF97FF"
          ]
         ],
         "geo": "geo",
         "hovertemplate": "Country=%{location}<extra></extra>",
         "locationmode": "country names",
         "locations": [
          "Iceland"
         ],
         "name": "Iceland",
         "showlegend": true,
         "showscale": false,
         "type": "choropleth",
         "z": [
          1
         ]
        },
        {
         "colorscale": [
          [
           0,
           "#FECB52"
          ],
          [
           1,
           "#FECB52"
          ]
         ],
         "geo": "geo",
         "hovertemplate": "Country=%{location}<extra></extra>",
         "locationmode": "country names",
         "locations": [
          "Israel"
         ],
         "name": "Israel",
         "showlegend": true,
         "showscale": false,
         "type": "choropleth",
         "z": [
          1
         ]
        },
        {
         "colorscale": [
          [
           0,
           "#636efa"
          ],
          [
           1,
           "#636efa"
          ]
         ],
         "geo": "geo",
         "hovertemplate": "Country=%{location}<extra></extra>",
         "locationmode": "country names",
         "locations": [
          "Italy"
         ],
         "name": "Italy",
         "showlegend": true,
         "showscale": false,
         "type": "choropleth",
         "z": [
          1
         ]
        },
        {
         "colorscale": [
          [
           0,
           "#EF553B"
          ],
          [
           1,
           "#EF553B"
          ]
         ],
         "geo": "geo",
         "hovertemplate": "Country=%{location}<extra></extra>",
         "locationmode": "country names",
         "locations": [
          "Jamaica"
         ],
         "name": "Jamaica",
         "showlegend": true,
         "showscale": false,
         "type": "choropleth",
         "z": [
          1
         ]
        },
        {
         "colorscale": [
          [
           0,
           "#00cc96"
          ],
          [
           1,
           "#00cc96"
          ]
         ],
         "geo": "geo",
         "hovertemplate": "Country=%{location}<extra></extra>",
         "locationmode": "country names",
         "locations": [
          "Japan"
         ],
         "name": "Japan",
         "showlegend": true,
         "showscale": false,
         "type": "choropleth",
         "z": [
          1
         ]
        },
        {
         "colorscale": [
          [
           0,
           "#ab63fa"
          ],
          [
           1,
           "#ab63fa"
          ]
         ],
         "geo": "geo",
         "hovertemplate": "Country=%{location}<extra></extra>",
         "locationmode": "country names",
         "locations": [
          "Jordan"
         ],
         "name": "Jordan",
         "showlegend": true,
         "showscale": false,
         "type": "choropleth",
         "z": [
          1
         ]
        },
        {
         "colorscale": [
          [
           0,
           "#FFA15A"
          ],
          [
           1,
           "#FFA15A"
          ]
         ],
         "geo": "geo",
         "hovertemplate": "Country=%{location}<extra></extra>",
         "locationmode": "country names",
         "locations": [
          "Kazakhstan"
         ],
         "name": "Kazakhstan",
         "showlegend": true,
         "showscale": false,
         "type": "choropleth",
         "z": [
          1
         ]
        },
        {
         "colorscale": [
          [
           0,
           "#19d3f3"
          ],
          [
           1,
           "#19d3f3"
          ]
         ],
         "geo": "geo",
         "hovertemplate": "Country=%{location}<extra></extra>",
         "locationmode": "country names",
         "locations": [
          "Kyrgyzstan"
         ],
         "name": "Kyrgyzstan",
         "showlegend": true,
         "showscale": false,
         "type": "choropleth",
         "z": [
          1
         ]
        },
        {
         "colorscale": [
          [
           0,
           "#FF6692"
          ],
          [
           1,
           "#FF6692"
          ]
         ],
         "geo": "geo",
         "hovertemplate": "Country=%{location}<extra></extra>",
         "locationmode": "country names",
         "locations": [
          "Kiribati"
         ],
         "name": "Kiribati",
         "showlegend": true,
         "showscale": false,
         "type": "choropleth",
         "z": [
          1
         ]
        },
        {
         "colorscale": [
          [
           0,
           "#B6E880"
          ],
          [
           1,
           "#B6E880"
          ]
         ],
         "geo": "geo",
         "hovertemplate": "Country=%{location}<extra></extra>",
         "locationmode": "country names",
         "locations": [
          "Kuwait"
         ],
         "name": "Kuwait",
         "showlegend": true,
         "showscale": false,
         "type": "choropleth",
         "z": [
          1
         ]
        },
        {
         "colorscale": [
          [
           0,
           "#FF97FF"
          ],
          [
           1,
           "#FF97FF"
          ]
         ],
         "geo": "geo",
         "hovertemplate": "Country=%{location}<extra></extra>",
         "locationmode": "country names",
         "locations": [
          "Lesotho"
         ],
         "name": "Lesotho",
         "showlegend": true,
         "showscale": false,
         "type": "choropleth",
         "z": [
          1
         ]
        },
        {
         "colorscale": [
          [
           0,
           "#FECB52"
          ],
          [
           1,
           "#FECB52"
          ]
         ],
         "geo": "geo",
         "hovertemplate": "Country=%{location}<extra></extra>",
         "locationmode": "country names",
         "locations": [
          "Latvia"
         ],
         "name": "Latvia",
         "showlegend": true,
         "showscale": false,
         "type": "choropleth",
         "z": [
          1
         ]
        },
        {
         "colorscale": [
          [
           0,
           "#636efa"
          ],
          [
           1,
           "#636efa"
          ]
         ],
         "geo": "geo",
         "hovertemplate": "Country=%{location}<extra></extra>",
         "locationmode": "country names",
         "locations": [
          "Lebanon"
         ],
         "name": "Lebanon",
         "showlegend": true,
         "showscale": false,
         "type": "choropleth",
         "z": [
          1
         ]
        },
        {
         "colorscale": [
          [
           0,
           "#EF553B"
          ],
          [
           1,
           "#EF553B"
          ]
         ],
         "geo": "geo",
         "hovertemplate": "Country=%{location}<extra></extra>",
         "locationmode": "country names",
         "locations": [
          "Lithuania"
         ],
         "name": "Lithuania",
         "showlegend": true,
         "showscale": false,
         "type": "choropleth",
         "z": [
          1
         ]
        },
        {
         "colorscale": [
          [
           0,
           "#00cc96"
          ],
          [
           1,
           "#00cc96"
          ]
         ],
         "geo": "geo",
         "hovertemplate": "Country=%{location}<extra></extra>",
         "locationmode": "country names",
         "locations": [
          "Luxembourg"
         ],
         "name": "Luxembourg",
         "showlegend": true,
         "showscale": false,
         "type": "choropleth",
         "z": [
          1
         ]
        },
        {
         "colorscale": [
          [
           0,
           "#ab63fa"
          ],
          [
           1,
           "#ab63fa"
          ]
         ],
         "geo": "geo",
         "hovertemplate": "Country=%{location}<extra></extra>",
         "locationmode": "country names",
         "locations": [
          "Macedonia"
         ],
         "name": "Macedonia",
         "showlegend": true,
         "showscale": false,
         "type": "choropleth",
         "z": [
          1
         ]
        },
        {
         "colorscale": [
          [
           0,
           "#FFA15A"
          ],
          [
           1,
           "#FFA15A"
          ]
         ],
         "geo": "geo",
         "hovertemplate": "Country=%{location}<extra></extra>",
         "locationmode": "country names",
         "locations": [
          "Malaysia"
         ],
         "name": "Malaysia",
         "showlegend": true,
         "showscale": false,
         "type": "choropleth",
         "z": [
          1
         ]
        },
        {
         "colorscale": [
          [
           0,
           "#19d3f3"
          ],
          [
           1,
           "#19d3f3"
          ]
         ],
         "geo": "geo",
         "hovertemplate": "Country=%{location}<extra></extra>",
         "locationmode": "country names",
         "locations": [
          "Maldives"
         ],
         "name": "Maldives",
         "showlegend": true,
         "showscale": false,
         "type": "choropleth",
         "z": [
          1
         ]
        },
        {
         "colorscale": [
          [
           0,
           "#FF6692"
          ],
          [
           1,
           "#FF6692"
          ]
         ],
         "geo": "geo",
         "hovertemplate": "Country=%{location}<extra></extra>",
         "locationmode": "country names",
         "locations": [
          "Mali"
         ],
         "name": "Mali",
         "showlegend": true,
         "showscale": false,
         "type": "choropleth",
         "z": [
          1
         ]
        },
        {
         "colorscale": [
          [
           0,
           "#B6E880"
          ],
          [
           1,
           "#B6E880"
          ]
         ],
         "geo": "geo",
         "hovertemplate": "Country=%{location}<extra></extra>",
         "locationmode": "country names",
         "locations": [
          "Malta"
         ],
         "name": "Malta",
         "showlegend": true,
         "showscale": false,
         "type": "choropleth",
         "z": [
          1
         ]
        },
        {
         "colorscale": [
          [
           0,
           "#FF97FF"
          ],
          [
           1,
           "#FF97FF"
          ]
         ],
         "geo": "geo",
         "hovertemplate": "Country=%{location}<extra></extra>",
         "locationmode": "country names",
         "locations": [
          "Morocco"
         ],
         "name": "Morocco",
         "showlegend": true,
         "showscale": false,
         "type": "choropleth",
         "z": [
          1
         ]
        },
        {
         "colorscale": [
          [
           0,
           "#FECB52"
          ],
          [
           1,
           "#FECB52"
          ]
         ],
         "geo": "geo",
         "hovertemplate": "Country=%{location}<extra></extra>",
         "locationmode": "country names",
         "locations": [
          "Mauritius"
         ],
         "name": "Mauritius",
         "showlegend": true,
         "showscale": false,
         "type": "choropleth",
         "z": [
          1
         ]
        },
        {
         "colorscale": [
          [
           0,
           "#636efa"
          ],
          [
           1,
           "#636efa"
          ]
         ],
         "geo": "geo",
         "hovertemplate": "Country=%{location}<extra></extra>",
         "locationmode": "country names",
         "locations": [
          "Mauritania"
         ],
         "name": "Mauritania",
         "showlegend": true,
         "showscale": false,
         "type": "choropleth",
         "z": [
          1
         ]
        },
        {
         "colorscale": [
          [
           0,
           "#EF553B"
          ],
          [
           1,
           "#EF553B"
          ]
         ],
         "geo": "geo",
         "hovertemplate": "Country=%{location}<extra></extra>",
         "locationmode": "country names",
         "locations": [
          "Mexico"
         ],
         "name": "Mexico",
         "showlegend": true,
         "showscale": false,
         "type": "choropleth",
         "z": [
          1
         ]
        },
        {
         "colorscale": [
          [
           0,
           "#00cc96"
          ],
          [
           1,
           "#00cc96"
          ]
         ],
         "geo": "geo",
         "hovertemplate": "Country=%{location}<extra></extra>",
         "locationmode": "country names",
         "locations": [
          "Mongolia"
         ],
         "name": "Mongolia",
         "showlegend": true,
         "showscale": false,
         "type": "choropleth",
         "z": [
          1
         ]
        },
        {
         "colorscale": [
          [
           0,
           "#ab63fa"
          ],
          [
           1,
           "#ab63fa"
          ]
         ],
         "geo": "geo",
         "hovertemplate": "Country=%{location}<extra></extra>",
         "locationmode": "country names",
         "locations": [
          "Montenegro"
         ],
         "name": "Montenegro",
         "showlegend": true,
         "showscale": false,
         "type": "choropleth",
         "z": [
          1
         ]
        },
        {
         "colorscale": [
          [
           0,
           "#FFA15A"
          ],
          [
           1,
           "#FFA15A"
          ]
         ],
         "geo": "geo",
         "hovertemplate": "Country=%{location}<extra></extra>",
         "locationmode": "country names",
         "locations": [
          "Myanmar"
         ],
         "name": "Myanmar",
         "showlegend": true,
         "showscale": false,
         "type": "choropleth",
         "z": [
          1
         ]
        },
        {
         "colorscale": [
          [
           0,
           "#19d3f3"
          ],
          [
           1,
           "#19d3f3"
          ]
         ],
         "geo": "geo",
         "hovertemplate": "Country=%{location}<extra></extra>",
         "locationmode": "country names",
         "locations": [
          "Nepal"
         ],
         "name": "Nepal",
         "showlegend": true,
         "showscale": false,
         "type": "choropleth",
         "z": [
          1
         ]
        },
        {
         "colorscale": [
          [
           0,
           "#FF6692"
          ],
          [
           1,
           "#FF6692"
          ]
         ],
         "geo": "geo",
         "hovertemplate": "Country=%{location}<extra></extra>",
         "locationmode": "country names",
         "locations": [
          "Nicaragua"
         ],
         "name": "Nicaragua",
         "showlegend": true,
         "showscale": false,
         "type": "choropleth",
         "z": [
          1
         ]
        },
        {
         "colorscale": [
          [
           0,
           "#B6E880"
          ],
          [
           1,
           "#B6E880"
          ]
         ],
         "geo": "geo",
         "hovertemplate": "Country=%{location}<extra></extra>",
         "locationmode": "country names",
         "locations": [
          "Niger"
         ],
         "name": "Niger",
         "showlegend": true,
         "showscale": false,
         "type": "choropleth",
         "z": [
          1
         ]
        },
        {
         "colorscale": [
          [
           0,
           "#FF97FF"
          ],
          [
           1,
           "#FF97FF"
          ]
         ],
         "geo": "geo",
         "hovertemplate": "Country=%{location}<extra></extra>",
         "locationmode": "country names",
         "locations": [
          "Nigeria"
         ],
         "name": "Nigeria",
         "showlegend": true,
         "showscale": false,
         "type": "choropleth",
         "z": [
          1
         ]
        },
        {
         "colorscale": [
          [
           0,
           "#FECB52"
          ],
          [
           1,
           "#FECB52"
          ]
         ],
         "geo": "geo",
         "hovertemplate": "Country=%{location}<extra></extra>",
         "locationmode": "country names",
         "locations": [
          "Norway"
         ],
         "name": "Norway",
         "showlegend": true,
         "showscale": false,
         "type": "choropleth",
         "z": [
          1
         ]
        },
        {
         "colorscale": [
          [
           0,
           "#636efa"
          ],
          [
           1,
           "#636efa"
          ]
         ],
         "geo": "geo",
         "hovertemplate": "Country=%{location}<extra></extra>",
         "locationmode": "country names",
         "locations": [
          "New Caledonia"
         ],
         "name": "New Caledonia",
         "showlegend": true,
         "showscale": false,
         "type": "choropleth",
         "z": [
          1
         ]
        },
        {
         "colorscale": [
          [
           0,
           "#EF553B"
          ],
          [
           1,
           "#EF553B"
          ]
         ],
         "geo": "geo",
         "hovertemplate": "Country=%{location}<extra></extra>",
         "locationmode": "country names",
         "locations": [
          "New Zealand"
         ],
         "name": "New Zealand",
         "showlegend": true,
         "showscale": false,
         "type": "choropleth",
         "z": [
          1
         ]
        },
        {
         "colorscale": [
          [
           0,
           "#00cc96"
          ],
          [
           1,
           "#00cc96"
          ]
         ],
         "geo": "geo",
         "hovertemplate": "Country=%{location}<extra></extra>",
         "locationmode": "country names",
         "locations": [
          "Oman"
         ],
         "name": "Oman",
         "showlegend": true,
         "showscale": false,
         "type": "choropleth",
         "z": [
          1
         ]
        },
        {
         "colorscale": [
          [
           0,
           "#ab63fa"
          ],
          [
           1,
           "#ab63fa"
          ]
         ],
         "geo": "geo",
         "hovertemplate": "Country=%{location}<extra></extra>",
         "locationmode": "country names",
         "locations": [
          "Panama"
         ],
         "name": "Panama",
         "showlegend": true,
         "showscale": false,
         "type": "choropleth",
         "z": [
          1
         ]
        },
        {
         "colorscale": [
          [
           0,
           "#FFA15A"
          ],
          [
           1,
           "#FFA15A"
          ]
         ],
         "geo": "geo",
         "hovertemplate": "Country=%{location}<extra></extra>",
         "locationmode": "country names",
         "locations": [
          "Paraguay"
         ],
         "name": "Paraguay",
         "showlegend": true,
         "showscale": false,
         "type": "choropleth",
         "z": [
          1
         ]
        },
        {
         "colorscale": [
          [
           0,
           "#19d3f3"
          ],
          [
           1,
           "#19d3f3"
          ]
         ],
         "geo": "geo",
         "hovertemplate": "Country=%{location}<extra></extra>",
         "locationmode": "country names",
         "locations": [
          "Netherlands"
         ],
         "name": "Netherlands",
         "showlegend": true,
         "showscale": false,
         "type": "choropleth",
         "z": [
          1
         ]
        },
        {
         "colorscale": [
          [
           0,
           "#FF6692"
          ],
          [
           1,
           "#FF6692"
          ]
         ],
         "geo": "geo",
         "hovertemplate": "Country=%{location}<extra></extra>",
         "locationmode": "country names",
         "locations": [
          "Peru"
         ],
         "name": "Peru",
         "showlegend": true,
         "showscale": false,
         "type": "choropleth",
         "z": [
          1
         ]
        },
        {
         "colorscale": [
          [
           0,
           "#B6E880"
          ],
          [
           1,
           "#B6E880"
          ]
         ],
         "geo": "geo",
         "hovertemplate": "Country=%{location}<extra></extra>",
         "locationmode": "country names",
         "locations": [
          "Philippines"
         ],
         "name": "Philippines",
         "showlegend": true,
         "showscale": false,
         "type": "choropleth",
         "z": [
          1
         ]
        },
        {
         "colorscale": [
          [
           0,
           "#FF97FF"
          ],
          [
           1,
           "#FF97FF"
          ]
         ],
         "geo": "geo",
         "hovertemplate": "Country=%{location}<extra></extra>",
         "locationmode": "country names",
         "locations": [
          "Poland"
         ],
         "name": "Poland",
         "showlegend": true,
         "showscale": false,
         "type": "choropleth",
         "z": [
          1
         ]
        },
        {
         "colorscale": [
          [
           0,
           "#FECB52"
          ],
          [
           1,
           "#FECB52"
          ]
         ],
         "geo": "geo",
         "hovertemplate": "Country=%{location}<extra></extra>",
         "locationmode": "country names",
         "locations": [
          "French Polynesia"
         ],
         "name": "French Polynesia",
         "showlegend": true,
         "showscale": false,
         "type": "choropleth",
         "z": [
          1
         ]
        },
        {
         "colorscale": [
          [
           0,
           "#636efa"
          ],
          [
           1,
           "#636efa"
          ]
         ],
         "geo": "geo",
         "hovertemplate": "Country=%{location}<extra></extra>",
         "locationmode": "country names",
         "locations": [
          "Portugal"
         ],
         "name": "Portugal",
         "showlegend": true,
         "showscale": false,
         "type": "choropleth",
         "z": [
          1
         ]
        },
        {
         "colorscale": [
          [
           0,
           "#EF553B"
          ],
          [
           1,
           "#EF553B"
          ]
         ],
         "geo": "geo",
         "hovertemplate": "Country=%{location}<extra></extra>",
         "locationmode": "country names",
         "locations": [
          "South Korea"
         ],
         "name": "South Korea",
         "showlegend": true,
         "showscale": false,
         "type": "choropleth",
         "z": [
          1
         ]
        },
        {
         "colorscale": [
          [
           0,
           "#00cc96"
          ],
          [
           1,
           "#00cc96"
          ]
         ],
         "geo": "geo",
         "hovertemplate": "Country=%{location}<extra></extra>",
         "locationmode": "country names",
         "locations": [
          "Moldova"
         ],
         "name": "Moldova",
         "showlegend": true,
         "showscale": false,
         "type": "choropleth",
         "z": [
          1
         ]
        },
        {
         "colorscale": [
          [
           0,
           "#ab63fa"
          ],
          [
           1,
           "#ab63fa"
          ]
         ],
         "geo": "geo",
         "hovertemplate": "Country=%{location}<extra></extra>",
         "locationmode": "country names",
         "locations": [
          "Dominican Republic"
         ],
         "name": "Dominican Republic",
         "showlegend": true,
         "showscale": false,
         "type": "choropleth",
         "z": [
          1
         ]
        },
        {
         "colorscale": [
          [
           0,
           "#FFA15A"
          ],
          [
           1,
           "#FFA15A"
          ]
         ],
         "geo": "geo",
         "hovertemplate": "Country=%{location}<extra></extra>",
         "locationmode": "country names",
         "locations": [
          "Romania"
         ],
         "name": "Romania",
         "showlegend": true,
         "showscale": false,
         "type": "choropleth",
         "z": [
          1
         ]
        },
        {
         "colorscale": [
          [
           0,
           "#19d3f3"
          ],
          [
           1,
           "#19d3f3"
          ]
         ],
         "geo": "geo",
         "hovertemplate": "Country=%{location}<extra></extra>",
         "locationmode": "country names",
         "locations": [
          "Samoa"
         ],
         "name": "Samoa",
         "showlegend": true,
         "showscale": false,
         "type": "choropleth",
         "z": [
          1
         ]
        },
        {
         "colorscale": [
          [
           0,
           "#FF6692"
          ],
          [
           1,
           "#FF6692"
          ]
         ],
         "geo": "geo",
         "hovertemplate": "Country=%{location}<extra></extra>",
         "locationmode": "country names",
         "locations": [
          "Serbia"
         ],
         "name": "Serbia",
         "showlegend": true,
         "showscale": false,
         "type": "choropleth",
         "z": [
          1
         ]
        },
        {
         "colorscale": [
          [
           0,
           "#B6E880"
          ],
          [
           1,
           "#B6E880"
          ]
         ],
         "geo": "geo",
         "hovertemplate": "Country=%{location}<extra></extra>",
         "locationmode": "country names",
         "locations": [
          "Slovakia"
         ],
         "name": "Slovakia",
         "showlegend": true,
         "showscale": false,
         "type": "choropleth",
         "z": [
          1
         ]
        },
        {
         "colorscale": [
          [
           0,
           "#FF97FF"
          ],
          [
           1,
           "#FF97FF"
          ]
         ],
         "geo": "geo",
         "hovertemplate": "Country=%{location}<extra></extra>",
         "locationmode": "country names",
         "locations": [
          "Slovenia"
         ],
         "name": "Slovenia",
         "showlegend": true,
         "showscale": false,
         "type": "choropleth",
         "z": [
          1
         ]
        },
        {
         "colorscale": [
          [
           0,
           "#FECB52"
          ],
          [
           1,
           "#FECB52"
          ]
         ],
         "geo": "geo",
         "hovertemplate": "Country=%{location}<extra></extra>",
         "locationmode": "country names",
         "locations": [
          "Sri Lanka"
         ],
         "name": "Sri Lanka",
         "showlegend": true,
         "showscale": false,
         "type": "choropleth",
         "z": [
          1
         ]
        },
        {
         "colorscale": [
          [
           0,
           "#636efa"
          ],
          [
           1,
           "#636efa"
          ]
         ],
         "geo": "geo",
         "hovertemplate": "Country=%{location}<extra></extra>",
         "locationmode": "country names",
         "locations": [
          "Sweden"
         ],
         "name": "Sweden",
         "showlegend": true,
         "showscale": false,
         "type": "choropleth",
         "z": [
          1
         ]
        },
        {
         "colorscale": [
          [
           0,
           "#EF553B"
          ],
          [
           1,
           "#EF553B"
          ]
         ],
         "geo": "geo",
         "hovertemplate": "Country=%{location}<extra></extra>",
         "locationmode": "country names",
         "locations": [
          "Switzerland"
         ],
         "name": "Switzerland",
         "showlegend": true,
         "showscale": false,
         "type": "choropleth",
         "z": [
          1
         ]
        },
        {
         "colorscale": [
          [
           0,
           "#00cc96"
          ],
          [
           1,
           "#00cc96"
          ]
         ],
         "geo": "geo",
         "hovertemplate": "Country=%{location}<extra></extra>",
         "locationmode": "country names",
         "locations": [
          "Suriname"
         ],
         "name": "Suriname",
         "showlegend": true,
         "showscale": false,
         "type": "choropleth",
         "z": [
          1
         ]
        },
        {
         "colorscale": [
          [
           0,
           "#ab63fa"
          ],
          [
           1,
           "#ab63fa"
          ]
         ],
         "geo": "geo",
         "hovertemplate": "Country=%{location}<extra></extra>",
         "locationmode": "country names",
         "locations": [
          "Taiwan"
         ],
         "name": "Taiwan",
         "showlegend": true,
         "showscale": false,
         "type": "choropleth",
         "z": [
          1
         ]
        },
        {
         "colorscale": [
          [
           0,
           "#FFA15A"
          ],
          [
           1,
           "#FFA15A"
          ]
         ],
         "geo": "geo",
         "hovertemplate": "Country=%{location}<extra></extra>",
         "locationmode": "country names",
         "locations": [
          "Thailand"
         ],
         "name": "Thailand",
         "showlegend": true,
         "showscale": false,
         "type": "choropleth",
         "z": [
          1
         ]
        },
        {
         "colorscale": [
          [
           0,
           "#19d3f3"
          ],
          [
           1,
           "#19d3f3"
          ]
         ],
         "geo": "geo",
         "hovertemplate": "Country=%{location}<extra></extra>",
         "locationmode": "country names",
         "locations": [
          "Trinidad And Tobago"
         ],
         "name": "Trinidad And Tobago",
         "showlegend": true,
         "showscale": false,
         "type": "choropleth",
         "z": [
          1
         ]
        },
        {
         "colorscale": [
          [
           0,
           "#FF6692"
          ],
          [
           1,
           "#FF6692"
          ]
         ],
         "geo": "geo",
         "hovertemplate": "Country=%{location}<extra></extra>",
         "locationmode": "country names",
         "locations": [
          "Tunisia"
         ],
         "name": "Tunisia",
         "showlegend": true,
         "showscale": false,
         "type": "choropleth",
         "z": [
          1
         ]
        },
        {
         "colorscale": [
          [
           0,
           "#B6E880"
          ],
          [
           1,
           "#B6E880"
          ]
         ],
         "geo": "geo",
         "hovertemplate": "Country=%{location}<extra></extra>",
         "locationmode": "country names",
         "locations": [
          "Turkmenistan"
         ],
         "name": "Turkmenistan",
         "showlegend": true,
         "showscale": false,
         "type": "choropleth",
         "z": [
          1
         ]
        },
        {
         "colorscale": [
          [
           0,
           "#FF97FF"
          ],
          [
           1,
           "#FF97FF"
          ]
         ],
         "geo": "geo",
         "hovertemplate": "Country=%{location}<extra></extra>",
         "locationmode": "country names",
         "locations": [
          "Turkey"
         ],
         "name": "Turkey",
         "showlegend": true,
         "showscale": false,
         "type": "choropleth",
         "z": [
          1
         ]
        },
        {
         "colorscale": [
          [
           0,
           "#FECB52"
          ],
          [
           1,
           "#FECB52"
          ]
         ],
         "geo": "geo",
         "hovertemplate": "Country=%{location}<extra></extra>",
         "locationmode": "country names",
         "locations": [
          "Ukraine"
         ],
         "name": "Ukraine",
         "showlegend": true,
         "showscale": false,
         "type": "choropleth",
         "z": [
          1
         ]
        },
        {
         "colorscale": [
          [
           0,
           "#636efa"
          ],
          [
           1,
           "#636efa"
          ]
         ],
         "geo": "geo",
         "hovertemplate": "Country=%{location}<extra></extra>",
         "locationmode": "country names",
         "locations": [
          "Uruguay"
         ],
         "name": "Uruguay",
         "showlegend": true,
         "showscale": false,
         "type": "choropleth",
         "z": [
          1
         ]
        },
        {
         "colorscale": [
          [
           0,
           "#EF553B"
          ],
          [
           1,
           "#EF553B"
          ]
         ],
         "geo": "geo",
         "hovertemplate": "Country=%{location}<extra></extra>",
         "locationmode": "country names",
         "locations": [
          "Vanuatu"
         ],
         "name": "Vanuatu",
         "showlegend": true,
         "showscale": false,
         "type": "choropleth",
         "z": [
          1
         ]
        },
        {
         "colorscale": [
          [
           0,
           "#00cc96"
          ],
          [
           1,
           "#00cc96"
          ]
         ],
         "geo": "geo",
         "hovertemplate": "Country=%{location}<extra></extra>",
         "locationmode": "country names",
         "locations": [
          "Venezuela"
         ],
         "name": "Venezuela",
         "showlegend": true,
         "showscale": false,
         "type": "choropleth",
         "z": [
          1
         ]
        },
        {
         "colorscale": [
          [
           0,
           "#ab63fa"
          ],
          [
           1,
           "#ab63fa"
          ]
         ],
         "geo": "geo",
         "hovertemplate": "Country=%{location}<extra></extra>",
         "locationmode": "country names",
         "locations": [
          "Vietnam"
         ],
         "name": "Vietnam",
         "showlegend": true,
         "showscale": false,
         "type": "choropleth",
         "z": [
          1
         ]
        }
       ],
       "layout": {
        "geo": {
         "center": {},
         "domain": {
          "x": [
           0,
           1
          ],
          "y": [
           0,
           1
          ]
         },
         "scope": "world"
        },
        "legend": {
         "title": {
          "text": "Country"
         },
         "tracegroupgap": 0
        },
        "template": {
         "data": {
          "bar": [
           {
            "error_x": {
             "color": "#2a3f5f"
            },
            "error_y": {
             "color": "#2a3f5f"
            },
            "marker": {
             "line": {
              "color": "#E5ECF6",
              "width": 0.5
             },
             "pattern": {
              "fillmode": "overlay",
              "size": 10,
              "solidity": 0.2
             }
            },
            "type": "bar"
           }
          ],
          "barpolar": [
           {
            "marker": {
             "line": {
              "color": "#E5ECF6",
              "width": 0.5
             },
             "pattern": {
              "fillmode": "overlay",
              "size": 10,
              "solidity": 0.2
             }
            },
            "type": "barpolar"
           }
          ],
          "carpet": [
           {
            "aaxis": {
             "endlinecolor": "#2a3f5f",
             "gridcolor": "white",
             "linecolor": "white",
             "minorgridcolor": "white",
             "startlinecolor": "#2a3f5f"
            },
            "baxis": {
             "endlinecolor": "#2a3f5f",
             "gridcolor": "white",
             "linecolor": "white",
             "minorgridcolor": "white",
             "startlinecolor": "#2a3f5f"
            },
            "type": "carpet"
           }
          ],
          "choropleth": [
           {
            "colorbar": {
             "outlinewidth": 0,
             "ticks": ""
            },
            "type": "choropleth"
           }
          ],
          "contour": [
           {
            "colorbar": {
             "outlinewidth": 0,
             "ticks": ""
            },
            "colorscale": [
             [
              0,
              "#0d0887"
             ],
             [
              0.1111111111111111,
              "#46039f"
             ],
             [
              0.2222222222222222,
              "#7201a8"
             ],
             [
              0.3333333333333333,
              "#9c179e"
             ],
             [
              0.4444444444444444,
              "#bd3786"
             ],
             [
              0.5555555555555556,
              "#d8576b"
             ],
             [
              0.6666666666666666,
              "#ed7953"
             ],
             [
              0.7777777777777778,
              "#fb9f3a"
             ],
             [
              0.8888888888888888,
              "#fdca26"
             ],
             [
              1,
              "#f0f921"
             ]
            ],
            "type": "contour"
           }
          ],
          "contourcarpet": [
           {
            "colorbar": {
             "outlinewidth": 0,
             "ticks": ""
            },
            "type": "contourcarpet"
           }
          ],
          "heatmap": [
           {
            "colorbar": {
             "outlinewidth": 0,
             "ticks": ""
            },
            "colorscale": [
             [
              0,
              "#0d0887"
             ],
             [
              0.1111111111111111,
              "#46039f"
             ],
             [
              0.2222222222222222,
              "#7201a8"
             ],
             [
              0.3333333333333333,
              "#9c179e"
             ],
             [
              0.4444444444444444,
              "#bd3786"
             ],
             [
              0.5555555555555556,
              "#d8576b"
             ],
             [
              0.6666666666666666,
              "#ed7953"
             ],
             [
              0.7777777777777778,
              "#fb9f3a"
             ],
             [
              0.8888888888888888,
              "#fdca26"
             ],
             [
              1,
              "#f0f921"
             ]
            ],
            "type": "heatmap"
           }
          ],
          "heatmapgl": [
           {
            "colorbar": {
             "outlinewidth": 0,
             "ticks": ""
            },
            "colorscale": [
             [
              0,
              "#0d0887"
             ],
             [
              0.1111111111111111,
              "#46039f"
             ],
             [
              0.2222222222222222,
              "#7201a8"
             ],
             [
              0.3333333333333333,
              "#9c179e"
             ],
             [
              0.4444444444444444,
              "#bd3786"
             ],
             [
              0.5555555555555556,
              "#d8576b"
             ],
             [
              0.6666666666666666,
              "#ed7953"
             ],
             [
              0.7777777777777778,
              "#fb9f3a"
             ],
             [
              0.8888888888888888,
              "#fdca26"
             ],
             [
              1,
              "#f0f921"
             ]
            ],
            "type": "heatmapgl"
           }
          ],
          "histogram": [
           {
            "marker": {
             "pattern": {
              "fillmode": "overlay",
              "size": 10,
              "solidity": 0.2
             }
            },
            "type": "histogram"
           }
          ],
          "histogram2d": [
           {
            "colorbar": {
             "outlinewidth": 0,
             "ticks": ""
            },
            "colorscale": [
             [
              0,
              "#0d0887"
             ],
             [
              0.1111111111111111,
              "#46039f"
             ],
             [
              0.2222222222222222,
              "#7201a8"
             ],
             [
              0.3333333333333333,
              "#9c179e"
             ],
             [
              0.4444444444444444,
              "#bd3786"
             ],
             [
              0.5555555555555556,
              "#d8576b"
             ],
             [
              0.6666666666666666,
              "#ed7953"
             ],
             [
              0.7777777777777778,
              "#fb9f3a"
             ],
             [
              0.8888888888888888,
              "#fdca26"
             ],
             [
              1,
              "#f0f921"
             ]
            ],
            "type": "histogram2d"
           }
          ],
          "histogram2dcontour": [
           {
            "colorbar": {
             "outlinewidth": 0,
             "ticks": ""
            },
            "colorscale": [
             [
              0,
              "#0d0887"
             ],
             [
              0.1111111111111111,
              "#46039f"
             ],
             [
              0.2222222222222222,
              "#7201a8"
             ],
             [
              0.3333333333333333,
              "#9c179e"
             ],
             [
              0.4444444444444444,
              "#bd3786"
             ],
             [
              0.5555555555555556,
              "#d8576b"
             ],
             [
              0.6666666666666666,
              "#ed7953"
             ],
             [
              0.7777777777777778,
              "#fb9f3a"
             ],
             [
              0.8888888888888888,
              "#fdca26"
             ],
             [
              1,
              "#f0f921"
             ]
            ],
            "type": "histogram2dcontour"
           }
          ],
          "mesh3d": [
           {
            "colorbar": {
             "outlinewidth": 0,
             "ticks": ""
            },
            "type": "mesh3d"
           }
          ],
          "parcoords": [
           {
            "line": {
             "colorbar": {
              "outlinewidth": 0,
              "ticks": ""
             }
            },
            "type": "parcoords"
           }
          ],
          "pie": [
           {
            "automargin": true,
            "type": "pie"
           }
          ],
          "scatter": [
           {
            "fillpattern": {
             "fillmode": "overlay",
             "size": 10,
             "solidity": 0.2
            },
            "type": "scatter"
           }
          ],
          "scatter3d": [
           {
            "line": {
             "colorbar": {
              "outlinewidth": 0,
              "ticks": ""
             }
            },
            "marker": {
             "colorbar": {
              "outlinewidth": 0,
              "ticks": ""
             }
            },
            "type": "scatter3d"
           }
          ],
          "scattercarpet": [
           {
            "marker": {
             "colorbar": {
              "outlinewidth": 0,
              "ticks": ""
             }
            },
            "type": "scattercarpet"
           }
          ],
          "scattergeo": [
           {
            "marker": {
             "colorbar": {
              "outlinewidth": 0,
              "ticks": ""
             }
            },
            "type": "scattergeo"
           }
          ],
          "scattergl": [
           {
            "marker": {
             "colorbar": {
              "outlinewidth": 0,
              "ticks": ""
             }
            },
            "type": "scattergl"
           }
          ],
          "scattermapbox": [
           {
            "marker": {
             "colorbar": {
              "outlinewidth": 0,
              "ticks": ""
             }
            },
            "type": "scattermapbox"
           }
          ],
          "scatterpolar": [
           {
            "marker": {
             "colorbar": {
              "outlinewidth": 0,
              "ticks": ""
             }
            },
            "type": "scatterpolar"
           }
          ],
          "scatterpolargl": [
           {
            "marker": {
             "colorbar": {
              "outlinewidth": 0,
              "ticks": ""
             }
            },
            "type": "scatterpolargl"
           }
          ],
          "scatterternary": [
           {
            "marker": {
             "colorbar": {
              "outlinewidth": 0,
              "ticks": ""
             }
            },
            "type": "scatterternary"
           }
          ],
          "surface": [
           {
            "colorbar": {
             "outlinewidth": 0,
             "ticks": ""
            },
            "colorscale": [
             [
              0,
              "#0d0887"
             ],
             [
              0.1111111111111111,
              "#46039f"
             ],
             [
              0.2222222222222222,
              "#7201a8"
             ],
             [
              0.3333333333333333,
              "#9c179e"
             ],
             [
              0.4444444444444444,
              "#bd3786"
             ],
             [
              0.5555555555555556,
              "#d8576b"
             ],
             [
              0.6666666666666666,
              "#ed7953"
             ],
             [
              0.7777777777777778,
              "#fb9f3a"
             ],
             [
              0.8888888888888888,
              "#fdca26"
             ],
             [
              1,
              "#f0f921"
             ]
            ],
            "type": "surface"
           }
          ],
          "table": [
           {
            "cells": {
             "fill": {
              "color": "#EBF0F8"
             },
             "line": {
              "color": "white"
             }
            },
            "header": {
             "fill": {
              "color": "#C8D4E3"
             },
             "line": {
              "color": "white"
             }
            },
            "type": "table"
           }
          ]
         },
         "layout": {
          "annotationdefaults": {
           "arrowcolor": "#2a3f5f",
           "arrowhead": 0,
           "arrowwidth": 1
          },
          "autotypenumbers": "strict",
          "coloraxis": {
           "colorbar": {
            "outlinewidth": 0,
            "ticks": ""
           }
          },
          "colorscale": {
           "diverging": [
            [
             0,
             "#8e0152"
            ],
            [
             0.1,
             "#c51b7d"
            ],
            [
             0.2,
             "#de77ae"
            ],
            [
             0.3,
             "#f1b6da"
            ],
            [
             0.4,
             "#fde0ef"
            ],
            [
             0.5,
             "#f7f7f7"
            ],
            [
             0.6,
             "#e6f5d0"
            ],
            [
             0.7,
             "#b8e186"
            ],
            [
             0.8,
             "#7fbc41"
            ],
            [
             0.9,
             "#4d9221"
            ],
            [
             1,
             "#276419"
            ]
           ],
           "sequential": [
            [
             0,
             "#0d0887"
            ],
            [
             0.1111111111111111,
             "#46039f"
            ],
            [
             0.2222222222222222,
             "#7201a8"
            ],
            [
             0.3333333333333333,
             "#9c179e"
            ],
            [
             0.4444444444444444,
             "#bd3786"
            ],
            [
             0.5555555555555556,
             "#d8576b"
            ],
            [
             0.6666666666666666,
             "#ed7953"
            ],
            [
             0.7777777777777778,
             "#fb9f3a"
            ],
            [
             0.8888888888888888,
             "#fdca26"
            ],
            [
             1,
             "#f0f921"
            ]
           ],
           "sequentialminus": [
            [
             0,
             "#0d0887"
            ],
            [
             0.1111111111111111,
             "#46039f"
            ],
            [
             0.2222222222222222,
             "#7201a8"
            ],
            [
             0.3333333333333333,
             "#9c179e"
            ],
            [
             0.4444444444444444,
             "#bd3786"
            ],
            [
             0.5555555555555556,
             "#d8576b"
            ],
            [
             0.6666666666666666,
             "#ed7953"
            ],
            [
             0.7777777777777778,
             "#fb9f3a"
            ],
            [
             0.8888888888888888,
             "#fdca26"
            ],
            [
             1,
             "#f0f921"
            ]
           ]
          },
          "colorway": [
           "#636efa",
           "#EF553B",
           "#00cc96",
           "#ab63fa",
           "#FFA15A",
           "#19d3f3",
           "#FF6692",
           "#B6E880",
           "#FF97FF",
           "#FECB52"
          ],
          "font": {
           "color": "#2a3f5f"
          },
          "geo": {
           "bgcolor": "white",
           "lakecolor": "white",
           "landcolor": "#E5ECF6",
           "showlakes": true,
           "showland": true,
           "subunitcolor": "white"
          },
          "hoverlabel": {
           "align": "left"
          },
          "hovermode": "closest",
          "mapbox": {
           "style": "light"
          },
          "paper_bgcolor": "white",
          "plot_bgcolor": "#E5ECF6",
          "polar": {
           "angularaxis": {
            "gridcolor": "white",
            "linecolor": "white",
            "ticks": ""
           },
           "bgcolor": "#E5ECF6",
           "radialaxis": {
            "gridcolor": "white",
            "linecolor": "white",
            "ticks": ""
           }
          },
          "scene": {
           "xaxis": {
            "backgroundcolor": "#E5ECF6",
            "gridcolor": "white",
            "gridwidth": 2,
            "linecolor": "white",
            "showbackground": true,
            "ticks": "",
            "zerolinecolor": "white"
           },
           "yaxis": {
            "backgroundcolor": "#E5ECF6",
            "gridcolor": "white",
            "gridwidth": 2,
            "linecolor": "white",
            "showbackground": true,
            "ticks": "",
            "zerolinecolor": "white"
           },
           "zaxis": {
            "backgroundcolor": "#E5ECF6",
            "gridcolor": "white",
            "gridwidth": 2,
            "linecolor": "white",
            "showbackground": true,
            "ticks": "",
            "zerolinecolor": "white"
           }
          },
          "shapedefaults": {
           "line": {
            "color": "#2a3f5f"
           }
          },
          "ternary": {
           "aaxis": {
            "gridcolor": "white",
            "linecolor": "white",
            "ticks": ""
           },
           "baxis": {
            "gridcolor": "white",
            "linecolor": "white",
            "ticks": ""
           },
           "bgcolor": "#E5ECF6",
           "caxis": {
            "gridcolor": "white",
            "linecolor": "white",
            "ticks": ""
           }
          },
          "title": {
           "x": 0.05
          },
          "xaxis": {
           "automargin": true,
           "gridcolor": "white",
           "linecolor": "white",
           "ticks": "",
           "title": {
            "standoff": 15
           },
           "zerolinecolor": "white",
           "zerolinewidth": 2
          },
          "yaxis": {
           "automargin": true,
           "gridcolor": "white",
           "linecolor": "white",
           "ticks": "",
           "title": {
            "standoff": 15
           },
           "zerolinecolor": "white",
           "zerolinewidth": 2
          }
         }
        },
        "title": {
         "font": {
          "color": "blue"
         },
         "text": "Countries with high food availability",
         "x": 0.5
        }
       }
      }
     },
     "metadata": {},
     "output_type": "display_data"
    },
    {
     "data": {
      "application/vnd.plotly.v1+json": {
       "config": {
        "plotlyServerURL": "https://plot.ly"
       },
       "data": [
        {
         "colorscale": [
          [
           0,
           "#636efa"
          ],
          [
           1,
           "#636efa"
          ]
         ],
         "geo": "geo",
         "hovertemplate": "Country=%{location}<extra></extra>",
         "locationmode": "country names",
         "locations": [
          "Afghanistan"
         ],
         "name": "Afghanistan",
         "showlegend": true,
         "showscale": false,
         "type": "choropleth",
         "z": [
          1
         ]
        },
        {
         "colorscale": [
          [
           0,
           "#EF553B"
          ],
          [
           1,
           "#EF553B"
          ]
         ],
         "geo": "geo",
         "hovertemplate": "Country=%{location}<extra></extra>",
         "locationmode": "country names",
         "locations": [
          "Angola"
         ],
         "name": "Angola",
         "showlegend": true,
         "showscale": false,
         "type": "choropleth",
         "z": [
          1
         ]
        },
        {
         "colorscale": [
          [
           0,
           "#00cc96"
          ],
          [
           1,
           "#00cc96"
          ]
         ],
         "geo": "geo",
         "hovertemplate": "Country=%{location}<extra></extra>",
         "locationmode": "country names",
         "locations": [
          "Antigua And Barbuda"
         ],
         "name": "Antigua And Barbuda",
         "showlegend": true,
         "showscale": false,
         "type": "choropleth",
         "z": [
          1
         ]
        },
        {
         "colorscale": [
          [
           0,
           "#ab63fa"
          ],
          [
           1,
           "#ab63fa"
          ]
         ],
         "geo": "geo",
         "hovertemplate": "Country=%{location}<extra></extra>",
         "locationmode": "country names",
         "locations": [
          "Bangladesh"
         ],
         "name": "Bangladesh",
         "showlegend": true,
         "showscale": false,
         "type": "choropleth",
         "z": [
          1
         ]
        },
        {
         "colorscale": [
          [
           0,
           "#FFA15A"
          ],
          [
           1,
           "#FFA15A"
          ]
         ],
         "geo": "geo",
         "hovertemplate": "Country=%{location}<extra></extra>",
         "locationmode": "country names",
         "locations": [
          "Bolivia"
         ],
         "name": "Bolivia",
         "showlegend": true,
         "showscale": false,
         "type": "choropleth",
         "z": [
          1
         ]
        },
        {
         "colorscale": [
          [
           0,
           "#19d3f3"
          ],
          [
           1,
           "#19d3f3"
          ]
         ],
         "geo": "geo",
         "hovertemplate": "Country=%{location}<extra></extra>",
         "locationmode": "country names",
         "locations": [
          "Botswana"
         ],
         "name": "Botswana",
         "showlegend": true,
         "showscale": false,
         "type": "choropleth",
         "z": [
          1
         ]
        },
        {
         "colorscale": [
          [
           0,
           "#FF6692"
          ],
          [
           1,
           "#FF6692"
          ]
         ],
         "geo": "geo",
         "hovertemplate": "Country=%{location}<extra></extra>",
         "locationmode": "country names",
         "locations": [
          "Cambodia"
         ],
         "name": "Cambodia",
         "showlegend": true,
         "showscale": false,
         "type": "choropleth",
         "z": [
          1
         ]
        },
        {
         "colorscale": [
          [
           0,
           "#B6E880"
          ],
          [
           1,
           "#B6E880"
          ]
         ],
         "geo": "geo",
         "hovertemplate": "Country=%{location}<extra></extra>",
         "locationmode": "country names",
         "locations": [
          "Congo (Kinshasa)"
         ],
         "name": "Congo (Kinshasa)",
         "showlegend": true,
         "showscale": false,
         "type": "choropleth",
         "z": [
          1
         ]
        },
        {
         "colorscale": [
          [
           0,
           "#FF97FF"
          ],
          [
           1,
           "#FF97FF"
          ]
         ],
         "geo": "geo",
         "hovertemplate": "Country=%{location}<extra></extra>",
         "locationmode": "country names",
         "locations": [
          "Ecuador"
         ],
         "name": "Ecuador",
         "showlegend": true,
         "showscale": false,
         "type": "choropleth",
         "z": [
          1
         ]
        },
        {
         "colorscale": [
          [
           0,
           "#FECB52"
          ],
          [
           1,
           "#FECB52"
          ]
         ],
         "geo": "geo",
         "hovertemplate": "Country=%{location}<extra></extra>",
         "locationmode": "country names",
         "locations": [
          "Ethiopia"
         ],
         "name": "Ethiopia",
         "showlegend": true,
         "showscale": false,
         "type": "choropleth",
         "z": [
          1
         ]
        },
        {
         "colorscale": [
          [
           0,
           "#636efa"
          ],
          [
           1,
           "#636efa"
          ]
         ],
         "geo": "geo",
         "hovertemplate": "Country=%{location}<extra></extra>",
         "locationmode": "country names",
         "locations": [
          "Grenada"
         ],
         "name": "Grenada",
         "showlegend": true,
         "showscale": false,
         "type": "choropleth",
         "z": [
          1
         ]
        },
        {
         "colorscale": [
          [
           0,
           "#EF553B"
          ],
          [
           1,
           "#EF553B"
          ]
         ],
         "geo": "geo",
         "hovertemplate": "Country=%{location}<extra></extra>",
         "locationmode": "country names",
         "locations": [
          "Guatemala"
         ],
         "name": "Guatemala",
         "showlegend": true,
         "showscale": false,
         "type": "choropleth",
         "z": [
          1
         ]
        },
        {
         "colorscale": [
          [
           0,
           "#00cc96"
          ],
          [
           1,
           "#00cc96"
          ]
         ],
         "geo": "geo",
         "hovertemplate": "Country=%{location}<extra></extra>",
         "locationmode": "country names",
         "locations": [
          "Guinea-Bissau"
         ],
         "name": "Guinea-Bissau",
         "showlegend": true,
         "showscale": false,
         "type": "choropleth",
         "z": [
          1
         ]
        },
        {
         "colorscale": [
          [
           0,
           "#ab63fa"
          ],
          [
           1,
           "#ab63fa"
          ]
         ],
         "geo": "geo",
         "hovertemplate": "Country=%{location}<extra></extra>",
         "locationmode": "country names",
         "locations": [
          "Haiti"
         ],
         "name": "Haiti",
         "showlegend": true,
         "showscale": false,
         "type": "choropleth",
         "z": [
          1
         ]
        },
        {
         "colorscale": [
          [
           0,
           "#FFA15A"
          ],
          [
           1,
           "#FFA15A"
          ]
         ],
         "geo": "geo",
         "hovertemplate": "Country=%{location}<extra></extra>",
         "locationmode": "country names",
         "locations": [
          "Solomon Islands"
         ],
         "name": "Solomon Islands",
         "showlegend": true,
         "showscale": false,
         "type": "choropleth",
         "z": [
          1
         ]
        },
        {
         "colorscale": [
          [
           0,
           "#19d3f3"
          ],
          [
           1,
           "#19d3f3"
          ]
         ],
         "geo": "geo",
         "hovertemplate": "Country=%{location}<extra></extra>",
         "locationmode": "country names",
         "locations": [
          "India"
         ],
         "name": "India",
         "showlegend": true,
         "showscale": false,
         "type": "choropleth",
         "z": [
          1
         ]
        },
        {
         "colorscale": [
          [
           0,
           "#FF6692"
          ],
          [
           1,
           "#FF6692"
          ]
         ],
         "geo": "geo",
         "hovertemplate": "Country=%{location}<extra></extra>",
         "locationmode": "country names",
         "locations": [
          "Kenya"
         ],
         "name": "Kenya",
         "showlegend": true,
         "showscale": false,
         "type": "choropleth",
         "z": [
          1
         ]
        },
        {
         "colorscale": [
          [
           0,
           "#B6E880"
          ],
          [
           1,
           "#B6E880"
          ]
         ],
         "geo": "geo",
         "hovertemplate": "Country=%{location}<extra></extra>",
         "locationmode": "country names",
         "locations": [
          "Liberia"
         ],
         "name": "Liberia",
         "showlegend": true,
         "showscale": false,
         "type": "choropleth",
         "z": [
          1
         ]
        },
        {
         "colorscale": [
          [
           0,
           "#FF97FF"
          ],
          [
           1,
           "#FF97FF"
          ]
         ],
         "geo": "geo",
         "hovertemplate": "Country=%{location}<extra></extra>",
         "locationmode": "country names",
         "locations": [
          "Madagascar"
         ],
         "name": "Madagascar",
         "showlegend": true,
         "showscale": false,
         "type": "choropleth",
         "z": [
          1
         ]
        },
        {
         "colorscale": [
          [
           0,
           "#FECB52"
          ],
          [
           1,
           "#FECB52"
          ]
         ],
         "geo": "geo",
         "hovertemplate": "Country=%{location}<extra></extra>",
         "locationmode": "country names",
         "locations": [
          "Malawi"
         ],
         "name": "Malawi",
         "showlegend": true,
         "showscale": false,
         "type": "choropleth",
         "z": [
          1
         ]
        },
        {
         "colorscale": [
          [
           0,
           "#636efa"
          ],
          [
           1,
           "#636efa"
          ]
         ],
         "geo": "geo",
         "hovertemplate": "Country=%{location}<extra></extra>",
         "locationmode": "country names",
         "locations": [
          "Mozambique"
         ],
         "name": "Mozambique",
         "showlegend": true,
         "showscale": false,
         "type": "choropleth",
         "z": [
          1
         ]
        },
        {
         "colorscale": [
          [
           0,
           "#EF553B"
          ],
          [
           1,
           "#EF553B"
          ]
         ],
         "geo": "geo",
         "hovertemplate": "Country=%{location}<extra></extra>",
         "locationmode": "country names",
         "locations": [
          "Namibia"
         ],
         "name": "Namibia",
         "showlegend": true,
         "showscale": false,
         "type": "choropleth",
         "z": [
          1
         ]
        },
        {
         "colorscale": [
          [
           0,
           "#00cc96"
          ],
          [
           1,
           "#00cc96"
          ]
         ],
         "geo": "geo",
         "hovertemplate": "Country=%{location}<extra></extra>",
         "locationmode": "country names",
         "locations": [
          "Pakistan"
         ],
         "name": "Pakistan",
         "showlegend": true,
         "showscale": false,
         "type": "choropleth",
         "z": [
          1
         ]
        },
        {
         "colorscale": [
          [
           0,
           "#ab63fa"
          ],
          [
           1,
           "#ab63fa"
          ]
         ],
         "geo": "geo",
         "hovertemplate": "Country=%{location}<extra></extra>",
         "locationmode": "country names",
         "locations": [
          "Central African Republic"
         ],
         "name": "Central African Republic",
         "showlegend": true,
         "showscale": false,
         "type": "choropleth",
         "z": [
          1
         ]
        },
        {
         "colorscale": [
          [
           0,
           "#FFA15A"
          ],
          [
           1,
           "#FFA15A"
          ]
         ],
         "geo": "geo",
         "hovertemplate": "Country=%{location}<extra></extra>",
         "locationmode": "country names",
         "locations": [
          "Laos"
         ],
         "name": "Laos",
         "showlegend": true,
         "showscale": false,
         "type": "choropleth",
         "z": [
          1
         ]
        },
        {
         "colorscale": [
          [
           0,
           "#19d3f3"
          ],
          [
           1,
           "#19d3f3"
          ]
         ],
         "geo": "geo",
         "hovertemplate": "Country=%{location}<extra></extra>",
         "locationmode": "country names",
         "locations": [
          "North Korea"
         ],
         "name": "North Korea",
         "showlegend": true,
         "showscale": false,
         "type": "choropleth",
         "z": [
          1
         ]
        },
        {
         "colorscale": [
          [
           0,
           "#FF6692"
          ],
          [
           1,
           "#FF6692"
          ]
         ],
         "geo": "geo",
         "hovertemplate": "Country=%{location}<extra></extra>",
         "locationmode": "country names",
         "locations": [
          "Tanzania"
         ],
         "name": "Tanzania",
         "showlegend": true,
         "showscale": false,
         "type": "choropleth",
         "z": [
          1
         ]
        },
        {
         "colorscale": [
          [
           0,
           "#B6E880"
          ],
          [
           1,
           "#B6E880"
          ]
         ],
         "geo": "geo",
         "hovertemplate": "Country=%{location}<extra></extra>",
         "locationmode": "country names",
         "locations": [
          "Rwanda"
         ],
         "name": "Rwanda",
         "showlegend": true,
         "showscale": false,
         "type": "choropleth",
         "z": [
          1
         ]
        },
        {
         "colorscale": [
          [
           0,
           "#FF97FF"
          ],
          [
           1,
           "#FF97FF"
          ]
         ],
         "geo": "geo",
         "hovertemplate": "Country=%{location}<extra></extra>",
         "locationmode": "country names",
         "locations": [
          "Sao Tome And Principe"
         ],
         "name": "Sao Tome And Principe",
         "showlegend": true,
         "showscale": false,
         "type": "choropleth",
         "z": [
          1
         ]
        },
        {
         "colorscale": [
          [
           0,
           "#FECB52"
          ],
          [
           1,
           "#FECB52"
          ]
         ],
         "geo": "geo",
         "hovertemplate": "Country=%{location}<extra></extra>",
         "locationmode": "country names",
         "locations": [
          "Senegal"
         ],
         "name": "Senegal",
         "showlegend": true,
         "showscale": false,
         "type": "choropleth",
         "z": [
          1
         ]
        },
        {
         "colorscale": [
          [
           0,
           "#636efa"
          ],
          [
           1,
           "#636efa"
          ]
         ],
         "geo": "geo",
         "hovertemplate": "Country=%{location}<extra></extra>",
         "locationmode": "country names",
         "locations": [
          "Sierra Leone"
         ],
         "name": "Sierra Leone",
         "showlegend": true,
         "showscale": false,
         "type": "choropleth",
         "z": [
          1
         ]
        },
        {
         "colorscale": [
          [
           0,
           "#EF553B"
          ],
          [
           1,
           "#EF553B"
          ]
         ],
         "geo": "geo",
         "hovertemplate": "Country=%{location}<extra></extra>",
         "locationmode": "country names",
         "locations": [
          "Sudan"
         ],
         "name": "Sudan",
         "showlegend": true,
         "showscale": false,
         "type": "choropleth",
         "z": [
          1
         ]
        },
        {
         "colorscale": [
          [
           0,
           "#00cc96"
          ],
          [
           1,
           "#00cc96"
          ]
         ],
         "geo": "geo",
         "hovertemplate": "Country=%{location}<extra></extra>",
         "locationmode": "country names",
         "locations": [
          "Tajikistan"
         ],
         "name": "Tajikistan",
         "showlegend": true,
         "showscale": false,
         "type": "choropleth",
         "z": [
          1
         ]
        },
        {
         "colorscale": [
          [
           0,
           "#ab63fa"
          ],
          [
           1,
           "#ab63fa"
          ]
         ],
         "geo": "geo",
         "hovertemplate": "Country=%{location}<extra></extra>",
         "locationmode": "country names",
         "locations": [
          "Chad"
         ],
         "name": "Chad",
         "showlegend": true,
         "showscale": false,
         "type": "choropleth",
         "z": [
          1
         ]
        },
        {
         "colorscale": [
          [
           0,
           "#FFA15A"
          ],
          [
           1,
           "#FFA15A"
          ]
         ],
         "geo": "geo",
         "hovertemplate": "Country=%{location}<extra></extra>",
         "locationmode": "country names",
         "locations": [
          "Timor-Leste"
         ],
         "name": "Timor-Leste",
         "showlegend": true,
         "showscale": false,
         "type": "choropleth",
         "z": [
          1
         ]
        },
        {
         "colorscale": [
          [
           0,
           "#19d3f3"
          ],
          [
           1,
           "#19d3f3"
          ]
         ],
         "geo": "geo",
         "hovertemplate": "Country=%{location}<extra></extra>",
         "locationmode": "country names",
         "locations": [
          "Togo"
         ],
         "name": "Togo",
         "showlegend": true,
         "showscale": false,
         "type": "choropleth",
         "z": [
          1
         ]
        },
        {
         "colorscale": [
          [
           0,
           "#FF6692"
          ],
          [
           1,
           "#FF6692"
          ]
         ],
         "geo": "geo",
         "hovertemplate": "Country=%{location}<extra></extra>",
         "locationmode": "country names",
         "locations": [
          "Yemen"
         ],
         "name": "Yemen",
         "showlegend": true,
         "showscale": false,
         "type": "choropleth",
         "z": [
          1
         ]
        },
        {
         "colorscale": [
          [
           0,
           "#B6E880"
          ],
          [
           1,
           "#B6E880"
          ]
         ],
         "geo": "geo",
         "hovertemplate": "Country=%{location}<extra></extra>",
         "locationmode": "country names",
         "locations": [
          "Zambia"
         ],
         "name": "Zambia",
         "showlegend": true,
         "showscale": false,
         "type": "choropleth",
         "z": [
          1
         ]
        },
        {
         "colorscale": [
          [
           0,
           "#FF97FF"
          ],
          [
           1,
           "#FF97FF"
          ]
         ],
         "geo": "geo",
         "hovertemplate": "Country=%{location}<extra></extra>",
         "locationmode": "country names",
         "locations": [
          "Zimbabwe"
         ],
         "name": "Zimbabwe",
         "showlegend": true,
         "showscale": false,
         "type": "choropleth",
         "z": [
          1
         ]
        }
       ],
       "layout": {
        "geo": {
         "center": {},
         "domain": {
          "x": [
           0,
           1
          ],
          "y": [
           0,
           1
          ]
         },
         "scope": "world"
        },
        "legend": {
         "title": {
          "text": "Country"
         },
         "tracegroupgap": 0
        },
        "template": {
         "data": {
          "bar": [
           {
            "error_x": {
             "color": "#2a3f5f"
            },
            "error_y": {
             "color": "#2a3f5f"
            },
            "marker": {
             "line": {
              "color": "#E5ECF6",
              "width": 0.5
             },
             "pattern": {
              "fillmode": "overlay",
              "size": 10,
              "solidity": 0.2
             }
            },
            "type": "bar"
           }
          ],
          "barpolar": [
           {
            "marker": {
             "line": {
              "color": "#E5ECF6",
              "width": 0.5
             },
             "pattern": {
              "fillmode": "overlay",
              "size": 10,
              "solidity": 0.2
             }
            },
            "type": "barpolar"
           }
          ],
          "carpet": [
           {
            "aaxis": {
             "endlinecolor": "#2a3f5f",
             "gridcolor": "white",
             "linecolor": "white",
             "minorgridcolor": "white",
             "startlinecolor": "#2a3f5f"
            },
            "baxis": {
             "endlinecolor": "#2a3f5f",
             "gridcolor": "white",
             "linecolor": "white",
             "minorgridcolor": "white",
             "startlinecolor": "#2a3f5f"
            },
            "type": "carpet"
           }
          ],
          "choropleth": [
           {
            "colorbar": {
             "outlinewidth": 0,
             "ticks": ""
            },
            "type": "choropleth"
           }
          ],
          "contour": [
           {
            "colorbar": {
             "outlinewidth": 0,
             "ticks": ""
            },
            "colorscale": [
             [
              0,
              "#0d0887"
             ],
             [
              0.1111111111111111,
              "#46039f"
             ],
             [
              0.2222222222222222,
              "#7201a8"
             ],
             [
              0.3333333333333333,
              "#9c179e"
             ],
             [
              0.4444444444444444,
              "#bd3786"
             ],
             [
              0.5555555555555556,
              "#d8576b"
             ],
             [
              0.6666666666666666,
              "#ed7953"
             ],
             [
              0.7777777777777778,
              "#fb9f3a"
             ],
             [
              0.8888888888888888,
              "#fdca26"
             ],
             [
              1,
              "#f0f921"
             ]
            ],
            "type": "contour"
           }
          ],
          "contourcarpet": [
           {
            "colorbar": {
             "outlinewidth": 0,
             "ticks": ""
            },
            "type": "contourcarpet"
           }
          ],
          "heatmap": [
           {
            "colorbar": {
             "outlinewidth": 0,
             "ticks": ""
            },
            "colorscale": [
             [
              0,
              "#0d0887"
             ],
             [
              0.1111111111111111,
              "#46039f"
             ],
             [
              0.2222222222222222,
              "#7201a8"
             ],
             [
              0.3333333333333333,
              "#9c179e"
             ],
             [
              0.4444444444444444,
              "#bd3786"
             ],
             [
              0.5555555555555556,
              "#d8576b"
             ],
             [
              0.6666666666666666,
              "#ed7953"
             ],
             [
              0.7777777777777778,
              "#fb9f3a"
             ],
             [
              0.8888888888888888,
              "#fdca26"
             ],
             [
              1,
              "#f0f921"
             ]
            ],
            "type": "heatmap"
           }
          ],
          "heatmapgl": [
           {
            "colorbar": {
             "outlinewidth": 0,
             "ticks": ""
            },
            "colorscale": [
             [
              0,
              "#0d0887"
             ],
             [
              0.1111111111111111,
              "#46039f"
             ],
             [
              0.2222222222222222,
              "#7201a8"
             ],
             [
              0.3333333333333333,
              "#9c179e"
             ],
             [
              0.4444444444444444,
              "#bd3786"
             ],
             [
              0.5555555555555556,
              "#d8576b"
             ],
             [
              0.6666666666666666,
              "#ed7953"
             ],
             [
              0.7777777777777778,
              "#fb9f3a"
             ],
             [
              0.8888888888888888,
              "#fdca26"
             ],
             [
              1,
              "#f0f921"
             ]
            ],
            "type": "heatmapgl"
           }
          ],
          "histogram": [
           {
            "marker": {
             "pattern": {
              "fillmode": "overlay",
              "size": 10,
              "solidity": 0.2
             }
            },
            "type": "histogram"
           }
          ],
          "histogram2d": [
           {
            "colorbar": {
             "outlinewidth": 0,
             "ticks": ""
            },
            "colorscale": [
             [
              0,
              "#0d0887"
             ],
             [
              0.1111111111111111,
              "#46039f"
             ],
             [
              0.2222222222222222,
              "#7201a8"
             ],
             [
              0.3333333333333333,
              "#9c179e"
             ],
             [
              0.4444444444444444,
              "#bd3786"
             ],
             [
              0.5555555555555556,
              "#d8576b"
             ],
             [
              0.6666666666666666,
              "#ed7953"
             ],
             [
              0.7777777777777778,
              "#fb9f3a"
             ],
             [
              0.8888888888888888,
              "#fdca26"
             ],
             [
              1,
              "#f0f921"
             ]
            ],
            "type": "histogram2d"
           }
          ],
          "histogram2dcontour": [
           {
            "colorbar": {
             "outlinewidth": 0,
             "ticks": ""
            },
            "colorscale": [
             [
              0,
              "#0d0887"
             ],
             [
              0.1111111111111111,
              "#46039f"
             ],
             [
              0.2222222222222222,
              "#7201a8"
             ],
             [
              0.3333333333333333,
              "#9c179e"
             ],
             [
              0.4444444444444444,
              "#bd3786"
             ],
             [
              0.5555555555555556,
              "#d8576b"
             ],
             [
              0.6666666666666666,
              "#ed7953"
             ],
             [
              0.7777777777777778,
              "#fb9f3a"
             ],
             [
              0.8888888888888888,
              "#fdca26"
             ],
             [
              1,
              "#f0f921"
             ]
            ],
            "type": "histogram2dcontour"
           }
          ],
          "mesh3d": [
           {
            "colorbar": {
             "outlinewidth": 0,
             "ticks": ""
            },
            "type": "mesh3d"
           }
          ],
          "parcoords": [
           {
            "line": {
             "colorbar": {
              "outlinewidth": 0,
              "ticks": ""
             }
            },
            "type": "parcoords"
           }
          ],
          "pie": [
           {
            "automargin": true,
            "type": "pie"
           }
          ],
          "scatter": [
           {
            "fillpattern": {
             "fillmode": "overlay",
             "size": 10,
             "solidity": 0.2
            },
            "type": "scatter"
           }
          ],
          "scatter3d": [
           {
            "line": {
             "colorbar": {
              "outlinewidth": 0,
              "ticks": ""
             }
            },
            "marker": {
             "colorbar": {
              "outlinewidth": 0,
              "ticks": ""
             }
            },
            "type": "scatter3d"
           }
          ],
          "scattercarpet": [
           {
            "marker": {
             "colorbar": {
              "outlinewidth": 0,
              "ticks": ""
             }
            },
            "type": "scattercarpet"
           }
          ],
          "scattergeo": [
           {
            "marker": {
             "colorbar": {
              "outlinewidth": 0,
              "ticks": ""
             }
            },
            "type": "scattergeo"
           }
          ],
          "scattergl": [
           {
            "marker": {
             "colorbar": {
              "outlinewidth": 0,
              "ticks": ""
             }
            },
            "type": "scattergl"
           }
          ],
          "scattermapbox": [
           {
            "marker": {
             "colorbar": {
              "outlinewidth": 0,
              "ticks": ""
             }
            },
            "type": "scattermapbox"
           }
          ],
          "scatterpolar": [
           {
            "marker": {
             "colorbar": {
              "outlinewidth": 0,
              "ticks": ""
             }
            },
            "type": "scatterpolar"
           }
          ],
          "scatterpolargl": [
           {
            "marker": {
             "colorbar": {
              "outlinewidth": 0,
              "ticks": ""
             }
            },
            "type": "scatterpolargl"
           }
          ],
          "scatterternary": [
           {
            "marker": {
             "colorbar": {
              "outlinewidth": 0,
              "ticks": ""
             }
            },
            "type": "scatterternary"
           }
          ],
          "surface": [
           {
            "colorbar": {
             "outlinewidth": 0,
             "ticks": ""
            },
            "colorscale": [
             [
              0,
              "#0d0887"
             ],
             [
              0.1111111111111111,
              "#46039f"
             ],
             [
              0.2222222222222222,
              "#7201a8"
             ],
             [
              0.3333333333333333,
              "#9c179e"
             ],
             [
              0.4444444444444444,
              "#bd3786"
             ],
             [
              0.5555555555555556,
              "#d8576b"
             ],
             [
              0.6666666666666666,
              "#ed7953"
             ],
             [
              0.7777777777777778,
              "#fb9f3a"
             ],
             [
              0.8888888888888888,
              "#fdca26"
             ],
             [
              1,
              "#f0f921"
             ]
            ],
            "type": "surface"
           }
          ],
          "table": [
           {
            "cells": {
             "fill": {
              "color": "#EBF0F8"
             },
             "line": {
              "color": "white"
             }
            },
            "header": {
             "fill": {
              "color": "#C8D4E3"
             },
             "line": {
              "color": "white"
             }
            },
            "type": "table"
           }
          ]
         },
         "layout": {
          "annotationdefaults": {
           "arrowcolor": "#2a3f5f",
           "arrowhead": 0,
           "arrowwidth": 1
          },
          "autotypenumbers": "strict",
          "coloraxis": {
           "colorbar": {
            "outlinewidth": 0,
            "ticks": ""
           }
          },
          "colorscale": {
           "diverging": [
            [
             0,
             "#8e0152"
            ],
            [
             0.1,
             "#c51b7d"
            ],
            [
             0.2,
             "#de77ae"
            ],
            [
             0.3,
             "#f1b6da"
            ],
            [
             0.4,
             "#fde0ef"
            ],
            [
             0.5,
             "#f7f7f7"
            ],
            [
             0.6,
             "#e6f5d0"
            ],
            [
             0.7,
             "#b8e186"
            ],
            [
             0.8,
             "#7fbc41"
            ],
            [
             0.9,
             "#4d9221"
            ],
            [
             1,
             "#276419"
            ]
           ],
           "sequential": [
            [
             0,
             "#0d0887"
            ],
            [
             0.1111111111111111,
             "#46039f"
            ],
            [
             0.2222222222222222,
             "#7201a8"
            ],
            [
             0.3333333333333333,
             "#9c179e"
            ],
            [
             0.4444444444444444,
             "#bd3786"
            ],
            [
             0.5555555555555556,
             "#d8576b"
            ],
            [
             0.6666666666666666,
             "#ed7953"
            ],
            [
             0.7777777777777778,
             "#fb9f3a"
            ],
            [
             0.8888888888888888,
             "#fdca26"
            ],
            [
             1,
             "#f0f921"
            ]
           ],
           "sequentialminus": [
            [
             0,
             "#0d0887"
            ],
            [
             0.1111111111111111,
             "#46039f"
            ],
            [
             0.2222222222222222,
             "#7201a8"
            ],
            [
             0.3333333333333333,
             "#9c179e"
            ],
            [
             0.4444444444444444,
             "#bd3786"
            ],
            [
             0.5555555555555556,
             "#d8576b"
            ],
            [
             0.6666666666666666,
             "#ed7953"
            ],
            [
             0.7777777777777778,
             "#fb9f3a"
            ],
            [
             0.8888888888888888,
             "#fdca26"
            ],
            [
             1,
             "#f0f921"
            ]
           ]
          },
          "colorway": [
           "#636efa",
           "#EF553B",
           "#00cc96",
           "#ab63fa",
           "#FFA15A",
           "#19d3f3",
           "#FF6692",
           "#B6E880",
           "#FF97FF",
           "#FECB52"
          ],
          "font": {
           "color": "#2a3f5f"
          },
          "geo": {
           "bgcolor": "white",
           "lakecolor": "white",
           "landcolor": "#E5ECF6",
           "showlakes": true,
           "showland": true,
           "subunitcolor": "white"
          },
          "hoverlabel": {
           "align": "left"
          },
          "hovermode": "closest",
          "mapbox": {
           "style": "light"
          },
          "paper_bgcolor": "white",
          "plot_bgcolor": "#E5ECF6",
          "polar": {
           "angularaxis": {
            "gridcolor": "white",
            "linecolor": "white",
            "ticks": ""
           },
           "bgcolor": "#E5ECF6",
           "radialaxis": {
            "gridcolor": "white",
            "linecolor": "white",
            "ticks": ""
           }
          },
          "scene": {
           "xaxis": {
            "backgroundcolor": "#E5ECF6",
            "gridcolor": "white",
            "gridwidth": 2,
            "linecolor": "white",
            "showbackground": true,
            "ticks": "",
            "zerolinecolor": "white"
           },
           "yaxis": {
            "backgroundcolor": "#E5ECF6",
            "gridcolor": "white",
            "gridwidth": 2,
            "linecolor": "white",
            "showbackground": true,
            "ticks": "",
            "zerolinecolor": "white"
           },
           "zaxis": {
            "backgroundcolor": "#E5ECF6",
            "gridcolor": "white",
            "gridwidth": 2,
            "linecolor": "white",
            "showbackground": true,
            "ticks": "",
            "zerolinecolor": "white"
           }
          },
          "shapedefaults": {
           "line": {
            "color": "#2a3f5f"
           }
          },
          "ternary": {
           "aaxis": {
            "gridcolor": "white",
            "linecolor": "white",
            "ticks": ""
           },
           "baxis": {
            "gridcolor": "white",
            "linecolor": "white",
            "ticks": ""
           },
           "bgcolor": "#E5ECF6",
           "caxis": {
            "gridcolor": "white",
            "linecolor": "white",
            "ticks": ""
           }
          },
          "title": {
           "x": 0.05
          },
          "xaxis": {
           "automargin": true,
           "gridcolor": "white",
           "linecolor": "white",
           "ticks": "",
           "title": {
            "standoff": 15
           },
           "zerolinecolor": "white",
           "zerolinewidth": 2
          },
          "yaxis": {
           "automargin": true,
           "gridcolor": "white",
           "linecolor": "white",
           "ticks": "",
           "title": {
            "standoff": 15
           },
           "zerolinecolor": "white",
           "zerolinewidth": 2
          }
         }
        },
        "title": {
         "font": {
          "color": "red"
         },
         "text": "Countries with low food availability",
         "x": 0.5
        }
       }
      }
     },
     "metadata": {},
     "output_type": "display_data"
    }
   ],
   "source": [
    "# Creation of the Rich Country Map\n",
    "f = px.choropleth(top_pays_riches_map, \n",
    "                locationmode = \"country names\",\n",
    "                locations = top_pays_riches_map[\"Country\"],\n",
    "                scope = \"world\",\n",
    "                color = top_pays_riches_map[\"Country\"],\n",
    "                title = \"Countries with high food availability\")\n",
    "\n",
    "f.update_layout(title_x=0.5, title_font=dict(color=\"blue\"))\n",
    "f.show()\n",
    "\n",
    "# Creation of the Poor Country Map\n",
    "f = px.choropleth(top_pays_pauvres_map, \n",
    "                locationmode = \"country names\",\n",
    "                locations = top_pays_pauvres_map[\"Country\"],\n",
    "                scope = \"world\",\n",
    "                color = top_pays_pauvres_map[\"Country\"],\n",
    "                title = \"Countries with low food availability\")\n",
    "\n",
    "f.update_layout(title_x=0.5, title_font=dict(color=\"red\"))\n",
    "f.show()"
   ]
  },
  {
   "cell_type": "code",
   "execution_count": 66,
   "id": "c38b9500",
   "metadata": {},
   "outputs": [
    {
     "data": {
      "text/html": [
       "<div>\n",
       "<style scoped>\n",
       "    .dataframe tbody tr th:only-of-type {\n",
       "        vertical-align: middle;\n",
       "    }\n",
       "\n",
       "    .dataframe tbody tr th {\n",
       "        vertical-align: top;\n",
       "    }\n",
       "\n",
       "    .dataframe thead th {\n",
       "        text-align: right;\n",
       "    }\n",
       "</style>\n",
       "<table border=\"1\" class=\"dataframe\">\n",
       "  <thead>\n",
       "    <tr style=\"text-align: right;\">\n",
       "      <th></th>\n",
       "      <th>Zone</th>\n",
       "      <th>geometry</th>\n",
       "      <th>Continent</th>\n",
       "      <th>Country</th>\n",
       "      <th>Kcal/personne/jour</th>\n",
       "    </tr>\n",
       "  </thead>\n",
       "  <tbody>\n",
       "    <tr>\n",
       "      <th>0</th>\n",
       "      <td>Afghanistan</td>\n",
       "      <td>POINT (34.53280 69.16580)</td>\n",
       "      <td>Asia</td>\n",
       "      <td>Afghanistan</td>\n",
       "      <td>2087.0</td>\n",
       "    </tr>\n",
       "    <tr>\n",
       "      <th>1</th>\n",
       "      <td>Afrique du Sud</td>\n",
       "      <td>POINT (-33.92500 18.42500)</td>\n",
       "      <td>Africa</td>\n",
       "      <td>South Africa</td>\n",
       "      <td>3020.0</td>\n",
       "    </tr>\n",
       "    <tr>\n",
       "      <th>2</th>\n",
       "      <td>Albanie</td>\n",
       "      <td>POINT (41.33000 19.82000)</td>\n",
       "      <td>Europe</td>\n",
       "      <td>Albania</td>\n",
       "      <td>3188.0</td>\n",
       "    </tr>\n",
       "    <tr>\n",
       "      <th>3</th>\n",
       "      <td>Algérie</td>\n",
       "      <td>POINT (36.77640 3.05860)</td>\n",
       "      <td>Africa</td>\n",
       "      <td>Algeria</td>\n",
       "      <td>3293.0</td>\n",
       "    </tr>\n",
       "    <tr>\n",
       "      <th>4</th>\n",
       "      <td>Allemagne</td>\n",
       "      <td>POINT (52.51670 13.38330)</td>\n",
       "      <td>Europe</td>\n",
       "      <td>Germany</td>\n",
       "      <td>3503.0</td>\n",
       "    </tr>\n",
       "  </tbody>\n",
       "</table>\n",
       "</div>"
      ],
      "text/plain": [
       "             Zone                    geometry Continent       Country  \\\n",
       "0     Afghanistan   POINT (34.53280 69.16580)      Asia   Afghanistan   \n",
       "1  Afrique du Sud  POINT (-33.92500 18.42500)    Africa  South Africa   \n",
       "2         Albanie   POINT (41.33000 19.82000)    Europe       Albania   \n",
       "3         Algérie    POINT (36.77640 3.05860)    Africa       Algeria   \n",
       "4       Allemagne   POINT (52.51670 13.38330)    Europe       Germany   \n",
       "\n",
       "   Kcal/personne/jour  \n",
       "0              2087.0  \n",
       "1              3020.0  \n",
       "2              3188.0  \n",
       "3              3293.0  \n",
       "4              3503.0  "
      ]
     },
     "execution_count": 66,
     "metadata": {},
     "output_type": "execute_result"
    }
   ],
   "source": [
    "# Merge between countries and data_gps\n",
    "pays_map = pd.merge(data_gps[[\"Zone\", \"geometry\", \"Continent\", \"Country\"]],\n",
    "                           data_dispo_pop_hab[[\"Zone\", \"Disponibilité alimentaire (Kcal/personne/jour)\"]], how=\"inner\", on=\"Zone\")\n",
    "pays_map.sort_values(\"Disponibilité alimentaire (Kcal/personne/jour)\", ascending=False)\n",
    "# Rename the column to display a shorter legend\n",
    "pays_map.rename(columns={\"Disponibilité alimentaire (Kcal/personne/jour)\" : \"Kcal/personne/jour\"}, inplace=True)\n",
    "pays_map.head()"
   ]
  },
  {
   "cell_type": "code",
   "execution_count": 67,
   "id": "81caa24c",
   "metadata": {},
   "outputs": [
    {
     "data": {
      "application/vnd.plotly.v1+json": {
       "config": {
        "plotlyServerURL": "https://plot.ly"
       },
       "data": [
        {
         "coloraxis": "coloraxis",
         "geo": "geo",
         "hovertemplate": "Country=%{location}<br>Kcal/personne/jour=%{z}<extra></extra>",
         "locationmode": "country names",
         "locations": [
          "Afghanistan",
          "South Africa",
          "Albania",
          "Algeria",
          "Germany",
          "Angola",
          "Antigua And Barbuda",
          "Saudi Arabia",
          "Argentina",
          "Armenia",
          "Australia",
          "Austria",
          "Azerbaijan",
          "Bangladesh",
          "Barbados",
          "Belgium",
          "Belize",
          "Benin",
          "Bermuda",
          "Bolivia",
          "Bosnia And Herzegovina",
          "Botswana",
          "Brazil",
          "Brunei",
          "Bulgaria",
          "Burkina Faso",
          "Cabo Verde",
          "Cambodia",
          "Cameroon",
          "Canada",
          "Chile",
          "Hong Kong",
          "Macau",
          "China",
          "Cyprus",
          "Colombia",
          "Congo (Kinshasa)",
          "Costa Rica",
          "Côte d'Ivoire",
          "Croatia",
          "Cuba",
          "Denmark",
          "Djibouti",
          "Dominica",
          "Egypt",
          "El Salvador",
          "United Arab Emirates",
          "Ecuador",
          "Spain",
          "Estonia",
          "United States",
          "Ethiopia",
          "Russia",
          "Fiji",
          "Finland",
          "France",
          "Gabon",
          "Georgia",
          "Ghana",
          "Greece",
          "Grenada",
          "Guatemala",
          "Guinea",
          "Guinea-Bissau",
          "Guyana",
          "Haiti",
          "Honduras",
          "Hungary",
          "Solomon Islands",
          "India",
          "Indonesia",
          "Iran",
          "Iraq",
          "Ireland",
          "Iceland",
          "Israel",
          "Italy",
          "Jamaica",
          "Japan",
          "Jordan",
          "Kazakhstan",
          "Kenya",
          "Kyrgyzstan",
          "Kiribati",
          "Kuwait",
          "Lesotho",
          "Latvia",
          "Lebanon",
          "Liberia",
          "Lithuania",
          "Luxembourg",
          "Macedonia",
          "Madagascar",
          "Malaysia",
          "Malawi",
          "Maldives",
          "Mali",
          "Malta",
          "Morocco",
          "Mauritius",
          "Mauritania",
          "Mexico",
          "Mongolia",
          "Montenegro",
          "Mozambique",
          "Myanmar",
          "Namibia",
          "Nepal",
          "Nicaragua",
          "Niger",
          "Nigeria",
          "Norway",
          "New Caledonia",
          "New Zealand",
          "Oman",
          "Pakistan",
          "Panama",
          "Paraguay",
          "Netherlands",
          "Peru",
          "Philippines",
          "Poland",
          "French Polynesia",
          "Portugal",
          "Central African Republic",
          "South Korea",
          "Moldova",
          "Laos",
          "Dominican Republic",
          "North Korea",
          "Tanzania",
          "Romania",
          "Rwanda",
          "Samoa",
          "Sao Tome And Principe",
          "Senegal",
          "Serbia",
          "Sierra Leone",
          "Slovakia",
          "Slovenia",
          "Sudan",
          "Sri Lanka",
          "Sweden",
          "Switzerland",
          "Suriname",
          "Tajikistan",
          "Taiwan",
          "Chad",
          "Thailand",
          "Timor-Leste",
          "Togo",
          "Trinidad And Tobago",
          "Tunisia",
          "Turkmenistan",
          "Turkey",
          "Ukraine",
          "Uruguay",
          "Vanuatu",
          "Venezuela",
          "Vietnam",
          "Yemen",
          "Zambia",
          "Zimbabwe"
         ],
         "name": "",
         "type": "choropleth",
         "z": [
          2087,
          3020,
          3188,
          3293,
          3503,
          2474,
          2416,
          3255,
          3226,
          2924,
          3278,
          3770,
          3113,
          2453,
          2936,
          3737,
          2746,
          2619,
          2668,
          2250,
          3156,
          2325,
          3262,
          2985,
          2828,
          2717,
          2605,
          2473,
          2669,
          3499,
          2980,
          3286,
          2915,
          3112,
          2646,
          2800,
          2206,
          2846,
          2797,
          3056,
          3402,
          3366,
          2609,
          2930,
          3518,
          2576,
          3275,
          2346,
          3173,
          3248,
          3682,
          2129,
          3360,
          2943,
          3366,
          3482,
          2826,
          2902,
          3014,
          3394,
          2442,
          2416,
          2567,
          2288,
          2762,
          2089,
          2639,
          3034,
          2383,
          2454,
          2776,
          3089,
          2542,
          3602,
          3381,
          3610,
          3578,
          2742,
          2726,
          3099,
          3262,
          2205,
          2817,
          3042,
          3499,
          2528,
          3172,
          3059,
          2206,
          3414,
          3540,
          2946,
          2056,
          2914,
          2364,
          2733,
          2887,
          3374,
          3402,
          3067,
          2875,
          3068,
          2509,
          3490,
          2282,
          2574,
          2166,
          2672,
          2638,
          2549,
          2700,
          3483,
          2855,
          3136,
          3140,
          2438,
          2731,
          2584,
          3222,
          2697,
          2568,
          3450,
          2923,
          3472,
          1879,
          3333,
          2715,
          2455,
          2611,
          2093,
          2204,
          3359,
          2224,
          2956,
          2398,
          2453,
          2725,
          2401,
          2943,
          3168,
          2335,
          2537,
          3180,
          3393,
          2752,
          2199,
          2998,
          2109,
          2785,
          2129,
          2448,
          3049,
          3349,
          2836,
          3708,
          3138,
          3052,
          2833,
          2633,
          2744,
          2217,
          1924,
          2113
         ]
        }
       ],
       "layout": {
        "coloraxis": {
         "colorbar": {
          "title": {
           "text": "Kcal/personne/jour"
          }
         },
         "colorscale": [
          [
           0,
           "#0d0887"
          ],
          [
           0.1111111111111111,
           "#46039f"
          ],
          [
           0.2222222222222222,
           "#7201a8"
          ],
          [
           0.3333333333333333,
           "#9c179e"
          ],
          [
           0.4444444444444444,
           "#bd3786"
          ],
          [
           0.5555555555555556,
           "#d8576b"
          ],
          [
           0.6666666666666666,
           "#ed7953"
          ],
          [
           0.7777777777777778,
           "#fb9f3a"
          ],
          [
           0.8888888888888888,
           "#fdca26"
          ],
          [
           1,
           "#f0f921"
          ]
         ]
        },
        "geo": {
         "center": {},
         "domain": {
          "x": [
           0,
           1
          ],
          "y": [
           0,
           1
          ]
         },
         "scope": "world"
        },
        "height": 700,
        "legend": {
         "tracegroupgap": 0
        },
        "template": {
         "data": {
          "bar": [
           {
            "error_x": {
             "color": "#2a3f5f"
            },
            "error_y": {
             "color": "#2a3f5f"
            },
            "marker": {
             "line": {
              "color": "#E5ECF6",
              "width": 0.5
             },
             "pattern": {
              "fillmode": "overlay",
              "size": 10,
              "solidity": 0.2
             }
            },
            "type": "bar"
           }
          ],
          "barpolar": [
           {
            "marker": {
             "line": {
              "color": "#E5ECF6",
              "width": 0.5
             },
             "pattern": {
              "fillmode": "overlay",
              "size": 10,
              "solidity": 0.2
             }
            },
            "type": "barpolar"
           }
          ],
          "carpet": [
           {
            "aaxis": {
             "endlinecolor": "#2a3f5f",
             "gridcolor": "white",
             "linecolor": "white",
             "minorgridcolor": "white",
             "startlinecolor": "#2a3f5f"
            },
            "baxis": {
             "endlinecolor": "#2a3f5f",
             "gridcolor": "white",
             "linecolor": "white",
             "minorgridcolor": "white",
             "startlinecolor": "#2a3f5f"
            },
            "type": "carpet"
           }
          ],
          "choropleth": [
           {
            "colorbar": {
             "outlinewidth": 0,
             "ticks": ""
            },
            "type": "choropleth"
           }
          ],
          "contour": [
           {
            "colorbar": {
             "outlinewidth": 0,
             "ticks": ""
            },
            "colorscale": [
             [
              0,
              "#0d0887"
             ],
             [
              0.1111111111111111,
              "#46039f"
             ],
             [
              0.2222222222222222,
              "#7201a8"
             ],
             [
              0.3333333333333333,
              "#9c179e"
             ],
             [
              0.4444444444444444,
              "#bd3786"
             ],
             [
              0.5555555555555556,
              "#d8576b"
             ],
             [
              0.6666666666666666,
              "#ed7953"
             ],
             [
              0.7777777777777778,
              "#fb9f3a"
             ],
             [
              0.8888888888888888,
              "#fdca26"
             ],
             [
              1,
              "#f0f921"
             ]
            ],
            "type": "contour"
           }
          ],
          "contourcarpet": [
           {
            "colorbar": {
             "outlinewidth": 0,
             "ticks": ""
            },
            "type": "contourcarpet"
           }
          ],
          "heatmap": [
           {
            "colorbar": {
             "outlinewidth": 0,
             "ticks": ""
            },
            "colorscale": [
             [
              0,
              "#0d0887"
             ],
             [
              0.1111111111111111,
              "#46039f"
             ],
             [
              0.2222222222222222,
              "#7201a8"
             ],
             [
              0.3333333333333333,
              "#9c179e"
             ],
             [
              0.4444444444444444,
              "#bd3786"
             ],
             [
              0.5555555555555556,
              "#d8576b"
             ],
             [
              0.6666666666666666,
              "#ed7953"
             ],
             [
              0.7777777777777778,
              "#fb9f3a"
             ],
             [
              0.8888888888888888,
              "#fdca26"
             ],
             [
              1,
              "#f0f921"
             ]
            ],
            "type": "heatmap"
           }
          ],
          "heatmapgl": [
           {
            "colorbar": {
             "outlinewidth": 0,
             "ticks": ""
            },
            "colorscale": [
             [
              0,
              "#0d0887"
             ],
             [
              0.1111111111111111,
              "#46039f"
             ],
             [
              0.2222222222222222,
              "#7201a8"
             ],
             [
              0.3333333333333333,
              "#9c179e"
             ],
             [
              0.4444444444444444,
              "#bd3786"
             ],
             [
              0.5555555555555556,
              "#d8576b"
             ],
             [
              0.6666666666666666,
              "#ed7953"
             ],
             [
              0.7777777777777778,
              "#fb9f3a"
             ],
             [
              0.8888888888888888,
              "#fdca26"
             ],
             [
              1,
              "#f0f921"
             ]
            ],
            "type": "heatmapgl"
           }
          ],
          "histogram": [
           {
            "marker": {
             "pattern": {
              "fillmode": "overlay",
              "size": 10,
              "solidity": 0.2
             }
            },
            "type": "histogram"
           }
          ],
          "histogram2d": [
           {
            "colorbar": {
             "outlinewidth": 0,
             "ticks": ""
            },
            "colorscale": [
             [
              0,
              "#0d0887"
             ],
             [
              0.1111111111111111,
              "#46039f"
             ],
             [
              0.2222222222222222,
              "#7201a8"
             ],
             [
              0.3333333333333333,
              "#9c179e"
             ],
             [
              0.4444444444444444,
              "#bd3786"
             ],
             [
              0.5555555555555556,
              "#d8576b"
             ],
             [
              0.6666666666666666,
              "#ed7953"
             ],
             [
              0.7777777777777778,
              "#fb9f3a"
             ],
             [
              0.8888888888888888,
              "#fdca26"
             ],
             [
              1,
              "#f0f921"
             ]
            ],
            "type": "histogram2d"
           }
          ],
          "histogram2dcontour": [
           {
            "colorbar": {
             "outlinewidth": 0,
             "ticks": ""
            },
            "colorscale": [
             [
              0,
              "#0d0887"
             ],
             [
              0.1111111111111111,
              "#46039f"
             ],
             [
              0.2222222222222222,
              "#7201a8"
             ],
             [
              0.3333333333333333,
              "#9c179e"
             ],
             [
              0.4444444444444444,
              "#bd3786"
             ],
             [
              0.5555555555555556,
              "#d8576b"
             ],
             [
              0.6666666666666666,
              "#ed7953"
             ],
             [
              0.7777777777777778,
              "#fb9f3a"
             ],
             [
              0.8888888888888888,
              "#fdca26"
             ],
             [
              1,
              "#f0f921"
             ]
            ],
            "type": "histogram2dcontour"
           }
          ],
          "mesh3d": [
           {
            "colorbar": {
             "outlinewidth": 0,
             "ticks": ""
            },
            "type": "mesh3d"
           }
          ],
          "parcoords": [
           {
            "line": {
             "colorbar": {
              "outlinewidth": 0,
              "ticks": ""
             }
            },
            "type": "parcoords"
           }
          ],
          "pie": [
           {
            "automargin": true,
            "type": "pie"
           }
          ],
          "scatter": [
           {
            "fillpattern": {
             "fillmode": "overlay",
             "size": 10,
             "solidity": 0.2
            },
            "type": "scatter"
           }
          ],
          "scatter3d": [
           {
            "line": {
             "colorbar": {
              "outlinewidth": 0,
              "ticks": ""
             }
            },
            "marker": {
             "colorbar": {
              "outlinewidth": 0,
              "ticks": ""
             }
            },
            "type": "scatter3d"
           }
          ],
          "scattercarpet": [
           {
            "marker": {
             "colorbar": {
              "outlinewidth": 0,
              "ticks": ""
             }
            },
            "type": "scattercarpet"
           }
          ],
          "scattergeo": [
           {
            "marker": {
             "colorbar": {
              "outlinewidth": 0,
              "ticks": ""
             }
            },
            "type": "scattergeo"
           }
          ],
          "scattergl": [
           {
            "marker": {
             "colorbar": {
              "outlinewidth": 0,
              "ticks": ""
             }
            },
            "type": "scattergl"
           }
          ],
          "scattermapbox": [
           {
            "marker": {
             "colorbar": {
              "outlinewidth": 0,
              "ticks": ""
             }
            },
            "type": "scattermapbox"
           }
          ],
          "scatterpolar": [
           {
            "marker": {
             "colorbar": {
              "outlinewidth": 0,
              "ticks": ""
             }
            },
            "type": "scatterpolar"
           }
          ],
          "scatterpolargl": [
           {
            "marker": {
             "colorbar": {
              "outlinewidth": 0,
              "ticks": ""
             }
            },
            "type": "scatterpolargl"
           }
          ],
          "scatterternary": [
           {
            "marker": {
             "colorbar": {
              "outlinewidth": 0,
              "ticks": ""
             }
            },
            "type": "scatterternary"
           }
          ],
          "surface": [
           {
            "colorbar": {
             "outlinewidth": 0,
             "ticks": ""
            },
            "colorscale": [
             [
              0,
              "#0d0887"
             ],
             [
              0.1111111111111111,
              "#46039f"
             ],
             [
              0.2222222222222222,
              "#7201a8"
             ],
             [
              0.3333333333333333,
              "#9c179e"
             ],
             [
              0.4444444444444444,
              "#bd3786"
             ],
             [
              0.5555555555555556,
              "#d8576b"
             ],
             [
              0.6666666666666666,
              "#ed7953"
             ],
             [
              0.7777777777777778,
              "#fb9f3a"
             ],
             [
              0.8888888888888888,
              "#fdca26"
             ],
             [
              1,
              "#f0f921"
             ]
            ],
            "type": "surface"
           }
          ],
          "table": [
           {
            "cells": {
             "fill": {
              "color": "#EBF0F8"
             },
             "line": {
              "color": "white"
             }
            },
            "header": {
             "fill": {
              "color": "#C8D4E3"
             },
             "line": {
              "color": "white"
             }
            },
            "type": "table"
           }
          ]
         },
         "layout": {
          "annotationdefaults": {
           "arrowcolor": "#2a3f5f",
           "arrowhead": 0,
           "arrowwidth": 1
          },
          "autotypenumbers": "strict",
          "coloraxis": {
           "colorbar": {
            "outlinewidth": 0,
            "ticks": ""
           }
          },
          "colorscale": {
           "diverging": [
            [
             0,
             "#8e0152"
            ],
            [
             0.1,
             "#c51b7d"
            ],
            [
             0.2,
             "#de77ae"
            ],
            [
             0.3,
             "#f1b6da"
            ],
            [
             0.4,
             "#fde0ef"
            ],
            [
             0.5,
             "#f7f7f7"
            ],
            [
             0.6,
             "#e6f5d0"
            ],
            [
             0.7,
             "#b8e186"
            ],
            [
             0.8,
             "#7fbc41"
            ],
            [
             0.9,
             "#4d9221"
            ],
            [
             1,
             "#276419"
            ]
           ],
           "sequential": [
            [
             0,
             "#0d0887"
            ],
            [
             0.1111111111111111,
             "#46039f"
            ],
            [
             0.2222222222222222,
             "#7201a8"
            ],
            [
             0.3333333333333333,
             "#9c179e"
            ],
            [
             0.4444444444444444,
             "#bd3786"
            ],
            [
             0.5555555555555556,
             "#d8576b"
            ],
            [
             0.6666666666666666,
             "#ed7953"
            ],
            [
             0.7777777777777778,
             "#fb9f3a"
            ],
            [
             0.8888888888888888,
             "#fdca26"
            ],
            [
             1,
             "#f0f921"
            ]
           ],
           "sequentialminus": [
            [
             0,
             "#0d0887"
            ],
            [
             0.1111111111111111,
             "#46039f"
            ],
            [
             0.2222222222222222,
             "#7201a8"
            ],
            [
             0.3333333333333333,
             "#9c179e"
            ],
            [
             0.4444444444444444,
             "#bd3786"
            ],
            [
             0.5555555555555556,
             "#d8576b"
            ],
            [
             0.6666666666666666,
             "#ed7953"
            ],
            [
             0.7777777777777778,
             "#fb9f3a"
            ],
            [
             0.8888888888888888,
             "#fdca26"
            ],
            [
             1,
             "#f0f921"
            ]
           ]
          },
          "colorway": [
           "#636efa",
           "#EF553B",
           "#00cc96",
           "#ab63fa",
           "#FFA15A",
           "#19d3f3",
           "#FF6692",
           "#B6E880",
           "#FF97FF",
           "#FECB52"
          ],
          "font": {
           "color": "#2a3f5f"
          },
          "geo": {
           "bgcolor": "white",
           "lakecolor": "white",
           "landcolor": "#E5ECF6",
           "showlakes": true,
           "showland": true,
           "subunitcolor": "white"
          },
          "hoverlabel": {
           "align": "left"
          },
          "hovermode": "closest",
          "mapbox": {
           "style": "light"
          },
          "paper_bgcolor": "white",
          "plot_bgcolor": "#E5ECF6",
          "polar": {
           "angularaxis": {
            "gridcolor": "white",
            "linecolor": "white",
            "ticks": ""
           },
           "bgcolor": "#E5ECF6",
           "radialaxis": {
            "gridcolor": "white",
            "linecolor": "white",
            "ticks": ""
           }
          },
          "scene": {
           "xaxis": {
            "backgroundcolor": "#E5ECF6",
            "gridcolor": "white",
            "gridwidth": 2,
            "linecolor": "white",
            "showbackground": true,
            "ticks": "",
            "zerolinecolor": "white"
           },
           "yaxis": {
            "backgroundcolor": "#E5ECF6",
            "gridcolor": "white",
            "gridwidth": 2,
            "linecolor": "white",
            "showbackground": true,
            "ticks": "",
            "zerolinecolor": "white"
           },
           "zaxis": {
            "backgroundcolor": "#E5ECF6",
            "gridcolor": "white",
            "gridwidth": 2,
            "linecolor": "white",
            "showbackground": true,
            "ticks": "",
            "zerolinecolor": "white"
           }
          },
          "shapedefaults": {
           "line": {
            "color": "#2a3f5f"
           }
          },
          "ternary": {
           "aaxis": {
            "gridcolor": "white",
            "linecolor": "white",
            "ticks": ""
           },
           "baxis": {
            "gridcolor": "white",
            "linecolor": "white",
            "ticks": ""
           },
           "bgcolor": "#E5ECF6",
           "caxis": {
            "gridcolor": "white",
            "linecolor": "white",
            "ticks": ""
           }
          },
          "title": {
           "x": 0.05
          },
          "xaxis": {
           "automargin": true,
           "gridcolor": "white",
           "linecolor": "white",
           "ticks": "",
           "title": {
            "standoff": 15
           },
           "zerolinecolor": "white",
           "zerolinewidth": 2
          },
          "yaxis": {
           "automargin": true,
           "gridcolor": "white",
           "linecolor": "white",
           "ticks": "",
           "title": {
            "standoff": 15
           },
           "zerolinecolor": "white",
           "zerolinewidth": 2
          }
         }
        },
        "title": {
         "font": {
          "color": "blue"
         },
         "text": "Global Food availability in Kcal/people/day ",
         "x": 0.5
        },
        "width": 980
       }
      }
     },
     "metadata": {},
     "output_type": "display_data"
    }
   ],
   "source": [
    "# Creation of a Country Map based on food availability\n",
    "f = px.choropleth(pays_map, \n",
    "                locationmode = \"country names\",\n",
    "                locations = pays_map[\"Country\"],\n",
    "                scope = \"world\",\n",
    "                color = pays_map[\"Kcal/personne/jour\"],\n",
    "                title = \"Global Food availability in Kcal/people/day\",\n",
    "                color_continuous_scale=px.colors.sequential.Plasma)\n",
    "\n",
    "f.update_layout(title_x=0.5, title_font=dict(color=\"blue\"), width = 980, height = 700)\n",
    "f.show()"
   ]
  },
  {
   "cell_type": "code",
   "execution_count": null,
   "id": "5b16cc50",
   "metadata": {},
   "outputs": [],
   "source": []
  }
 ],
 "metadata": {
  "kernelspec": {
   "display_name": "Python 3 (ipykernel)",
   "language": "python",
   "name": "python3"
  },
  "language_info": {
   "codemirror_mode": {
    "name": "ipython",
    "version": 3
   },
   "file_extension": ".py",
   "mimetype": "text/x-python",
   "name": "python",
   "nbconvert_exporter": "python",
   "pygments_lexer": "ipython3",
   "version": "3.9.16"
  }
 },
 "nbformat": 4,
 "nbformat_minor": 5
}
